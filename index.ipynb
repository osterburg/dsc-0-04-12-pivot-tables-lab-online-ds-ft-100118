{
 "cells": [
  {
   "cell_type": "markdown",
   "metadata": {},
   "source": [
    "# Pivot Tables with Pandas - Lab\n",
    "\n",
    "## Introduction\n",
    "\n",
    "In this lab, we'll learn how to make use of our newfound knowledge of pivot tables to work with real-world data.  We'll start by exploring \n",
    "\n",
    "## Objectives\n",
    "\n",
    "You will be able to:\n",
    "\n",
    "* Understand and explain what a multi-level hierarchical index is\n",
    "* Understand, explain the difference and use df.pivot and pd.pivot_table\n",
    "* Switch between “long” and “wide” in a DataFrame using stack() and unstack()\n",
    "* Transform “wide” to “long” DataFrames using `melt`"
   ]
  },
  {
   "cell_type": "markdown",
   "metadata": {},
   "source": [
    "## Getting Started\n",
    "\n",
    "### Import Pandas and Matplotlib.pyplot Using Standard Aliases\n",
    "\n",
    "In the cell below:\n",
    "\n",
    "* Import `pandas` and set the standard alias\n",
    "* Import `matplotlib.pyplot` and set the standard alias\n",
    "* Run the ipython magic command to display matplotlib graphs inline within the notebook"
   ]
  },
  {
   "cell_type": "code",
   "execution_count": 1,
   "metadata": {},
<<<<<<< HEAD
   "outputs": [],
   "source": [
    "import pandas as pd\n",
    "import matplotlib.pyplot as plt\n",
    "%matplotlib inline"
=======
   "outputs": [
    {
     "name": "stderr",
     "output_type": "stream",
     "text": [
      "/opt/conda/lib/python3.6/importlib/_bootstrap.py:219: RuntimeWarning: numpy.dtype size changed, may indicate binary incompatibility. Expected 96, got 88\n",
      "  return f(*args, **kwds)\n",
      "/opt/conda/lib/python3.6/importlib/_bootstrap.py:219: RuntimeWarning: numpy.dtype size changed, may indicate binary incompatibility. Expected 96, got 88\n",
      "  return f(*args, **kwds)\n"
     ]
    },
    {
     "ename": "KeyError",
     "evalue": "'inside'",
     "output_type": "error",
     "traceback": [
      "\u001b[0;31m\u001b[0m",
      "\u001b[0;31mKeyError\u001b[0mTraceback (most recent call last)",
      "\u001b[0;32m<ipython-input-1-7076f1be750a>\u001b[0m in \u001b[0;36m<module>\u001b[0;34m\u001b[0m\n\u001b[1;32m      1\u001b[0m \u001b[0;32mimport\u001b[0m \u001b[0mpandas\u001b[0m \u001b[0;32mas\u001b[0m \u001b[0mpd\u001b[0m\u001b[0;34m\u001b[0m\u001b[0m\n\u001b[1;32m      2\u001b[0m \u001b[0;32mimport\u001b[0m \u001b[0mmatplotlib\u001b[0m\u001b[0;34m.\u001b[0m\u001b[0mpyplot\u001b[0m \u001b[0;32mas\u001b[0m \u001b[0mplt\u001b[0m\u001b[0;34m\u001b[0m\u001b[0m\n\u001b[0;32m----> 3\u001b[0;31m \u001b[0mget_ipython\u001b[0m\u001b[0;34m(\u001b[0m\u001b[0;34m)\u001b[0m\u001b[0;34m.\u001b[0m\u001b[0mrun_line_magic\u001b[0m\u001b[0;34m(\u001b[0m\u001b[0;34m'matplotlib'\u001b[0m\u001b[0;34m,\u001b[0m \u001b[0;34m'inside'\u001b[0m\u001b[0;34m)\u001b[0m\u001b[0;34m\u001b[0m\u001b[0m\n\u001b[0m",
      "\u001b[0;32m/opt/conda/lib/python3.6/site-packages/IPython/core/interactiveshell.py\u001b[0m in \u001b[0;36mrun_line_magic\u001b[0;34m(self, magic_name, line, _stack_depth)\u001b[0m\n\u001b[1;32m   2283\u001b[0m                 \u001b[0mkwargs\u001b[0m\u001b[0;34m[\u001b[0m\u001b[0;34m'local_ns'\u001b[0m\u001b[0;34m]\u001b[0m \u001b[0;34m=\u001b[0m \u001b[0msys\u001b[0m\u001b[0;34m.\u001b[0m\u001b[0m_getframe\u001b[0m\u001b[0;34m(\u001b[0m\u001b[0mstack_depth\u001b[0m\u001b[0;34m)\u001b[0m\u001b[0;34m.\u001b[0m\u001b[0mf_locals\u001b[0m\u001b[0;34m\u001b[0m\u001b[0m\n\u001b[1;32m   2284\u001b[0m             \u001b[0;32mwith\u001b[0m \u001b[0mself\u001b[0m\u001b[0;34m.\u001b[0m\u001b[0mbuiltin_trap\u001b[0m\u001b[0;34m:\u001b[0m\u001b[0;34m\u001b[0m\u001b[0m\n\u001b[0;32m-> 2285\u001b[0;31m                 \u001b[0mresult\u001b[0m \u001b[0;34m=\u001b[0m \u001b[0mfn\u001b[0m\u001b[0;34m(\u001b[0m\u001b[0;34m*\u001b[0m\u001b[0margs\u001b[0m\u001b[0;34m,\u001b[0m\u001b[0;34m**\u001b[0m\u001b[0mkwargs\u001b[0m\u001b[0;34m)\u001b[0m\u001b[0;34m\u001b[0m\u001b[0m\n\u001b[0m\u001b[1;32m   2286\u001b[0m             \u001b[0;32mreturn\u001b[0m \u001b[0mresult\u001b[0m\u001b[0;34m\u001b[0m\u001b[0m\n\u001b[1;32m   2287\u001b[0m \u001b[0;34m\u001b[0m\u001b[0m\n",
      "\u001b[0;32m<decorator-gen-107>\u001b[0m in \u001b[0;36mmatplotlib\u001b[0;34m(self, line)\u001b[0m\n",
      "\u001b[0;32m/opt/conda/lib/python3.6/site-packages/IPython/core/magic.py\u001b[0m in \u001b[0;36m<lambda>\u001b[0;34m(f, *a, **k)\u001b[0m\n\u001b[1;32m    185\u001b[0m     \u001b[0;31m# but it's overkill for just that one bit of state.\u001b[0m\u001b[0;34m\u001b[0m\u001b[0;34m\u001b[0m\u001b[0m\n\u001b[1;32m    186\u001b[0m     \u001b[0;32mdef\u001b[0m \u001b[0mmagic_deco\u001b[0m\u001b[0;34m(\u001b[0m\u001b[0marg\u001b[0m\u001b[0;34m)\u001b[0m\u001b[0;34m:\u001b[0m\u001b[0;34m\u001b[0m\u001b[0m\n\u001b[0;32m--> 187\u001b[0;31m         \u001b[0mcall\u001b[0m \u001b[0;34m=\u001b[0m \u001b[0;32mlambda\u001b[0m \u001b[0mf\u001b[0m\u001b[0;34m,\u001b[0m \u001b[0;34m*\u001b[0m\u001b[0ma\u001b[0m\u001b[0;34m,\u001b[0m \u001b[0;34m**\u001b[0m\u001b[0mk\u001b[0m\u001b[0;34m:\u001b[0m \u001b[0mf\u001b[0m\u001b[0;34m(\u001b[0m\u001b[0;34m*\u001b[0m\u001b[0ma\u001b[0m\u001b[0;34m,\u001b[0m \u001b[0;34m**\u001b[0m\u001b[0mk\u001b[0m\u001b[0;34m)\u001b[0m\u001b[0;34m\u001b[0m\u001b[0m\n\u001b[0m\u001b[1;32m    188\u001b[0m \u001b[0;34m\u001b[0m\u001b[0m\n\u001b[1;32m    189\u001b[0m         \u001b[0;32mif\u001b[0m \u001b[0mcallable\u001b[0m\u001b[0;34m(\u001b[0m\u001b[0marg\u001b[0m\u001b[0;34m)\u001b[0m\u001b[0;34m:\u001b[0m\u001b[0;34m\u001b[0m\u001b[0m\n",
      "\u001b[0;32m/opt/conda/lib/python3.6/site-packages/IPython/core/magics/pylab.py\u001b[0m in \u001b[0;36mmatplotlib\u001b[0;34m(self, line)\u001b[0m\n\u001b[1;32m     97\u001b[0m             \u001b[0mprint\u001b[0m\u001b[0;34m(\u001b[0m\u001b[0;34m\"Available matplotlib backends: %s\"\u001b[0m \u001b[0;34m%\u001b[0m \u001b[0mbackends_list\u001b[0m\u001b[0;34m)\u001b[0m\u001b[0;34m\u001b[0m\u001b[0m\n\u001b[1;32m     98\u001b[0m         \u001b[0;32melse\u001b[0m\u001b[0;34m:\u001b[0m\u001b[0;34m\u001b[0m\u001b[0m\n\u001b[0;32m---> 99\u001b[0;31m             \u001b[0mgui\u001b[0m\u001b[0;34m,\u001b[0m \u001b[0mbackend\u001b[0m \u001b[0;34m=\u001b[0m \u001b[0mself\u001b[0m\u001b[0;34m.\u001b[0m\u001b[0mshell\u001b[0m\u001b[0;34m.\u001b[0m\u001b[0menable_matplotlib\u001b[0m\u001b[0;34m(\u001b[0m\u001b[0margs\u001b[0m\u001b[0;34m.\u001b[0m\u001b[0mgui\u001b[0m\u001b[0;34m)\u001b[0m\u001b[0;34m\u001b[0m\u001b[0m\n\u001b[0m\u001b[1;32m    100\u001b[0m             \u001b[0mself\u001b[0m\u001b[0;34m.\u001b[0m\u001b[0m_show_matplotlib_backend\u001b[0m\u001b[0;34m(\u001b[0m\u001b[0margs\u001b[0m\u001b[0;34m.\u001b[0m\u001b[0mgui\u001b[0m\u001b[0;34m,\u001b[0m \u001b[0mbackend\u001b[0m\u001b[0;34m)\u001b[0m\u001b[0;34m\u001b[0m\u001b[0m\n\u001b[1;32m    101\u001b[0m \u001b[0;34m\u001b[0m\u001b[0m\n",
      "\u001b[0;32m/opt/conda/lib/python3.6/site-packages/IPython/core/interactiveshell.py\u001b[0m in \u001b[0;36menable_matplotlib\u001b[0;34m(self, gui)\u001b[0m\n\u001b[1;32m   3339\u001b[0m         \"\"\"\n\u001b[1;32m   3340\u001b[0m         \u001b[0;32mfrom\u001b[0m \u001b[0mIPython\u001b[0m\u001b[0;34m.\u001b[0m\u001b[0mcore\u001b[0m \u001b[0;32mimport\u001b[0m \u001b[0mpylabtools\u001b[0m \u001b[0;32mas\u001b[0m \u001b[0mpt\u001b[0m\u001b[0;34m\u001b[0m\u001b[0m\n\u001b[0;32m-> 3341\u001b[0;31m         \u001b[0mgui\u001b[0m\u001b[0;34m,\u001b[0m \u001b[0mbackend\u001b[0m \u001b[0;34m=\u001b[0m \u001b[0mpt\u001b[0m\u001b[0;34m.\u001b[0m\u001b[0mfind_gui_and_backend\u001b[0m\u001b[0;34m(\u001b[0m\u001b[0mgui\u001b[0m\u001b[0;34m,\u001b[0m \u001b[0mself\u001b[0m\u001b[0;34m.\u001b[0m\u001b[0mpylab_gui_select\u001b[0m\u001b[0;34m)\u001b[0m\u001b[0;34m\u001b[0m\u001b[0m\n\u001b[0m\u001b[1;32m   3342\u001b[0m \u001b[0;34m\u001b[0m\u001b[0m\n\u001b[1;32m   3343\u001b[0m         \u001b[0;32mif\u001b[0m \u001b[0mgui\u001b[0m \u001b[0;34m!=\u001b[0m \u001b[0;34m'inline'\u001b[0m\u001b[0;34m:\u001b[0m\u001b[0;34m\u001b[0m\u001b[0m\n",
      "\u001b[0;32m/opt/conda/lib/python3.6/site-packages/IPython/core/pylabtools.py\u001b[0m in \u001b[0;36mfind_gui_and_backend\u001b[0;34m(gui, gui_select)\u001b[0m\n\u001b[1;32m    278\u001b[0m     \u001b[0;32mif\u001b[0m \u001b[0mgui\u001b[0m \u001b[0;32mand\u001b[0m \u001b[0mgui\u001b[0m \u001b[0;34m!=\u001b[0m \u001b[0;34m'auto'\u001b[0m\u001b[0;34m:\u001b[0m\u001b[0;34m\u001b[0m\u001b[0m\n\u001b[1;32m    279\u001b[0m         \u001b[0;31m# select backend based on requested gui\u001b[0m\u001b[0;34m\u001b[0m\u001b[0;34m\u001b[0m\u001b[0m\n\u001b[0;32m--> 280\u001b[0;31m         \u001b[0mbackend\u001b[0m \u001b[0;34m=\u001b[0m \u001b[0mbackends\u001b[0m\u001b[0;34m[\u001b[0m\u001b[0mgui\u001b[0m\u001b[0;34m]\u001b[0m\u001b[0;34m\u001b[0m\u001b[0m\n\u001b[0m\u001b[1;32m    281\u001b[0m         \u001b[0;32mif\u001b[0m \u001b[0mgui\u001b[0m \u001b[0;34m==\u001b[0m \u001b[0;34m'agg'\u001b[0m\u001b[0;34m:\u001b[0m\u001b[0;34m\u001b[0m\u001b[0m\n\u001b[1;32m    282\u001b[0m             \u001b[0mgui\u001b[0m \u001b[0;34m=\u001b[0m \u001b[0;32mNone\u001b[0m\u001b[0;34m\u001b[0m\u001b[0m\n",
      "\u001b[0;31mKeyError\u001b[0m: 'inside'"
     ]
    }
   ],
   "source": [
    "import pandas as pd\n",
    "import matplotlib.pyplot as plt\n",
    "%matplotlib inside"
>>>>>>> 51d81f4041290a98102ce71d784d013b8823d784
   ]
  },
  {
   "cell_type": "markdown",
   "metadata": {},
   "source": [
    "## Load the Data\n",
    "The data for this activity is stored in a file called `'causes_of_death.tsv'` which is a somewhat morbid dataset from the center for disease control. Note that the file extension .tsv indicates that this data is formatted slightly differently then the standard .csv, the difference being that it has 'tab seperated values' instead of 'comma seperated values'. As such, pass in the optional parameter `delimiter='\\t'` into the `pd.read_csv()` method."
   ]
  },
  {
   "cell_type": "code",
   "execution_count": 2,
   "metadata": {},
   "outputs": [],
   "source": [
    "df = pd.read_csv('causes_of_death.tsv', delimiter='\\t')"
   ]
  },
  {
   "cell_type": "markdown",
   "metadata": {},
   "source": [
    "Now, display the head of the DataFrame to ensure everything loaded correctly."
   ]
  },
  {
   "cell_type": "code",
   "execution_count": 3,
   "metadata": {},
   "outputs": [
    {
     "data": {
      "text/html": [
       "<div>\n",
       "<style scoped>\n",
       "    .dataframe tbody tr th:only-of-type {\n",
       "        vertical-align: middle;\n",
       "    }\n",
       "\n",
       "    .dataframe tbody tr th {\n",
       "        vertical-align: top;\n",
       "    }\n",
       "\n",
       "    .dataframe thead th {\n",
       "        text-align: right;\n",
       "    }\n",
       "</style>\n",
       "<table border=\"1\" class=\"dataframe\">\n",
       "  <thead>\n",
       "    <tr style=\"text-align: right;\">\n",
       "      <th></th>\n",
       "      <th>Notes</th>\n",
       "      <th>State</th>\n",
       "      <th>State Code</th>\n",
       "      <th>Ten-Year Age Groups</th>\n",
       "      <th>Ten-Year Age Groups Code</th>\n",
       "      <th>Gender</th>\n",
       "      <th>Gender Code</th>\n",
       "      <th>Race</th>\n",
       "      <th>Race Code</th>\n",
       "      <th>Deaths</th>\n",
       "      <th>Population</th>\n",
       "      <th>Crude Rate</th>\n",
       "    </tr>\n",
       "  </thead>\n",
       "  <tbody>\n",
       "    <tr>\n",
       "      <th>0</th>\n",
       "      <td>NaN</td>\n",
       "      <td>Alabama</td>\n",
       "      <td>1</td>\n",
       "      <td>&lt; 1 year</td>\n",
       "      <td>1</td>\n",
       "      <td>Female</td>\n",
       "      <td>F</td>\n",
       "      <td>American Indian or Alaska Native</td>\n",
       "      <td>1002-5</td>\n",
       "      <td>14</td>\n",
       "      <td>3579</td>\n",
       "      <td>Unreliable</td>\n",
       "    </tr>\n",
       "    <tr>\n",
       "      <th>1</th>\n",
       "      <td>NaN</td>\n",
       "      <td>Alabama</td>\n",
       "      <td>1</td>\n",
       "      <td>&lt; 1 year</td>\n",
       "      <td>1</td>\n",
       "      <td>Female</td>\n",
       "      <td>F</td>\n",
       "      <td>Asian or Pacific Islander</td>\n",
       "      <td>A-PI</td>\n",
       "      <td>24</td>\n",
       "      <td>7443</td>\n",
       "      <td>322.5</td>\n",
       "    </tr>\n",
       "    <tr>\n",
       "      <th>2</th>\n",
       "      <td>NaN</td>\n",
       "      <td>Alabama</td>\n",
       "      <td>1</td>\n",
       "      <td>&lt; 1 year</td>\n",
       "      <td>1</td>\n",
       "      <td>Female</td>\n",
       "      <td>F</td>\n",
       "      <td>Black or African American</td>\n",
       "      <td>2054-5</td>\n",
       "      <td>2093</td>\n",
       "      <td>169339</td>\n",
       "      <td>1236.0</td>\n",
       "    </tr>\n",
       "    <tr>\n",
       "      <th>3</th>\n",
       "      <td>NaN</td>\n",
       "      <td>Alabama</td>\n",
       "      <td>1</td>\n",
       "      <td>&lt; 1 year</td>\n",
       "      <td>1</td>\n",
       "      <td>Female</td>\n",
       "      <td>F</td>\n",
       "      <td>White</td>\n",
       "      <td>2106-3</td>\n",
       "      <td>2144</td>\n",
       "      <td>347921</td>\n",
       "      <td>616.2</td>\n",
       "    </tr>\n",
       "    <tr>\n",
       "      <th>4</th>\n",
       "      <td>NaN</td>\n",
       "      <td>Alabama</td>\n",
       "      <td>1</td>\n",
       "      <td>&lt; 1 year</td>\n",
       "      <td>1</td>\n",
       "      <td>Male</td>\n",
       "      <td>M</td>\n",
       "      <td>Asian or Pacific Islander</td>\n",
       "      <td>A-PI</td>\n",
       "      <td>33</td>\n",
       "      <td>7366</td>\n",
       "      <td>448.0</td>\n",
       "    </tr>\n",
       "  </tbody>\n",
       "</table>\n",
       "</div>"
      ],
      "text/plain": [
       "   Notes    State  State Code Ten-Year Age Groups Ten-Year Age Groups Code  \\\n",
       "0    NaN  Alabama           1            < 1 year                        1   \n",
       "1    NaN  Alabama           1            < 1 year                        1   \n",
       "2    NaN  Alabama           1            < 1 year                        1   \n",
       "3    NaN  Alabama           1            < 1 year                        1   \n",
       "4    NaN  Alabama           1            < 1 year                        1   \n",
       "\n",
       "   Gender Gender Code                              Race Race Code  Deaths  \\\n",
       "0  Female           F  American Indian or Alaska Native    1002-5      14   \n",
       "1  Female           F         Asian or Pacific Islander      A-PI      24   \n",
       "2  Female           F         Black or African American    2054-5    2093   \n",
       "3  Female           F                             White    2106-3    2144   \n",
       "4    Male           M         Asian or Pacific Islander      A-PI      33   \n",
       "\n",
       "  Population  Crude Rate  \n",
       "0       3579  Unreliable  \n",
       "1       7443       322.5  \n",
       "2     169339      1236.0  \n",
       "3     347921       616.2  \n",
       "4       7366       448.0  "
      ]
     },
     "execution_count": 3,
     "metadata": {},
     "output_type": "execute_result"
    }
   ],
   "source": [
    "df.head()"
   ]
  },
  {
   "cell_type": "markdown",
   "metadata": {},
   "source": [
    "Our data is currently in **_Wide_** format.  We can tidy this up by converting it to **_Long_** format by using groupby statements to aggregate our data into a much neater, more readable format. \n",
    "\n",
    "# Groupby Aggregations\n",
    "\n",
    "Complete the following groupby statements."
   ]
  },
  {
   "cell_type": "markdown",
   "metadata": {},
   "source": [
    "# 1) Groupby State and Gender. Sum the values."
   ]
  },
  {
   "cell_type": "code",
   "execution_count": 4,
   "metadata": {},
   "outputs": [
    {
     "data": {
      "text/html": [
       "<div>\n",
       "<style scoped>\n",
       "    .dataframe tbody tr th:only-of-type {\n",
       "        vertical-align: middle;\n",
       "    }\n",
       "\n",
       "    .dataframe tbody tr th {\n",
       "        vertical-align: top;\n",
       "    }\n",
       "\n",
       "    .dataframe thead th {\n",
       "        text-align: right;\n",
       "    }\n",
       "</style>\n",
       "<table border=\"1\" class=\"dataframe\">\n",
       "  <thead>\n",
       "    <tr style=\"text-align: right;\">\n",
       "      <th></th>\n",
       "      <th></th>\n",
       "      <th>Notes</th>\n",
       "      <th>State Code</th>\n",
       "      <th>Deaths</th>\n",
       "    </tr>\n",
       "    <tr>\n",
       "      <th>State</th>\n",
       "      <th>Gender</th>\n",
       "      <th></th>\n",
       "      <th></th>\n",
       "      <th></th>\n",
       "    </tr>\n",
       "  </thead>\n",
       "  <tbody>\n",
       "    <tr>\n",
       "      <th rowspan=\"2\" valign=\"top\">Alabama</th>\n",
       "      <th>Female</th>\n",
       "      <td>0.0</td>\n",
       "      <td>40</td>\n",
       "      <td>430133</td>\n",
       "    </tr>\n",
       "    <tr>\n",
       "      <th>Male</th>\n",
       "      <td>0.0</td>\n",
       "      <td>41</td>\n",
       "      <td>430647</td>\n",
       "    </tr>\n",
       "    <tr>\n",
       "      <th rowspan=\"2\" valign=\"top\">Alaska</th>\n",
       "      <th>Female</th>\n",
       "      <td>0.0</td>\n",
       "      <td>80</td>\n",
       "      <td>27199</td>\n",
       "    </tr>\n",
       "    <tr>\n",
       "      <th>Male</th>\n",
       "      <td>0.0</td>\n",
       "      <td>84</td>\n",
       "      <td>36135</td>\n",
       "    </tr>\n",
       "    <tr>\n",
       "      <th>Arizona</th>\n",
       "      <th>Female</th>\n",
       "      <td>0.0</td>\n",
       "      <td>180</td>\n",
       "      <td>396028</td>\n",
       "    </tr>\n",
       "  </tbody>\n",
       "</table>\n",
       "</div>"
      ],
      "text/plain": [
       "                Notes  State Code  Deaths\n",
       "State   Gender                           \n",
       "Alabama Female    0.0          40  430133\n",
       "        Male      0.0          41  430647\n",
       "Alaska  Female    0.0          80   27199\n",
       "        Male      0.0          84   36135\n",
       "Arizona Female    0.0         180  396028"
      ]
     },
     "execution_count": 4,
     "metadata": {},
     "output_type": "execute_result"
    }
   ],
   "source": [
    "# Your code here\n",
    "df.groupby(['State', 'Gender']).sum().head()"
   ]
  },
  {
   "cell_type": "markdown",
   "metadata": {},
   "source": [
    "# 2) Groupby State and Gender and Race. Find the average values."
   ]
  },
  {
   "cell_type": "code",
   "execution_count": 5,
   "metadata": {},
   "outputs": [
    {
     "data": {
      "text/html": [
       "<div>\n",
       "<style scoped>\n",
       "    .dataframe tbody tr th:only-of-type {\n",
       "        vertical-align: middle;\n",
       "    }\n",
       "\n",
       "    .dataframe tbody tr th {\n",
       "        vertical-align: top;\n",
       "    }\n",
       "\n",
       "    .dataframe thead th {\n",
       "        text-align: right;\n",
       "    }\n",
       "</style>\n",
       "<table border=\"1\" class=\"dataframe\">\n",
       "  <thead>\n",
       "    <tr style=\"text-align: right;\">\n",
       "      <th></th>\n",
       "      <th></th>\n",
       "      <th></th>\n",
       "      <th>Notes</th>\n",
       "      <th>State Code</th>\n",
       "      <th>Deaths</th>\n",
       "    </tr>\n",
       "    <tr>\n",
       "      <th>State</th>\n",
       "      <th>Gender</th>\n",
       "      <th>Race</th>\n",
       "      <th></th>\n",
       "      <th></th>\n",
       "      <th></th>\n",
       "    </tr>\n",
       "  </thead>\n",
       "  <tbody>\n",
       "    <tr>\n",
       "      <th rowspan=\"5\" valign=\"top\">Alabama</th>\n",
       "      <th rowspan=\"4\" valign=\"top\">Female</th>\n",
       "      <th>American Indian or Alaska Native</th>\n",
       "      <td>NaN</td>\n",
       "      <td>1.0</td>\n",
       "      <td>70.875000</td>\n",
       "    </tr>\n",
       "    <tr>\n",
       "      <th>Asian or Pacific Islander</th>\n",
       "      <td>NaN</td>\n",
       "      <td>1.0</td>\n",
       "      <td>95.500000</td>\n",
       "    </tr>\n",
       "    <tr>\n",
       "      <th>Black or African American</th>\n",
       "      <td>NaN</td>\n",
       "      <td>1.0</td>\n",
       "      <td>9074.000000</td>\n",
       "    </tr>\n",
       "    <tr>\n",
       "      <th>White</th>\n",
       "      <td>NaN</td>\n",
       "      <td>1.0</td>\n",
       "      <td>29890.636364</td>\n",
       "    </tr>\n",
       "    <tr>\n",
       "      <th>Male</th>\n",
       "      <th>American Indian or Alaska Native</th>\n",
       "      <td>NaN</td>\n",
       "      <td>1.0</td>\n",
       "      <td>86.375000</td>\n",
       "    </tr>\n",
       "  </tbody>\n",
       "</table>\n",
       "</div>"
      ],
      "text/plain": [
       "                                                 Notes  State Code  \\\n",
       "State   Gender Race                                                  \n",
       "Alabama Female American Indian or Alaska Native    NaN         1.0   \n",
       "               Asian or Pacific Islander           NaN         1.0   \n",
       "               Black or African American           NaN         1.0   \n",
       "               White                               NaN         1.0   \n",
       "        Male   American Indian or Alaska Native    NaN         1.0   \n",
       "\n",
       "                                                       Deaths  \n",
       "State   Gender Race                                            \n",
       "Alabama Female American Indian or Alaska Native     70.875000  \n",
       "               Asian or Pacific Islander            95.500000  \n",
       "               Black or African American          9074.000000  \n",
       "               White                             29890.636364  \n",
       "        Male   American Indian or Alaska Native     86.375000  "
      ]
     },
     "execution_count": 5,
     "metadata": {},
     "output_type": "execute_result"
    }
   ],
   "source": [
    "# Your code here\n",
    "df.groupby(['State', 'Gender', 'Race']).mean().head()"
   ]
  },
  {
   "cell_type": "markdown",
   "metadata": {},
   "source": [
    "# 3) Groupby Gender and Race. Find the minimum values."
   ]
  },
  {
   "cell_type": "code",
   "execution_count": 6,
   "metadata": {},
   "outputs": [
    {
     "data": {
      "text/html": [
       "<div>\n",
       "<style scoped>\n",
       "    .dataframe tbody tr th:only-of-type {\n",
       "        vertical-align: middle;\n",
       "    }\n",
       "\n",
       "    .dataframe tbody tr th {\n",
       "        vertical-align: top;\n",
       "    }\n",
       "\n",
       "    .dataframe thead th {\n",
       "        text-align: right;\n",
       "    }\n",
       "</style>\n",
       "<table border=\"1\" class=\"dataframe\">\n",
       "  <thead>\n",
       "    <tr style=\"text-align: right;\">\n",
       "      <th></th>\n",
       "      <th></th>\n",
       "      <th>Notes</th>\n",
       "      <th>State</th>\n",
       "      <th>State Code</th>\n",
       "      <th>Ten-Year Age Groups</th>\n",
       "      <th>Ten-Year Age Groups Code</th>\n",
       "      <th>Gender Code</th>\n",
       "      <th>Race Code</th>\n",
       "      <th>Deaths</th>\n",
       "      <th>Population</th>\n",
       "      <th>Crude Rate</th>\n",
       "    </tr>\n",
       "    <tr>\n",
       "      <th>Gender</th>\n",
       "      <th>Race</th>\n",
       "      <th></th>\n",
       "      <th></th>\n",
       "      <th></th>\n",
       "      <th></th>\n",
       "      <th></th>\n",
       "      <th></th>\n",
       "      <th></th>\n",
       "      <th></th>\n",
       "      <th></th>\n",
       "      <th></th>\n",
       "    </tr>\n",
       "  </thead>\n",
       "  <tbody>\n",
       "    <tr>\n",
       "      <th rowspan=\"4\" valign=\"top\">Female</th>\n",
       "      <th>American Indian or Alaska Native</th>\n",
       "      <td>NaN</td>\n",
       "      <td>Alabama</td>\n",
       "      <td>1</td>\n",
       "      <td>1-4 years</td>\n",
       "      <td>1</td>\n",
       "      <td>F</td>\n",
       "      <td>1002-5</td>\n",
       "      <td>10</td>\n",
       "      <td>100285</td>\n",
       "      <td>10.4</td>\n",
       "    </tr>\n",
       "    <tr>\n",
       "      <th>Asian or Pacific Islander</th>\n",
       "      <td>NaN</td>\n",
       "      <td>Alabama</td>\n",
       "      <td>1</td>\n",
       "      <td>1-4 years</td>\n",
       "      <td>1</td>\n",
       "      <td>F</td>\n",
       "      <td>A-PI</td>\n",
       "      <td>10</td>\n",
       "      <td>100371</td>\n",
       "      <td>10.1</td>\n",
       "    </tr>\n",
       "    <tr>\n",
       "      <th>Black or African American</th>\n",
       "      <td>NaN</td>\n",
       "      <td>Alabama</td>\n",
       "      <td>1</td>\n",
       "      <td>1-4 years</td>\n",
       "      <td>1</td>\n",
       "      <td>F</td>\n",
       "      <td>2054-5</td>\n",
       "      <td>10</td>\n",
       "      <td>100170</td>\n",
       "      <td>100.3</td>\n",
       "    </tr>\n",
       "    <tr>\n",
       "      <th>White</th>\n",
       "      <td>NaN</td>\n",
       "      <td>Alabama</td>\n",
       "      <td>1</td>\n",
       "      <td>1-4 years</td>\n",
       "      <td>1</td>\n",
       "      <td>F</td>\n",
       "      <td>2106-3</td>\n",
       "      <td>12</td>\n",
       "      <td>1000704</td>\n",
       "      <td>10.1</td>\n",
       "    </tr>\n",
       "    <tr>\n",
       "      <th>Male</th>\n",
       "      <th>American Indian or Alaska Native</th>\n",
       "      <td>NaN</td>\n",
       "      <td>Alabama</td>\n",
       "      <td>1</td>\n",
       "      <td>1-4 years</td>\n",
       "      <td>1</td>\n",
       "      <td>M</td>\n",
       "      <td>1002-5</td>\n",
       "      <td>10</td>\n",
       "      <td>1001</td>\n",
       "      <td>10000.0</td>\n",
       "    </tr>\n",
       "  </tbody>\n",
       "</table>\n",
       "</div>"
      ],
      "text/plain": [
       "                                         Notes    State  State Code  \\\n",
       "Gender Race                                                           \n",
       "Female American Indian or Alaska Native    NaN  Alabama           1   \n",
       "       Asian or Pacific Islander           NaN  Alabama           1   \n",
       "       Black or African American           NaN  Alabama           1   \n",
       "       White                               NaN  Alabama           1   \n",
       "Male   American Indian or Alaska Native    NaN  Alabama           1   \n",
       "\n",
       "                                        Ten-Year Age Groups  \\\n",
       "Gender Race                                                   \n",
       "Female American Indian or Alaska Native           1-4 years   \n",
       "       Asian or Pacific Islander                  1-4 years   \n",
       "       Black or African American                  1-4 years   \n",
       "       White                                      1-4 years   \n",
       "Male   American Indian or Alaska Native           1-4 years   \n",
       "\n",
       "                                        Ten-Year Age Groups Code Gender Code  \\\n",
       "Gender Race                                                                    \n",
       "Female American Indian or Alaska Native                        1           F   \n",
       "       Asian or Pacific Islander                               1           F   \n",
       "       Black or African American                               1           F   \n",
       "       White                                                   1           F   \n",
       "Male   American Indian or Alaska Native                        1           M   \n",
       "\n",
       "                                        Race Code  Deaths Population  \\\n",
       "Gender Race                                                            \n",
       "Female American Indian or Alaska Native    1002-5      10     100285   \n",
       "       Asian or Pacific Islander             A-PI      10     100371   \n",
       "       Black or African American           2054-5      10     100170   \n",
       "       White                               2106-3      12    1000704   \n",
       "Male   American Indian or Alaska Native    1002-5      10       1001   \n",
       "\n",
       "                                        Crude Rate  \n",
       "Gender Race                                         \n",
       "Female American Indian or Alaska Native       10.4  \n",
       "       Asian or Pacific Islander              10.1  \n",
       "       Black or African American             100.3  \n",
       "       White                                  10.1  \n",
       "Male   American Indian or Alaska Native    10000.0  "
      ]
     },
     "execution_count": 6,
     "metadata": {},
     "output_type": "execute_result"
    }
   ],
   "source": [
    "# Your code here\n",
    "df.groupby(['Gender', 'Race']).min().head()"
   ]
  },
  {
   "cell_type": "markdown",
   "metadata": {},
   "source": [
    "## 4) Create a bar chart of the total number of deaths by state.\n",
    "* Sort your columns in order (ascending or descending are both acceptable).  \n",
    "* Also make sure to include a title, axes labels and have your graph be an appropriate size.\n",
    "\n",
    "**_NOTE:_** In order to do this, slice the `Deaths` column after the `.groupby()` method, but before the `sum()` method.  You can even chain the `.plot()` call on after the `sum()` call and do this all on one line, excluding the labeling of the graph!"
   ]
  },
  {
   "cell_type": "code",
   "execution_count": 8,
   "metadata": {},
   "outputs": [
    {
     "data": {
      "image/png": "iVBORw0KGgoAAAANSUhEUgAABAYAAALJCAYAAAAnNCGCAAAABHNCSVQICAgIfAhkiAAAAAlwSFlzAAALEgAACxIB0t1+/AAAADl0RVh0U29mdHdhcmUAbWF0cGxvdGxpYiB2ZXJzaW9uIDMuMC4wLCBodHRwOi8vbWF0cGxvdGxpYi5vcmcvqOYd8AAAIABJREFUeJzs3WmYXVWZt/H7DwghBEEEkUFI2yBCGAIcsEVAQOVtFQcUQUUEbI14ObzYrd2+2iq0rWIrooiIUZkUFEFExQFkRsJUYQozitAIgsQIEsKYPO+HvQuOZSWVFJVUUuf+XVddZ5+11/DsHT6wn7PW2qkqJEmSJElSb1putAOQJEmSJEmjx8SAJEmSJEk9zMSAJEmSJEk9zMSAJEmSJEk9zMSAJEmSJEk9zMSAJEmSJEk9zMSAJElaqiWpJBs9wz4mtv2sMFJxSZI0VpgYkCRJCy3JHUkeSfJQkgeSTEtyUJIR+X+KJBckefdI9LW4JFk9ybFJ7m3vw61JPtZ1fpESGcvCNUuSxjaz5pIkaVG9rqrOSbIa8HLgq8BLgANHN6wl5ghgFWBT4EHgRcDmoxqRJEnPgDMGJEnSsFTVg1X1U2AfYP8kmwMkWSnJl5L8b5L7khyTZOX23HOSnJnk/iR/aY/Xb899FtgJOCrJ7CRHdQ33yiS3tbMUvp4kbZuNklyY5MEkM5OcMkTY70pyT5I/JvlI28fzk8xJ8tz+Skm2aWN81iB9bAecXFV/qap5VXVzVZ3WtruorXNtew37DOeak7w4ya+TzEpyS5K9F/ofRpKkRWRiQJIkPSNVdQXwB5oHXIDDaH5FnwxsBKwHfKo9txxwHLAhsAHwCHBU288ngIuBD1TVhKr6QNcwe9A8kG8J7A38n7b8M8DZwHOA9YGvDRHursDGwO7AfyR5ZVXdC1zQ9ttvP+AHVfXEIH1cBnw2yYFJNh5wL3ZuD7dqr+GURb3mJKsAvwZOBp4HvBU4OslmQ1ybJEnDYmJAkiSNhHuANdpf8qcAH66qWVX1EPA5modbqurPVfWjqprTnvsszXKEoRxWVQ9U1f8C59MkHQCeoHngXreqHq2q3wzRz6FV9XBVzaB5WH9bW34C8A6AJMu35d+dTx8fBE4CPgDcmOS3SV49vwGHcc17AHdU1XFV9WRVXQ38CHjLENcmSdKwmBiQJEkjYT1gFrAWMB6Y3k77fwD4VVtOkvFJvpnkziR/BS4CVm8fxhfk3q7jOcCE9vjfgQBXJLkhybuG6OeuruM7gXXb458AmyX5B+BVwIPtTIi/U1WPVNXnqmpb4LnAD4FTk6wxWP1hXPOGwEv67197D/cFnj/EtUmSNCwmBiRJ0jOSZDuaxMBvgJk0U+UnVdXq7d9qVdX/IP9vwCbAS6rq2UD/1Pu0n7UoY1fVvVX1nqpaF3gvzZT7Bb0R4AVdxxvQzHSgqh6lecB/B80ygvnNFhg4/l9pZkSsAvzDfKot6jXfBVzYdf9Wb5cZvG9hYpIkaVGZGJAkScOS5NlJ9gB+AHyvqmZU1TzgW8ARSZ7X1lsvSf+eAKvSJA4eaH9h//SAbu8DXrgIMbylfyM/4C80D9nzFtDkk+0v+JNo3qLQvVnhicABwOtZQGIgySeTbJdkxSTjgP8LPADcMp9rWNRrPhN4UZL9kjyr/dsuyaYLuC5JkobNxIAkSVpUP0vyEM0v258AvszfvqrwP4DfApe1U+fPofnFHOArwMo0Mwsuo1lm0O2rwF7t7v1HLkQs2wGXJ5kN/BT4v1V1+wLqX9jGdi7wpao6u/9EVV1Ck1S4qqruXEAfRbM/wUyaGQevAl5bVbPb84cAJ7TLAPZe1Gtu9yHYnWZfhntollF8AVhpgXdCkqRhStUizdiTJEkas5KcR/Mqwm+PdiySJC0pJgYkSZJ4aq+EXwMvaH+1lySpJ7iUQJIk9bwkJ9AseTjYpIAkqdc4Y0CSJEmSpB7mjAFJkiRJknrYCqMdgEbPmmuuWRMnThztMCRJkiRJi8H06dNnVtVaQ9UzMdDDJk6cSF9f32iHIUmSJElaDJIs6PW7T3EpgSRJkiRJPczEgCRJkiRJPcylBAspyRHAnVX1lfb7WcBdVfXu9vvhwN1V9eXFMPZ/ARdV1Tkj2e/jd8/mDx+7eFht1z9sp5EMRZIkSZI0SpwxsPAuAXYASLIcsCYwqev8DsC0xTFwVX1qpJMCkiRJkiSBiYFFMQ14aXs8CbgeeCjJc5KsBGwKfCjJG/sbJDkpyRuSjEtyXJIZSa5Osmt7/oAkZyT5dZI7knwgyb+2dS5LskZb7/gke7XHdyQ5NMlVbX8vbsvXavu5Icm3k9yZZM0ld3skSZIkScsiEwMLqaruAZ5MsgHN7IBLgctpkgUdYAbwTeAAgCSrtfV+Dry/6aK2AN4GnJBkXNv15sCbgO2AzwJzqmrrtv93ziecmVW1DfAN4CNt2aeB86pqEnAasMFgDZNMSdKXpG/WnAeGcyskSZIkSWOIiYFFM43mYb8/MXBp1/dLqupCYOMka9EkAH5UVU8COwLfA6iqm4E7gRe1fZ5fVQ9V1f3Ag8DP2vIZwMT5xHF6+zm9q86OwA/aMX4F/GWwhlU1tao6VdVZY/zqi3TxkiRJkqSxx8TAounfZ2ALmqUEl9HMGOjeX+BE4B3AgcCxC9HnY13H87q+z2P+m0P215m7gDqSJEmSJA3Jh8pFM41m6v7tVTUXmJVkdZo9B97T1jkeuAK4t6pubMsuBvYFzkvyIppp/rcA24xgbJcAewNfSLI78JyhGqy43gTfLiBJkiRJPc4ZA4tmBs3bCC4bUPZgVc0EqKr7gJuA47rqHA0sl2QGcApwQFV1zxQYCYcCuye5HngLcC/w0AiPIUmSJEkaY1JVox3DmJJkPE2yYJuqenAJjrsSMLeqnkzyUuAbVTV5QW06nU719fUtmQAlSZIkSUtUkulV1RmqnksJRlCSVwLfAY5YkkmB1gbAD5MsBzzO00sbJEmSJEmaLxMDI6iqzgE2HKWxbwO2Ho2xJUmSJEnLLvcYkCRJkiSphzljYD6SHAHcWVVfab+fBdxVVe9uvx8O/JlmL4G9RinGXwBvr6oHhtP+vtt/y+H77DHCUUkj699OOXO0Q5AkSZLGNGcMzN8lwA4A7br9NWleS9hvB+C80UoKAFTVa4abFJAkSZIkCUwMLMg04KXt8STgeuChJM9p3wCwKTCrfT0gSSYluSLJNUmuS7JxW/7O9vu1Sb7blk1Mcl5bfm6SDdry45McmWRaktuT7NWWr5Pkorbv65Ps1JbfkWTNtr+bknwryQ1Jzk6y8pK8WZIkSZKkZZOJgfmoqnuAJ9uH9h2AS4HLaZIFHZpXEj7e1eQg4KvtKwI7wB+STAL+E9itqrYC/m9b92vACVW1JXAScGRXP+sAOwJ7AIe1ZW8Hzmr73gq4ZpCQNwa+XlWTgAeANz+Dy5ckSZIk9Qj3GFiwaTRJgR2ALwPrtccP0iw16HYp8Ikk6wOnV9VtSXYDTq2qmQBVNaut+1LgTe3xd4H/6ernjKqaB9yYZO227Erg2CTPas8Plhj4fVf5dGDiYBeUZAowBeA5451UIEmSJEm9zhkDC9a/z8AWNEsJLqN5qN+BJmnwlKo6GXg98AjwizYpMByPdR2n7fsiYGfgbuD4JO8cot1c5pP0qaqpVdWpqs4qK604zBAlSZIkSWOFiYEFm0YzpX9WVc1tf/FfnSY58DeJgSQvBG6vqiOBnwBbAucBb0ny3LbOGl39vrU93he4eEFBJNkQuK+qvgV8G9hmBK5NkiRJkiSXEgxhBs3bCE4eUDahqmYmmdBVvjewX5IngHuBz1XVrCSfBS5MMhe4GjgA+CBwXJKPAvcDBw4Rxy7AR9u+ZwODzRhYZGu/cCNfBSdJkiRJPS5VNdoxaJR0Op3q6+sb7TAkSZIkSYtBkulV1RmqnksJJEmSJEnqYSYGJEmSJEnqYSYGJEmSJEnqYSYGJEmSJEnqYWPyrQRJjgDurKqvtN/PAu6qqne33w8H7q6qLy9ivwcDU6tqzoDyTwPjqur/dZVNBr5fVZsm+QXw9qp6YBHGOgiYU1UnLqBOB3hnVX1oUa6j35/ufIivH3TecJr2pPcfs9tohyBJkiRJI26szhi4BNgBIMlyNK8cnNR1fgdg2jD6PRgYP0j594F9BpS9tS2nql4zMCmQxnzvf1Uds6CkQFunb7hJAUmSJEmSYOwmBqYBL22PJwHXAw8leU6SlYBNgasAknw0yZVJrktyaFu2SpKfJ7k2yfVJ9knyIWBd4Pwk53cPVlW3An9J8pKu4r1pEwNJ7kiyZpKJSW5JcmIb0wuS/EuSW5NckeRbSY5q2xyS5CPt8QVJvtDWuTXJTm35LknObI+3T3JpkquTTEuyyYjfVUmSJEnSmDMmlxJU1T1JnkyyAc3sgEuB9WiSBQ8CM6rq8SS7AxsD2wMBfppkZ2At4J6qei1AktWq6sEk/wrsWlUzBxn2+zSzBC5P8k/ArKq6bZB6GwP7V9VlSdYFPglsAzwEnAdcO5/LWqGqtk/yGuDTwCsHnL8Z2KmqnkzySuBzwJsHdpJkCjAF4DkTnjefoSRJkiRJvWKszhiAZtbADjydGLi06/slbZ3d27+raWYQvJjmwX0G8Kr2V/qdqurBhRjvFGCvdnnAU8sIBnFnVV3WHm8PXFhVs6rqCeDUBfR/evs5HZg4yPnVgFOTXA8cwd8unXhKVU2tqk5VdSaMW32BFyRJkiRJGvvG5IyBVv8+A1vQTNu/C/g34K/AcW2dAJ+vqm8ObJxkG+A1wH8nObeq/mtBg1XVXUl+D7yc5pf6l86n6sPDuBaAx9rPuQz+7/YZ4Pyq2jPJROCCYY4jSZIkSeohY33GwB40U/rnVtUsYHWaB/b+jQfPAt6VZAJAkvWSPK+d4j+nqr4HfJFmqj800/1XXcCY36f5tf72qvrDQsR4JfDydu+DFRhk6v8iWA24uz0+4Bn0I0mSJEnqIWN5xsAMmrcRnDygbEL/HgFVdXaSTYFLkwDMBt4BbAR8Mck84AngfW37qcCvktxTVbsOMuapwJHABxcmwKq6O8nngCuAWTT7BCzMsoXB/A9wQpL/BH6+MA2et+GqvoJPkiRJknpcqmq0Y+hpSSZU1ex2xsCPgWOr6sdLYuxOp1N9fX1LYihJkiRJ0hKWZHpVdYaqN5aXEiwrDklyDc0+CL8HzhjleCRJkiRJPWQsLyVYJlTVR0Y7BkmSJElS73LGgCRJkiRJPczEgCRJkiRJPawnlxIkOQK4s6q+0n4/C7irqt7dfj8cuLuqvrwIfd4BdPrfeNBV/npgs6o6bJixHgxMrao5w2m/II9efwM3vXjTke5WGnGb3nzTaIcgSZIkjVm9OmPgEmAHgCTL0bzWcFLX+R2AaSMxUFX9dLhJgdbBwPiRiEWSJEmSpIF6NTEwDXhpezyJ5o0ADyV5TpKVgE2BG5Ocm+SqJDOSvAEgySpJfp7k2iTXJ9mnq98PdtV/cVv/gCRHtcfHJzkyybQktyfZqy1fLsnRSW5O8uskv0iyV5IPAesC5yc5v637trb/65N8oX/gJLOTfLaN67Ikay/WOyhJkiRJGhN6MjFQVfcATybZgGZ2wKXA5TTJgg4wA5gD7FlV2wC7AocnCfDPwD1VtVVVbQ78qqvrmW39bwDze9vAOsCOwB5A/0yCNwETgc2A/do4qKojgXuAXatq1yTrAl8AdgMmA9sleWPbxyrAZVW1FXAR8J7BBk8yJUlfkr5Zc59cqPslSZIkSRq7ejIx0JpGkxToTwxc2vX9EiDA55JcB5wDrAesTZM0eFWSLyTZqaoe7Orz9PZzOs2D/mDOqKp5VXVj2x80iYJT2/J7gfPn03Y74IKqur+qngROAnZuzz0OnDnU+FU1tao6VdVZY/me3GJCkiRJktSllxMD/fsMbEGzlOAyml/q+/cX2BdYC9i2qiYD9wHjqupWYBuaBMF/J/lUV5+PtZ9zmf/Gjo91HWdkLgWAJ6qqFmJ8SZIkSZKe0ssPj9NopvvfXlVzgVlJVqfZc+A9NImBP1XVE0l2BTYEaKfzz6qq7yV5AHj3CMRyCbB/khNokhG7ACe35x4CVgVmAlcARyZZE/gL8Dbga8MddNzmk9i0r+8ZhC1JkiRJWtb1cmJgBs3bCE4eUDahqmYmOQn4WZIZQB9wc1tnC+CLSeYBTwDvG4FYfgS8ArgRuAu4CuhfojAV+FWSe9p9Bj5Gs9QgwM+r6icjML4kSZIkqUfl6dnnGk1JJlTV7CTPpZkZ8LJ2v4HFptPpVJ8zBiRJkiRpTEoyvao6Q9Xr5RkDS5sz26UMKwKfWdxJAUmSJEmSwMTAUqOqdhntGCRJkiRJvaeX30ogSZIkSVLPMzEgSZIkSVIPcynBCElyPnBYVZ3VVXYwsBWwalXttYj9fRv4clXduIA6BwFzqurE4cR8w59vYIsTthhOU0kDzNh/xmiHIEmSJA2LiYGR833grcBZXWVvBf69qi4aWDnJClX15Pw6q6p3DzVgVR0znEAlSZIkSernUoKRcxrw2iQrAiSZCKwL3JXk+rbsgCQ/TXIecG6S5ZIcneTmJL9O8oske7V1L0jSaY9nJ/lskmuTXJZk7bb8kCQfaY/fk+TKts6Pkoxf0jdAkiRJkrTsMTEwQqpqFnAF8Oq26K3AD4EaUHUbYK+qejnwJmAisBmwH/DS+XS/CnBZVW0FXAS8Z5A6p1fVdm2dm4B/GayjJFOS9CXpm/vQ3IW9PEmSJEnSGGViYGT1Lyeg/fz+IHV+3SYRAHYETq2qeVV1L3D+fPp9HDizPZ5Ok0wYaPMkFyeZAewLTBqso6qaWlWdquosv+ryQ16QJEmSJGlsMzEwsn4CvCLJNsD4qpo+SJ2Hh9HvE1XVP/NgLoPvDXE88IGq2gI4FBg3jHEkSZIkST3GzQdHUFXNbt9OcCyDzxYY6BJg/yQnAGsBuwAnD3P4VYE/JnkWzYyBu4dqMOm5k+jbv2+Yw0mSJEmSxgITAyPv+8CPeXpJwYL8CHgFcCNwF3AV8OAwx/0kcDlwf/u56jD7kSRJkiT1kDw9Q12jIcmEdqbBc2k2L3xZu9/AYtfpdKqvzxkDkiRJkjQWJZleVZ2h6jljYPSdmWR1YEXgM0sqKSBJkiRJEpgYGHVVtctoxyBJkiRJ6l2+lUCSJEmSpB5mYkCSJEmSpB7mUoJhaF9JeFhVndVVdjCwSVW9b/QigyQfr6rPLVTle66GQ1YbmYEPGe7LFCRJkiRJo8kZA8Pzff7+dYRvbcsXKI3Fed8/vhj7liRJkiSNMSYGhuc04LVJVgRIMhFYF7g4yUeTXJnkuiSH9p9PckuSE4HrgRckmZ3ki0luSHJOku2TXJDk9iSvb9uNS3JckhlJrk6ya1t+QJLTk/wqyW1J/qctPwxYOck1SU5a0jdFkiRJkrTsMTEwDFU1C7gCeHVb9Fbgh8CrgI2B7YHJwLZJdm7rbAwcXVWTqupOYBXgvKqaBDwE/Hfbfk/gv9o272+Gqy2AtwEnJBnXnpsM7ANsAeyT5AVV9THgkaqaXFX7DhZ7kilJ+pL03T+nRuR+SJIkSZKWXSYGhq97OUH/MoLd27+rgauAF9MkBADurKrLuto/DvyqPZ4BXFhVT7THE9vyHYHvAVTVzcCdwIvac+dW1YNV9ShwI7DhwgRdVVOrqlNVnbXGZ+GvVpIkSZI0JpkYGL6fAK9Isg0wvqqmAwE+3/5iP7mqNqqq77T1Hx7Q/omq6v/Jfh7wGEBVzWPhNoV8rOt47kK2kSRJkiTpb/gwOUxVNbt9O8GxPL3p4FnAZ5Kc1J5fD3jiGQxzMbAvcF6SFwEbALcA2yygzRNJntXOPliwdbeGQ/qeQXiSJEmSpGWdMwaeme8DW7WfVNXZwMnApUlm0GxSuOoz6P9oYLm2r1OAA6rqsSHaTAWuc/NBSZIkSdLCyNOz2dVrOp1O9fU5Y0CSJEmSxqIk06uqM1Q9ZwxIkiRJktTDTAxIkiRJktTDTAxIkiRJktTDfCvBUiDJRODMqtq8q+wQYDYwEzi7qu4Zoo8LgI9U1UJvGjDj7geZ+LGfDyPipdMdh712tEOQJEmSpGWOMwaWfgcA6452EJIkSZKkscnEwNKvA5yU5JokKyf5VJIrk1yfZGqSdNV9S5IrktyaZKfRCliSJEmStOwwMbD06wP2rarJVfUIcFRVbdcuO1gZ2KOr7gpVtT1wMPDpUYhVkiRJkrSMMTGwdKhFKN81yeVJZgC7AZO6zp3efk4HJg7WYZIpSfqS9M2d8+Bw45UkSZIkjREmBpYOfwaeM6BsDZqNB5+SZBxwNLBXVW0BfAsY11XlsfZzLvPZWLKqplZVp6o6y49fbSRilyRJkiQtw0wMLAWqajbwxyS7ASRZA/hn4DfAQ8CqbdX+JMDMJBOAvZZ0rJIkSZKkscXXFS493gl8PcmX2++HVtXvkhwPHJPkEeClNLMErgfuBa58JgNusd5q9PmKP0mSJEnqaama3/J2jXWdTqf6+vpGOwxJkiRJ0mKQZHpVdYaq51ICSZIkSZJ6mIkBSZIkSZJ6mIkBSZIkSZJ6mIkBSZIkSZJ6mG8lWIKSPBc4t/36fGAucH/7ffuqenxJxjPj7geZ+LGfL8khJUmSlgl3+OYmST3ExMASVFV/BiYDJDkEmF1VXxrVoCRJkiRJPc2lBEuJJPsnuSLJNUmOTrJckn9IcluSNZIsn2Rakt3a+j9LMj3JDUne3ZatkOS7SWYkuT7Jh0b3qiRJkiRJSztnDCwFkmwO7AnsUFVPJpkKvLWqTk5yOHA0cC1wdVWd1zbbv6pmJRkP9CX5EfAiYM2q2qLtd/VBxpoCTAFY/tlrLfZrkyRJkiQt3UwMLB1eCWxH84APsDJwF0BVHZPkLcCBwNZdbT6c5PXt8frAPwK/BTZJciTwc+DsgQNV1VRgKsBK62xci+VqJEmSJEnLDBMDS4cAx1bVJ//uRDIBWBdYHpgAPJzklcDOwD9V1SNJfgOMq6o/J9kSeDXwfuDNtLMDJEmSJEkajHsMLB3OAfZOsiY0by9IskF77ovAccB/Ad9sy1YDZrVJgUk0sw1IshaQqjoV+BSwzRK8BkmSJEnSMsgZA0uBqpqR5FDgnCTLAU8AByXZGNgK+EBVzU3y5iT7AacCU5LcCNwCXN529QLgO2nWIxTwHwsad4v1VqPPV/FIkiRJUk9LlcvMe1Wn06m+vr7RDkOSJEmStBgkmV5VnaHquZRAkiRJkqQeZmJAkiRJkqQeZmJAkiRJkqQeZmJAkiRJkqQe5lsJWkmeC5zbfn0+MBe4v/2+fVU9PiqBLUbXPjSH559/zWiHIS3z7t118miHIEmSJA2biYFWVf0ZmAyQ5BBgdlV9aVSDkiRJkiRpMXMpwUJIsn+SK5Jck+ToJMslWSHJA0kOS3JtkkuTPK+t/70kX00yLcntSfbs6utjbV/XJflUW7Zqkl+2/VyfZK+2/ItJbmzrfqEtWzvJ6Un62n7+qS2fkOT4tuzqJK9b8ndKkiRJkrSsMTEwhCSbA3sCO1TVZJpZFm9tT68GXFhVWwGXAu/qavo84GXAG4HPt329BtgAeAnN7IQdkuwAvAa4o6q2qqrNgV8nWbstn1RVW/b3ARwJ/E/7Lsq9gW+35Z8CflVV2wO7AYcnGTfI9Uxpkwp98x584JneHkmSJEnSMs6lBEN7JbAd0JcEYGXgrvbcI1X1y/Z4OrBTV7szqqqA65Ks15btDrwauLr9PgF4EXA5cFiSw4CfVdUlSeYA84BvJfk5cGZXPJu0sQA8J8nK/X0n+VhbPo4mCXFr98VU1VRgKsCzNtmshnE/JEmSJEljiImBoQU4tqo++TeFyQpA94aEc/nb+/nYgD76P/+7qr7zd4MkHZoZAocl+WVVfa4texXwFuB9NA//YZDNENNkCt5YVb8bxjVKkiRJknqUiYGhnQOcluSrVTWzfXvBKsA9w+jrLOA/k/ygqh5Osj7wKLASMLOqvpvkIeAdSVYFxlXVmUmmAbd0xfN+4AiAJJOr6pq27w8CB7flW1fV1SzAVquOp8/d1CVJkiSpp5kYGEJVzUhyKHBOkuWAJ4CDGEZioKp+keTFwGXtUoCHgLcDm9HMFJhHMwvhIJr9C05PshLNXhD/2nbzfuAbSQ6k+fc7vy07FPhKkhlt/d8CbxjeVUuSJEmSekWaZfDqRZ1Op/r6+kY7DEmSJEnSYpBkertx/QL5VgJJkiRJknqYiQFJkiRJknqYiQFJkiRJknqYiQFJkiRJknrYmH0rQZJP0Oz4PxeYB7y3qi4fRj+7AI9X1bT2+/HAmVV12hDt5gIzgGcBTwInAkdU1bwhxvpIVe0xnNgW1UMPzeDc8/5xOE0XySt2+91iH0OSJEmSNDxjMjGQ5KXAHsA2VfVYkjWBFYfZ3S7AbGBRH74fqarJbTzPA04Gng18ephxjGRskiRJkiQBY3cpwTrAzKp6DKCqZlbVPQBJXpHk6iQzkhybZKW2/I42gUCSTpILkkwEDgI+nOSaJDu1/e+cZFqS25PsNVQwVfUnYArwgTQmJrk4yVXt3w4D2yTZro3zH5OskeSMJNcluSzJloPFluR1SS5v252TZO1ndhslSZIkSWPdWE0MnA28IMmtSY5O8nKAJOOA44F9qmoLmhkT75tfJ1V1B3AMzRKAyVV1cXtqHWBHmlkJhy1MQFV1O7A88DzgT8CrqmobYB/gyO66baLgGOANVfU74FDg6qraEvg4cOJ8YvsN8E9VtTXwA+DfB8aRZEqSviR9Dzww31UNkiRJkqQeMSYTA1U1G9iW5lf6+4FTkhwAbAL8vqpubaueAOw8jCHOqKp5VXUjMJxf5Z8FfCvJDOBUYLOuc5sCU4HXVdX/tmU7At8FqKrzgOcmefYg/a4PnNX2+1Fg0sAKVTW1qjpV1Vl99TH5zy9JkiRJWgRj9smwquZW1QVV9WngA8Cbh2jyJE/fj3FD1H2s6zgLE0+SF9JshPgn4MPAfcBWQIe/3f/gj8CjwNYL0+8AXwOOamdDvJehr0OSJEmS1OPG6uaDmwDzquq2tmgycCdwCzAxyUZV9VtgP+DCts5HYmZRAAAgAElEQVQdNLMMfsnfJhEeotk08JnEsxbNtP+jqqqSrAb8oarmJdmfZolBvweAfwF+neThqroAuBjYF/hM+yaCmVX11yQDY1sNuLs93n+ouFZddQtesVvfM7k0SZIkSdIybqzOGJgAnJDkxiTX0UzVP6SqHgUOBE5tp9vPo3lgh2Yd/1eT9NH8st/vZ8CeAzYfXBgrt21uAM6h2ffg0Pbc0cD+Sa4FXgw83N2wqu6j2b/g60leAhwCbNtey2E8/dA/MLZD2mubDsxchFglSZIkST0qVTXaMWiUdDqd6utzxoAkSZIkjUVJpldVZ6h6Y3XGgCRJkiRJWggmBiRJkiRJ6mEmBiRJkiRJ6mEmBiRJkiRJ6mHL/OsKk3wCeDvNmwTmAe+tqsuH0c8uwONVNa39fjxwZlWdNkS75wNfAbajedXgfcDBVXXrosYwSN93AJ2qmplkWlXt8Ez77HbPPfdwyCGHjGSX6jH+9yNJkiQt+5bpxECSl9K81m+bqnosyZrAisPsbhdgNjBtEcYP8GPghKp6a1u2FbA2MGRioG2fqpo3VN2RTgpIkiRJkgTL/lKCdYCZVfUYQFXNrKp7AJK8IsnVSWYkOTbJSm35HW0CgSSdJBckmQgcBHw4yTVJdmr73znJtCS3J9lrkPF3BZ6oqmP6C6rq2qq6OMmEJOcmuaqN4Q3tmBOT3JLkROB64AVJ3tbWuT7JFwa70CSz289d2phPS3JzkpPaBANJPpXkyrafqf3lkiRJkiTNz7KeGDib5sH61iRHJ3k5QJJxwPHAPlW1Bc3MiPfNr5OqugM4BjiiqiZX1cXtqXWAHWlmJRw2SNPNgenz6fZRYM+q2oYmgXB414P6xsDRVTUJeAL4ArAbMBnYLskbh7jurYGDgc2AFwIva8uPqqrtqmpzYOU27r+RZEqSviR9c+bMGWIYSZIkSdJYt0wnBqpqNrAtMAW4HzglyQHAJsDvu9b5nwDsPIwhzqiqeVV1I83ygEUR4HNJrgPOAdbr6uPOqrqsPd4OuKCq7q+qJ4GTFiLWK6rqD+0ShGuAiW35rkkuTzKDJtEwaWDDqppaVZ2q6owfP34RL0mSJEmSNNYs03sMAFTVXOAC4IL2gXh/4OoFNHmSpxMi44bo/rGu48Gm5d8ADLbEAGBfYC1g26p6ot1IsH+8h4cYdyjdcc0FVmhnSRxNs1nhXUkOYejrkyRJkiT1uGU6MZBkE2BeVd3WFk0G7gRuASYm2aiqfgvsB1zY1rmDZpbBL4E3d3X3EPDsRQzhPJpZAVOqamob05bAau3fn9qkwK7AhvPp4wrgyHbfg78AbwO+tohxwNNJgJlJJtAkLBb4RoV1113XXeUlSZIkqcct00sJgAnACUlubKfsbwYcUlWPAgcCp7azCObR7CEAcCjw1SR9NL+29/sZsOeAzQcXqKoK2BN4ZZLfJbkB+DxwL82SgE47/juBm+fTxx+BjwHnA9cC06vqJwt/C57q5wHgWzQbGp4FXLmofUiSJEmSek+aZ1v1ok6nU319faMdhiRJkiRpMUgyvao6Q9Vb1mcMSJIkSZKkZ8DEgCRJkiRJPczEgCRJkiRJPWyZfivBwkgyF5hBc62/B/arqgeS7AJ8pKr2GGa/i9Q+yUTgzKrafAF1ZlfVhOHEs6hjATx+92z+8LGLn+lwI2L9wxZqv0dJkiRJ0gjrhRkDj1TV5PYheRbw/tEOSJIkSZKkpUUvJAa6XQqs1/V9QpLTktyc5KQkAUjyiiRXJ5mR5NgkK7Xl/9zWvQp4U38nSVZp613RtnvDgoJIMqmte02S65JsPOD8hCTnJrmqjeENbfnEJDcl+VaSG5KcnWTl9ty2Sa5Nci0mPyRJkiRJC6lnEgNJlgdeAfy0q3hr4GBgM+CFwMuSjAOOB/apqi1oliC8ry3/FvA6YFvg+V39fAI4r6q2B3YFvphklQWEcxDw1aqaDHSAPww4/yiwZ1Vt0/Z3eH/SAtgY+HpVTQIeAN7clh8HfLCqtlqY+yFJkiRJEvRGYmDlJNcA9wJrA7/uOndFVf2hquYB1wATgU2A31fVrW2dE4CdgRe35bdVVQHf6+pnd+Bj7TgXAOOADRYQ06XAx5P8B7BhVT0y4HyAzyW5DjiHZpbD2u2531fVNe3xdGBiktWB1avqorb8u/MbOMmUJH1J+mbNeWABIUqSJEmSekEvJAYeaX+Z35Dmgbt7mv1jXcdzGf5mjAHe3O5lMLmqNqiqm+ZXuapOBl4PPAL8IsluA6rsC6wFbNvGfh9NsuEZx1xVU6uqU1WdNcavvihNJUmSJEljUC8kBgCoqjnAh4B/S7Kgh+lbaH6F36j9vh9wIXBzW/6PbfnbutqcBXywa4+CrRcUS5IXArdX1ZHAT4AtB1RZDfhTVT2RZFeapMaCru0B4IEkO7ZF+y6oviRJkiRJ/cb86wq7VdXV7fT8twF3zafOo0kOBE5tEwhXAsdU1WNJpgA/TzIHuBhYtW32GeArwHVJlqN5LeKCXmO4N7Bfkidoljh8bsD5k4CfJZkB9NEkJYZyIHBskgLOXoj6rLjeBF8TKEmSJEk9Ls1yefWiTqdTfX19ox2GJEmSJGkxSDK9qjpD1euZpQSSJEmSJOnvmRiQJEmSJKmHmRiQJEmSJKmHmRiQJEmSJKmHjem3EiSZC8yguc6bgP3b1xaOVjyzq2rCCPf5beDLVXXjora97/bfcvg+C3p5giRJvenfTjlztEOQJGmJGeszBh6pqslVtTnwOHDQaAc00qrq3cNJCkiSJEmSBGM/MdDtYmAjgCTvSHJFkmuSfDPJ8m357CSfTXJtksuSrN2WH5/kyCTTktyeZK+2fJ0kF7X9XJ9kpyTvSvKV/kGTvCfJEd2BJPlBktd2fT8+yV5JJia5OMlV7d8O7fldklyQ5LQkNyc5KUnacxck6bTH30jSl+SGJIcu1rspSZIkSRoTeiIxkGQF4NXAjCSbAvsAL6uqycBcYN+26irAZVW1FXAR8J6ubtYBdgT2AA5ry94OnNX2sxVwDfBD4HVJntXWORA4dkBIpwB7t7GtCLwC+DnwJ+BVVbVNG+ORXW22Bg4GNgNeCLxskEv9RPuOyi2BlyfZcpB7MaVNHvQ9/Njjg90uSZIkSVIPGdN7DAArJ7mmPb4Y+A4wBdgWuLL90X1lmgdyaJYb9C8qnA68qquvM6pqHnBj/0wC4Erg2DYJcEZVXQOQ5DxgjyQ3Ac+qqhkD4vol8NUkKwH/DFxUVY8kWQ04Kkl/wuJFXW2uqKo/tP1fA0wEfjOg372TTKH5d12HJolwXXeFqpoKTAV4wRqr1+C3TZIkSZLUK8Z6YuCR9tf8p7RT8E+oqv83SP0nqqr/YXkuf3t/HuvuBqCqLkqyM/Ba4PgkX66qE4FvAx8HbgaOGzhIVT2a5ALg/9DMDPhBe+rDwH00sw+WAx6dz/gDYyPJPwAfAbarqr8kOR4YN8g1SpIkSZL0lJ5YSjDAucBeSZ4HkGSNJBsOp6O23X1V9S2aZMA2AFV1OfACmqUG359P81NolhnsBPyqLVsN+GM7M2E/YPlFCOfZwMPAg+2Mhlcv2tVIkiRJknrRWJ8x8Heq6sYk/wmcnWQ54Ang/cCdw+huF+CjSZ4AZgPv7Dr3Q2ByVf1lPm3PBr4L/KSq+hf7Hw38KMk7aZIFDy9sIFV1bZKraWYp3AVcMlSbtV+4ka9jkiRJkqQel6dnzmskJTkTOKKqzh3tWOan0+lUX1/faIchSZIkSVoMkkxvN6hfoF5cSrBYJVk9ya00+xsstUkBSZIkSZKgB5cSLG5V9QB/+zYBSZIkSZKWWs4YkCRJkiSph5kYkCRJkiSph7mUYDFIsj7wdWAzmuTLmcBHu94+sFT4050P8fWDzhvtMPQMvf+Y3UY7BEmSJEnLMGcMjLAkAU4HzqiqjWn2G5gAfHZAPZMykiRJkqRR58PpyNsNeLSqjgOoqrlJPgz8PsnvgX+mSRQsD7w8yUeBvYGVgB9X1acBknwSeAdwP3AXML2qvpRkMnAMMB74HfCuqvpLkguAy4FdgdWBf6mqi5fURUuSJEmSlk3OGBh5k4Dp3QVV9Vfgf2kSMdsAe1XVy5PsDmwMbA9MBrZNsnOS7YA3A1sBrwa63zt5IvAfVbUlMAP4dNe5Fapqe+DgAeVPSTIlSV+SvtmPPvDMr1aSJEmStExzxsCS9+uqmtUe797+Xd1+n0CTKFgV+ElVPQo8muRnAElWA1avqgvb+icAp3b1fXr7OR2YONjgVTUVmAqwwVqb1EhckCRJkiRp2eWMgZF3I7Btd0GSZwMbAE8CD3efAj5fVZPbv42q6jvPYOzH2s+5mPSRJEmSJC0EHx5H3rnAYUneWVUnJlkeOBw4HpgzoO5ZwGeSnFRVs5OsBzwBXAJ8M8nnaf6N9gCmVtWDSf6SZKd2/4D9gAsZpudtuKo72kuSJElSj3PGwAirqgL2BN6S5DbgVuBR4OOD1D0bOBm4NMkM4DRg1aq6EvgpcB3wS5q9BB5sm+0PfDHJdTT7EvzX4r0iSZIkSdJYluY5VkubJBPaWQTjgYuAKVV11UiO0el0qq+vbyS7lCRJkiQtJZJMr6rOUPVcSrD0mppkM2AccMJIJwUkSZIkSQITA0utqnr7aMcgSZIkSRr73GNAkiRJkqQeZmJAkiRJkqQe5lKCBUiyPvB1YDOaJMqZwEeBtwOdqvrAgPqHALOr6ksL6PN44MyqOm0xhb3QHr3+Bm568aajHYZG2aY33zTaIUiSJEkaRc4YmI8kAU4HzqiqjYEXAROAz45qYJIkSZIkjSATA/O3G/BoVR0HUFVzgQ8D7wLG91dK8toklyZZs7txkvckuTLJtUl+1L52sN/OSaYluT3JXm39JPlikuuTzEiyT1u+S5ILk/ykrX9Ykn2TXNHW+8e23uuSXJ7k6iTnJFl7sd4dSZIkSdKYYGJg/iYB07sLquqvwP/SLsFIsifwMeA1VTVzQPvTq2q7qtoKuAn4l65z6wA7AnsAh7VlbwImA1sBrwS+mGSd9txWwEHApsB+wIuqanvg28AH2zq/Af6pqrYGfgD8+2AXlWRKkr4kfbPmPrmw90KSJEmSNEa5x8Dw7QZ0gN3bhMFAmyf5b2B1miUIZ3WdO6Oq5gE3dv2yvyPw/XZmwn1JLgS2A/4KXFlVfwRI8jvg7LbNDGDX9nh94JQ2mbAi8PvBgq6qqcBUgM3HrVyLftmSJEmSpLHEGQPzdyOwbXdBkmcDGwBPAr8DVqXZe2AwxwMfqKotgEOBcV3nHuvudiFi6a4/r+v7PJ5O7nwNOKod770DxpMkSZIkaVDOGJi/c4HDkryzqk5MsjxwOM0D/xzgTpo3FJye5C1VdcOA9qsCf0zyLGBf4O4hxrsYeG+SE4A1gJ3b/l+8kPGu1jXG/gvTYNzmk9i0r28hu5ckSZIkjUXOGJiPqipgT+AtSW4DbgUeBT7eVedmmof+U/s3AezySeBy4BLg5oUY8sfAdcC1wHnAv1fVvYsQ8iFtHNOBgfsdSJIkSZI0qDTPv+pFnU6n+pwxIEmSJEljUpLpVdUZqp4zBiRJkiRJ6mEmBiRJkiRJ6mEmBiRJkiRJ6mEmBpYiSdZP8pMktyX5XZKvJlkxyQFJjppPm18kWX1JxypJkiRJGht8XeFSIkmA04FvVNUb2tcjTgU+Cwx8FeJTquo1wx3zhj/fwBYnbDHc5pKkMWzG/jNGOwRJkrSEOGNg6bEb8GhVHQdQVXOBDwPvAsYD6yb5VTub4H/6GyW5I8ma7fG/Jrm+/Tt4FK5BkiRJkrSMccbA0mMSML27oKr+muR/af6dJgNbA48BtyT5WlXd1V83ybbAgcBLgACXJ7mwqq5eUhcgSZIkSVr2OGNg2XFuVT1YVY8CNwIbDji/I/Djqnq4qmbTLEvYaWAnSaYk6UvSN/ehuYs/akmSJEnSUs3EwNLjRmDb7oIkzwY2AJ6kmSnQby7DnO1RVVOrqlNVneVXXX64sUqSJEmSxggTA0uPc4HxSd4J0G4+eDhwPDBnIdpfDLwxyfgkqwB7tmWSJOn/s3fvYXaV5f3/3x8CGjAQFJBCRCKIBxJCgA1fAaEBpbZf8QBiEaGK9WekVaNUrIdaDPVERc6gNlpENIIIQhGoUkEkCAYmEBJO6k/EloOiciYQBe7vH3tN2YwzmZlkJkNmv1/XNVfWeo732vDPvvfzPEuSJA3IMwaeIaqqkuwHfCHJP9NO2lwMfAw4aAj9r0tyOnBNU/SVwc4XmLbRNHre3rNqgUuSJEmS1mipqrGOQWOk1WpVT4+JAUmSJEkaj5IsqqrWYO3cSiBJkiRJUhczMSBJkiRJUhczMSBJkiRJUhczMSBJkiRJUhcb128lSFLAcVX1web+CGBSVc0dxhizgD9U1VXN/enAhVV1ziD9ngCWAusAjwNnAMdX1ZODzHVEVe27MrEN213Xw9zJK9V1QHMfGNnxJEmSJEmjaryvGFgO7J9k45XpnGRtYBaw20p0f7SqZlbVNGAf4K+AT6xMHCswi5WLTZIkSZIkYPwnBh4H5gGH961IMjXJZUmWJLk0yQub8tOTfCnJQuBs4DDg8CSLk+zRdN8zyVVJbktywGBBVNU9wGzgvWmbmmRBkuuavz/5cp9k5yTXJ9k6yfOSnN/E+pMkM5JM7RtbktclWdj0+0GSTVfuY5MkSZIkdYvxnhgAOBU4OEnfNfMnA1+rqhnAfOCkjroXALtV1f7Al2hvAZhZVQua+s2AVwL7AkcPJYiqug2YADwfuAfYp6p2BA7sMzdNouBLwBuq6hfAUcD1TawfA86oqtv7ie1K4BVVtQNwFvCPQ4lNkiRJktS9xvUZAwBV9WCSM4A5wKMdVbsC+zfXXwc+11H37ap6YgXDnt+cFXDzSv4qvw5wSpKZwBPASzrqXk57lcNfVNVdTdkrgTc1z3NZko2SbNDPuC8AvpVkM+BZwC/7Nkgym/bqBV44OSsRuiRJkiRpPOmGFQMAJwDvBJ4zxPaPDFK/vON6SN+uk2xFOwlwD+2tDb8BtgdatL/E97obeAzYYYixdjoZOKWqtgPeDUzs26Cq5lVVq6pam6xnYkCSJEmSul1XJAaq6l7a5wW8s6P4KuAtzfXBwIK+/RoPAeuvyvxJNqG97P+UqipgMnB3s+rgb2hvMeh1P/Ba4LPNWwdoYju4GWsW8LuqerCf2CYDdzbXb1+VmCVJkiRJ3WHcbyXocCzw3o779wFfTfIh4LfAOwbo913gnCRvaPoM1bpJFvPU6wq/DhzX1H0BODfJ24Dv0WeFQlX9Jsm+wH8m+VtgLnBakiXAMp760t83trnAt5PcB1wGvGiFEW6+A8ztGcYjSZIkSZLGm7R/wFY3arVa1dNjYkCSJEmSxqMki6qqNVi7rthKIEmSJEmS+mdiQJIkSZKkLmZiQJIkSZKkLmZiQJIkSZKkLjYu3kqQpIDjquqDzf0RwKSqmjuMMWYBf6iqq5r704ELq+qcQfr9GXACsDPtVw3+BvhAVf1s+E/yJ2PfDrSq6ndJrqqq3VZ1zE5L73yAqR+5aCSHlNSlbj/6tWMdgiRJklbSeFkxsBzYP8nGK9M5ydrALGBYX7yTBDgPuLyqtq6qnYCPApsOtX+SIf03GOmkgCRJkiRJMH4SA48D84DD+1YkmZrksiRLklya5IVN+elJvpRkIXA2cBhweJLFSfZouu+Z5KoktyU5oJ959wL+WFVf6i2oqhuqakGSSc181yVZmuQNHfH8NMkZwI3AFkkOatrcmORf+3vAJA83/85KcnmSc5LcmmR+k6AgyZFJrm3GmddbLkmSJEnSQMZLYgDgVODgJJP7lJ8MfK2qZgDzgZM66l4A7FZV+wNfAo6vqplVtaCp3wx4JbAvcHQ/c04HFg0Qz2PAflW1I+0EwrEdX9S3Ab5QVdOAPwL/CuwNzAR2TvLGQZ51B+ADwLbAVsDuTfkpVbVzVU0H1m3ifpoks5P0JOl5YtkDg0wjSZIkSRrvxk1ioKoeBM4A5vSp2hX4ZnP9ddpf9Ht9u6qeWMGw51fVk1V1M0PcHtAhwGeSLAF+AEzpGONXVfWT5npn2lsRfltVj9NOXuw5yNjXVNUdVfUksBiY2pTvlWRhkqW0Ew3T+nasqnlV1aqq1oT1+uZQJEmSJEndZtwkBhonAO8EnjPE9o8MUr+847q/Zfk3ATsN0PdgYBNgp6qaSftQwolDnHcwnXE9AaydZCLwBeCAqtoO+HLHfJIkSZIk9WtcJQaq6l7a5wW8s6P4KuAtzfXBwIK+/RoPAesPc8rLgGcnmd1bkGRGc0bBZOCeqvpjkr2ALQcY4xrgz5NsnGQCcBDwo2HGAU8lAX6XZBLQ35kIkiRJkiQ9zbh4XWEfxwLv7bh/H/DVJB8Cfgu8Y4B+3wXOaQ4JfN9QJqqqSrIfcEKSD9M+V+B22vv/5wPfbZb19wC3DjDG3Uk+AvyQ9qqEi6rqP4Yyf59x7k/yZdoHGv4auHawPttNmUyPrxiTJEmSpK6WqhrrGDRGWq1W9fT0jHUYkiRJkqRRkGRRVbUGazeuthJIkiRJkqThMTEgSZIkSVIXMzEgSZIkSVIXMzEgSZIkSVIXG49vJRgVSQo4rqo+2NwfAUyqqrkjMPZEYDHw5qpa2pR9CHhxVb17iGO8GDinqmYOdd6ldz7A1I9ctDIhS5IkDdntvgVJkp7RXDEwdMuB/ZNsPNIDV9VjtF9x+IW0TQEOAz4ylP5JTPBIkiRJklaKiYGhexyYBxzetyLJJknOTXJt87d7U740yYbNl/3fJ3lbU35Gkn06x6iq7wF3A28DjgfmVtV9SdZKclySG5vxDmjGeHWSy5NcCCztE8+Lk1yfZMdR+BwkSZIkSeOIiYHhORU4OMnkPuUnAsdX1c7Am4CvNOU/BnYHpgG3AXs05bsCV/Uz/geATwObVNXXm7I3Ay8Htgf2AY5P8vymrgX8fVW9vHeAJC8Hvg28raqu6ztBktlJepL0PLHsgaE/uSRJkiRpXHIJ+jBU1YNJzgDmAI92VL0a2DZJ7/0GSSYBC4A9gV8BXwRmN9sE7quqR/oZ/64klwEXdhS/Ejizqp4Afp3kStoJgT8AV1fVf3e03RQ4D3hjVd06wDPMo73ygWdvtk0N6wOQJEmSJI07rhgYvhOAdwLP6ShbC3hFVc1s/qZU1cPAFbRXCewBXA78FjiAdsJgIE82f0PRN7lwP3AnsNsQ+0uSJEmSupwrBoapqu5Ncjbt5MBpTfElwPuAYwCSzKyqxVX1P81hhc+qqtuaX/uPAN47jCkXAIcm+QawCe2tCe8HZvTTdjnwBuCSJA9X1dkrGni7KZPp8ZRgSZIkSepqrhhYOccCnW8nmAO0kixJcjPtNwr0Wgj8rLleAEwBrhzGXOcAtwJLgB8A/1BV9wzUuFmpsC/w4SR+65ckSZIkrVCq3GberVqtVvX09Ix1GJIkSZKkUZBkUVW1BmvnigFJkiRJkrqYiQFJkiRJkrqYiQFJkiRJkrqYiQFJkiRJkrpYV76uMEkBx1XVB5v7I4BJVTV3hMafCvwS+HRVfbwp2xi4G/i3qhrO6wp7xzwMWFZVZ4xEjAA3PLSMP/vh4pEa7hnn13vNHOsQJEmSJOkZr1tXDCwH9m++rI+WXwKdrwt8M3DTyg5WVV8ayaSAJEmSJEnQvYmBx4F5wOF9K5JskuTcJNc2f7s35UuTbJi23yd5W1N+RpJ9+pljGXBLkt5XQxwInD2EeU5McmRz/ZokVyRZK8ncZmUDSV6c5AdJbkhyXZKtm7iOSXJjE+uBI/dxSZIkSZLGq25NDACcChycZHKf8hOB46tqZ+BNwFea8h8DuwPTgNuAPZryXYGrBpjjLOAtSbYAngDuGsI8HwUOTLIXcBLwjqp6ss+484FTq2p7YDfaWxT2B2YC2wOvBo5JslnfgJLMTtKTpOfJB+4fIGxJkiRJUrfoyjMGAKrqwSRnAHOARzuqXg1sm6T3foMkk4AFwJ7Ar4AvArOTTAHuq6pHBpjme8Angd8A3+pT1+88VfVwkncBVwCHV9UvOjslWR+YUlXnNc/xWFP+SuDMqnoC+E2SHwE7Axf0ee55tFdLsM5Lt60VfUaSJEmSpPGvaxMDjROA64CvdpStBbyi9wt3ryRXAO8BXgj8E7AfcADthEG/quoPSRYBHwS2BV4/2DyN7YDfA5sP94EkSZIkSRqOrk4MVNW9Sc4G3gmc1hRfArwPOAYgycyqWlxV/9McVvisqrotyZXAEcBgbxg4FvhRM1dneb/zJNmSdiJhB+DiJOdX1cKOmB9KckeSN1bV+UmeDUygnaB4d5KvAc+jvbrhQysKbPv116PHk/slSZIkqat18xkDvY4FOt9OMAdoJVmS5GbgsI66hcDPmusFwBTgyhUNXlU3VdXX+qn6k3nSzhz8O3BEVd1FO2HxlSQT+/T9G2BOkiW0zzf4M+A8YAlwA3AZ8I9V9etBnl2SJEmS1OVS5TbzbtVqtaqnp2esw5AkSZIkjYIki6qqNVg7VwxIkiRJktTFTAxIkiRJktTFTAxIkiRJktTFuvqtBJ2SFHBcVX2wuT8CmFRVc0do/KnAhVU1fSTGGwkPPbSUSy/beqzDkLSavWrvX4x1CJIkSXoGccXAU5YD+zevJBxzSUzaSJIkSZJGnYmBpzwOzAMO71uRZJMk5ya5tvnbvSlfmmTDtP0+ydua8jOS7DPQREkmJDmmGWtJknc35bOSLEhyAXBzkuckuSjJDUluTHJg026nJD9KsijJ95NslmTrJNd1zLFN570kSZIkSf0xMfB0pwIHJ5ncp/xE4Piq2hl4E/CVpvzHwO7ANOA2YI+mfFfgqhXM807ggWa8nYF3JXlRU7cj8P6qegnwl8BdVbV9swXhe0nWAU4GDqiqnYDTgE9X1S+AB5LMbMZ5B/DV4X8EkiRJks6Ae/MAACAASURBVKRu4nL1DlX1YJIzgDnAox1Vrwa2TdJ7v0GSScACYE/gV8AXgdlJpgD3VdUjK5jqL4AZSQ5o7icD2wB/AK6pql825UuBY5P8K+3zCRYkmQ5MB/6riWcCcHfT/ivAO5L8A3AgsEvfiZPMBmYDPP/5/ueXJEmSpG7nN8M/dQJwHU//tX0t4BVV9VhnwyRXAO8BXgj8E7AfcADthMGKBHhfVX2/z3izgP9NKFTVz5LsCPxf4FNJLgXOA26qql37Gfdc4BPAZcCiqvp93wZVNY/2lgle+tJn1yBxSpIkSZLGObcS9FFV9wJn017u3+sS4H29N73L9avqf4CNgW2q6jbgSuAI4IpBpvk+8HfNtgCSvCTJc/o2SrI5sKyqvgEcQ3ubwU+BTZLs2rRZJ8m0Jp7HmrG/iNsIJEmSJElD4IqB/h0LvLfjfg5wapIltD+zK4DDmrqFtJfzQ3ulwGdpJwj6Wpv2mw+gveR/KnBd2vsBfgu8sZ8+2wHHJHkS+CPwd1X1h2YLwknNWQhr017lcFPTZz7tlQuXDPaQ66+/Ha/au2ewZpIkSZKkcSxVriZfHZK8ATi4qv56lOc5AphcVf88WNtWq1U9PSYGJEmSJGk8SrKoqlqDtXPFwGqQ5F+ANwCHjvI85wFbA3uP5jySJEmSpPHDxMBqUFVHAkeuhnn2G+05JEmSJEnji4cPSpIkSZLUxUwMSJIkSZLUxdaYrQRJCjiuqj7Y3B8BTKqquSM0/lTgwqqa3lE2F3i4qj4/EnMMI5YB501yVVXtNhLz3HXXXcydO3ckhhoxz7R4JEmSJGm8W5NWDCwH9k+y8VgHMpb6SwokWWMSPJIkSZKkZ5Y1KTHwODAPOLxvRZJNkpyb5Nrmb/emfGmSDdP2+yRva8rPSLLPcCZP8q5m7BuaudZryk9P8sUkP0lyW5JZSU5LckuS0zv6P5zk+CQ3Jbk0ySZN+ZwkNydZkuSsjim3TXJ5M+acznGaf2clWZDkAuDmpuyQJNckWZzk35JMGM4zSpIkSZK6z5qUGAA4FTg4yeQ+5ScCx1fVzsCbgK805T8GdgemAbcBezTluwJX9TP+1s2X6sVJFgOHddR9p6p2rqrtgVuAd3bUPbcZ83DgAuD4Zs7tksxs2jwH6KmqacCPgE805R8BdqiqGX3mexnwGmAX4BNJ1ukn3h2B91fVS5K8HDgQ2L2qZgJPAAf37ZBkdpKeJD3Lli3rZ0hJkiRJUjdZo5agV9WDSc4A5gCPdlS9mvYv7L33GySZBCwA9gR+BXwRmJ1kCnBfVT3SzxS/aL5UA/+717/X9CSfAjYEJgHf76j7blVVkqXAb6pqadP/JmAqsBh4EvhW0/4bwHea6yXA/CTnA+d3jHlRVS0Hlie5B9gUuKNPvNdU1S+b61cBOwHXNp/DusA9fR+wqubRXnnB5ptvXv18BpIkSZKkLrJGJQYaJwDXAV/tKFsLeEVVPdbZMMkVwHuAFwL/BOwHHEA7YTBcpwNvrKobkhwKzOqoW978+2THde/9QJ9x75fy19JOXrwO+Kck2/UZE9q//vc3TmdyI8DXquqjK3wKSZIkSZI6rGlbCaiqe4GzefpS/kuA9/Xe9C7fr6r/ATYGtqmq24ArgSOAK1Zi6vWBu5sl/X+yRH8I1qKdlAB4K3BlkrWALarqh8CHgcm0VyOsjEuBA5I8HyDJ85JsuZJjSZIkSZK6xJq4YgDgWOC9HfdzgFOTLKH9TFfw1H79hUDvIXwLgM/SThAM1z83Y/22+Xf9YfZ/BNglycdpL/E/sInrG82ZCQFOqqr7O7ZEDFlV3dyMfUmTcPgj7dUSvxqoz+abb+7rASVJkiSpy6XKbearQ5KHq2plVwOMilarVT09PWMdhiRJkiRpFCRZVFWtwdqtcVsJJEmSJEnSyDExsJo801YLSJIkSZIEJgYkSZIkSepqJgYkSZIkSepia+pbCZ6RkhRwXFV9sLk/AphUVXNHcc7bgVZV/W64ff9w58Pc8ZEFIx/UGuoFR+8x1iFIkiRJ0mrnioGRtRzYP8nGYx2IJEmSJElDYWJgZD0OzAMO71uRZJMk5ya5tvnbPclaSW5PsmFHu58n2TTJ65IsTHJ9kh8k2bSp3yjJJUluSvIVIB19z0+yqKmbvRqeV5IkSZK0hjMxMPJOBQ5OMrlP+YnA8VW1M/Am4CtV9STwH8B+AEn+D/CrqvoNcCXwiqraATgL+MdmnE8AV1bVNOA84IUdc/xtVe0EtIA5STbqG1yS2Ul6kvTcu+z+EXpkSZIkSdKayjMGRlhVPZjkDGAO8GhH1auBbZP//YF/gySTgG8BRwJfBd7S3AO8APhWks2AZwG/bMr3BPZv5rooyX0dc8xJsl9zvQWwDfD7PvHNo72qgRmbvaxW7WklSZIkSWs6VwyMjhOAdwLP6Shbi/YKgJnN35Sqehi4Gnhxkk2ANwLfadqfDJxSVdsB7wYmrmjCJLNoJx92rartgesH6yNJkiRJkisGRkFV3ZvkbNrJgdOa4kuA9wHHACSZWVWLq6qSnAccB9xSVb2/8E8G7myu394x/BXAW4FPJfkr4Lkd7e+rqmVJXga8YrA4nzVlkifxS5IkSVKXc8XA6DkW6Hw7wRyglWRJkpuBwzrqvgUcwlPbCADmAt9OsgjofBXhUcCeSW6ivaXgv5vy7wFrJ7kFOBr4yQg+iyRJkiRpnEqV28y7VavVqp6enrEOQ5IkSZI0CpIsqqrWYO1cMSBJkiRJUhczMSBJkiRJUhczMSBJkiRJUhczMSBJkiRJUhfzdYVDlKSA46rqg839EcCkqpq7gj5zgYer6vMjHMvlwBFVtUonB/7mtv+fYw/cd2SCeob54LcuHOsQJEmSJGmN4IqBoVsO7J9k40FbDkMSkzOSJEmSpDFjYmDoHgfmAYf3rUiySZJzk1zb/O3eUb19kquT/DzJu5r2s5IsSHIBcHNTdn6SRUluSjK7KZuQ5PQkNyZZmuTwPvOu1dR/qrn/YpKeZoyjRudjkCRJkiSNJ/5aPTynAkuSfK5P+YnA8VV1ZZIXAt8HXt7UzQBeATwHuD7JRU35jsD0qvplc/+3VXVvknWBa5OcC0wFplTVdIAkG3bMuTYwH7ixqj7dlP1TM8YE4NIkM6pqSWegTdJhNsBz11t35T8JSZIkSdK4YGJgGKrqwSRnAHOARzuqXg1sm6T3foMkk5rr/6iqR4FHk/wQ2AW4H7imIykAMCfJfs31FsA2wE+BrZKcDFwEXNLR/t+AszuSAgB/3XzxXxvYDNgWeFpioKrm0V75wBbP27CG+xlIkiRJksYXtxIM3wnAO2mvAOi1FvCKqprZ/E2pqoebur5fvnvvH+ktSDKLdnJh16raHrgemFhV9wHbA5cDhwFf6RjnKmCvJBObMV4EHAG8qqpm0E4kTFzFZ5UkSZIkjXOuGBimZqn+2bSTA6c1xZcA7wOOAUgys6oWN3VvSPJZ2omEWcBHgJf0GXYycF9VLUvyMtpbD2gOOvxDVZ2b5KfANzr6/DuwJ3B2kv2BDWgnGx5IsinwV7QTCgPadKsXe3q/JEmSJHU5VwysnGOBzrcTzAFaSZYkuZn2r/u9lgA/BH4CfLKq7upnvO8Baye5BTi6aQswBbg8yWLaSYGPdnaqquNory74OrC0ub4V+Cbw41V6QkmSJElSV0iV28y7VavVqp6enrEOQ5IkSZI0CpIsqqrWYO1cMSBJkiRJUhczMSBJkiRJUhczMSBJkiRJUhczMSBJkiRJUhfzdYUrKUkB86vqkOZ+beBuYGFV7bsS420IvLWqvjCykQ7snl89xKmHXba6pnua93xp7zGZV5IkSZL0dK4YWHmPANOTrNvc7wPcuQrjbQj8/SpHJUmSJEnSMJgYWDUXA69trg8CzuytSPK8JOcnWZLkJ0lmNOVzk5yW5PIktyWZ03Q5Gtg6yeIkxySZlOTSJNclWZrkDU3/qUluSfLlJDcluaQ3OZHkXUmuTXJDknOTrLfaPglJkiRJ0hrJxMCqOQt4S5KJwAxgYUfdUcD1VTUD+BhwRkfdy4DXALsAn0iyDvAR4BdVNbOqPgQ8BuxXVTsCewHHJknTfxvg1KqaBtwPvKkp/05V7VxV2wO3AO/sG3CS2Ul6kvQ8/Nj9I/EZSJIkSZLWYJ4xsAqqakmSqbRXC1zcp/qVNF/Yq+qyJBsl2aCpu6iqlgPLk9wDbNrP8AE+k2RP4ElgSke7X1bV4uZ6ETC1uZ6e5FO0tyVMAr7fT8zzgHkAL9zkpTWsB5YkSZIkjTtDWjGQZL0k/5zky839NkmGfcDeOHUB8Hk6thEMwfKO6yfoP0FzMLAJsFNVzQR+A0wcpP/pwHurajvaKxYmIkmSJEnSCgx1xcBXaf8yvWtzfyfwbeDC0QhqDXMacH9VLU0yq6N8Ae0v959syn9XVQ8+tRvgTzwErN9xPxm4p6r+mGQvYMshxLI+cHezNeFgBjkM8flbru/bASRJkiSpyw01MbB1VR2Y5CCAqlqWFXzD7SZVdQdwUj9Vc4HTkiwBlgFvH2Sc3yf5cZIbgf8E/hX4bpKlQA9w6xDC+Wfa5xz8tvl3/RU3lyRJkiR1u1QNvs08yVXAq4AfV9WOSbYGzqyqXUY7QI2eVqtVPT09Yx2GJEmSJGkUJFlUVa3B2g11xcBc4HvAFknmA7sD71j58CRJkiRJ0jPBkBIDVXVJkkXAK2iflv/+qvrdqEYmSZIkSZJG3VDfSnBpVf2+qi6qqgur6ndJLh3t4CRJkiRJ0uha4YqBJBOB9YCNkzyX9moBgA2AKaMc2xohSQHzq+qQ5n5t4G5gYVXtm+T1wLZVdfRqjuswYFlVnTFQm8duvIlbXvby1RiVtGZ4+a23jHUIkiRJ0moz2FaCdwMfADan/brC3sTAg8ApoxjXmuQRYHqSdavqUWAfOl4TWFUXABeszoCSrF1VX1qdc0qSJEmS1kwr3EpQVSdW1YuAI6pqq6p6UfO3fVWZGHjKxcBrm+uDgDN7K5IcmuSU5vrNSW5MckOSK5qyaUmuSbI4yZIk2zTl/9C0vTHJB5qyqc3rDHvHPiLJ3Ob68iQnJOkB3p9kbpIjVsOzS5IkSZLWYEM9fPDkJNOBbYGJHeUDLlPvMmcBRya5EJgBnAbs0U+7I4HXVNWdSTZsyg4DTqyq+UmeBUxIshPttz78H9qrNBYm+RFw3yBxPKv3VRS9CQNJkiRJklZkqIcPfgI4ufnbC/gc8PpRjGuNUlVLgKm0VwtcvIKmPwZOT/IuYEJTdjXwsSQfBrZstiO8Ejivqh6pqoeB79B/oqGvbw3WIMnsJD1Jeu594vEhDClJkiRJGs+GlBgADgBeBfy6qt4BbA9MHrWo1kwXAJ+nYxtBX1V1GPBxYAtgUZKNquqbtJMsjwIXJ9l7BXM8ztP/m03sU//IYEFW1byqalVV63kThrRgRJIkSZI0jg01MfBoVT0JPJ5kA+Ae2l9u9ZTTgKOqaulADZJsXVULq+pI4LfAFkm2Am6rqpOA/6C9FWEB8MYk6yV5DrBfU/Yb4PlJNkrybGDfUX4mSZIkSdI4N9SfjHuaPfFfpv12godpL4FXo6ruAE4apNkxzeGCAS4FbgA+DPxNkj8CvwY+U1X3JjkduKbp95Wquh4gyb805XcCt65KzBOnT+PlPT2rMoQkSZIkaQ2Xqhpeh2QqsEGzr15rsFarVT0mBiRJkiRpXEqyqPeA+hUZ6uGDl/ZeV9XtVbWks0ySJEmSJK2ZVriVIMlEYD1g4yTPpb0EHmADYMooxyZJkiRJkkbZYGcMvBv4ALA57bMFej0EnDJaQUmSJEmSpNVjsK0EVwG7AUdU1VbAUcCNwI+Ab45ybJIkSZIkaZSt8PDBJNcBr25Oyd8TOAt4HzATeHlVHbB6wlx9khQwv6oOae7XBu4GFlbVvkleD2xbVUcPc9yrqmq3Yfb5F+CKqvrBcPo1fVvA26pqzkBt1n3RuvXiuS8e7tBaTZa+fcA3X0qSJEnSoIZ6+OBgWwkmVNW9zfWBwLyqOhc4N8niVQ3yGeoRYHqSdavqUWAf2q8GBKCqLgAuGO6gw00KNH2OHG6fjr49gK8ckCRJkiSt0GBbCSY0v5gDvAq4rKNusKTCmuxi4LXN9UHAmb0VSQ5Nckpz/eYkNya5IckVTdm0JNckWZxkSZJtmvKHm383S3JFU39jkj2STEhyenO/NMnhTdvTkxzQXN+e5HNN/TVJXtzR5ktJepL8LMm+TfmsJBeulk9LkiRJkrTGGuzL/ZnAj5L8DngUWADQfCl9YJRjG0tnAUc2X6xnAKcBe/TT7kjgNVV1Z5INm7LDgBOran6SZwET+vR5K/D9qvp0kgm03/owE5hSVdMBOsbq64Gq2i7J24ATgH2b8qnALsDWwA97kwb9STIbmA2wzkbrDPgBSJIkSZK6wwpXDFTVp4EPAqcDr6ynDiRYi/ZZA+NSVS2h/WX7INqrBwbyY+D0JO/iqQTA1cDHknwY2LLZjtDpWuAdSeYC21XVQ8BtwFZJTk7yl8CDA8x3Zse/u3aUn11VT1bVz5uxXraCZ5tXVa2qak1Yv2/OQpIkSZLUbQbbSkBV/aSqzquqRzrKflZV141uaGPuAuDzdGwj6KuqDgM+DmwBLEqyUVV9E3g97RUWFyfZu0+fK4A9aZ9bcHqSt1XVfcD2wOW0Vxx8ZaAph3Dd370kSZIkSf0aNDHQxU4DjqqqAY+GT7J1VS1sDgn8LbBFkq2A26rqJOA/aG9F6OyzJfCbqvoy7QTAjkk2BtZqDnb8OLDjAFMe2PHv1R3lb06yVpKtga2Anw73YSVJkiRJ3Wk8HyC4SqrqDuCkQZod0xwuGOBS4Abgw8DfJPkj8GvgM336zAI+1NQ/DLwNmAJ8NUlvouajA8z33CRLgOW0tzn0+m/gGmAD4LCqeizJoM84baNp9LzdFxdIkiRJUjfLU8cG6Jksye1Aq6p+16f8dODCqjpnuGO2Wq3q6TExIEmSJEnjUZJFVdUarJ1bCSRJkiRJ6mJuJVhDVNXUAcoPXb2RSJIkSZLGE1cMSJIkSZLUxUwMSJIkSZLUxdxKMIAkBcyvqkOa+7WBu4GFVbVvktcD21bV0WMY4yzgD1V11UoNcNf1MHfyiMakcWruA2MdgSRJkqRRYmJgYI8A05OsW1WPAvsAd/ZWVtUFwAVjFVxjFu1XHq5cYkCSJEmS1PXcSrBiFwOvba4PAs7srUhyaJJTmuvTk5yU5KoktyU5oCmfleTyJOckuTXJ/CRp6nZK8qMki5J8P8lmTfmcJDcnWZLkrKbseUnOb8p+kmRGkqnAYcDhSRYn2SPJ65IsTHJ9kh8k2XQ1fU6SJEmSpDWUiYEVOwt4S5KJwAxg4Qrabga8EtgX6NxesAPwAWBbYCtg9yTrACcDB1TVTsBpwKeb9h8BdqiqGbS/+AMcBVzflH0MOKOqbge+BBxfVTOragFwJfCKqtqhif0f+waZZHaSniQ9v11Ww/s0JEmSJEnjjlsJVqCqljS/zB9Ee/XAipxfVU8CN/f5pf6aqroDIMliYCpwPzAd+K9mAcEE2ucXACwB5ic5Hzi/KXsl8KYmpsuSbJRkg35ieAHwrWb1wbOAX/bzTPOAeQCtzSeYGZAkSZKkLueKgcFdAHyejm0EA1jecZ0Byp+gnYwJcFPzS//Mqtquqv6iafNa4FRgR+Da5tDDoToZOKWqtgPeDUwcRl9JkiRJUhdyxcDgTgPur6qlzVsARsJPgU2S7FpVVzdbC14C3AJsUVU/THIl8BZgErAAOBj4ZBPD76rqwSQPAZ0rBybz1AGJbx80is13gLk9I/RIkiRJkqQ1kYmBQTTbAE4a4TH/0BxQeFKSybT/O5wA/Az4RlMW4KSquj/JXOC0JEuAZTz1pf+7wDlJ3gC8D5gLfDvJfcBlwItGMm5JkiRJ0viTKreZd6tWq1U9Pa4YkCRJkqTxKMmiqmoN1s4zBiRJkiRJ6mImBiRJkiRJ6mImBiRJkiRJ6mImBiRJkiRJ6mK+lWCYkhQwv6oOae7XBu4GFlbVvkleD2xbVUcP0H8qcGFVTe+n7l+AK6rqB6MVf6eldz7A1I9ctDqmkqQxdfvRrx3rECRJkp6xTAwM3yPA9CTrVtWjwD7Anb2VVXUBcMHKDFxVR45MiJIkSZIkDY1bCVbOxUDvz08HAWf2ViQ5NMkpzfWmSc5LckPzt1vTbEKSLye5KcklSdZt2p+e5IDm+v8muTXJoiQnJbmwKd8lydVJrk9yVZKXdsz7nSTfS/LzJJ9bPR+FJEmSJGlNZmJg5ZwFvCXJRGAGsHCAdicBP6qq7YEdgZua8m2AU6tqGnA/8KbOTs24/wb8VVXtBGzSUX0rsEdV7QAcCXymo24mcCCwHXBgki36BpRkdpKeJD1PLHtgOM8sSZIkSRqHTAyshKpaAkylvVrg4hU03Rv4YtPniarq/Sb+y6pa3Fwvasbq9DLgtqr6ZXN/ZkfdZODbSW4EjgemddRdWlUPVNVjwM3Alv3EPq+qWlXVmrDe5BU/qCRJkiRp3DMxsPIuAD7P07+0D9XyjusnGN5ZD58EftgcXvg6YOIIjStJkiRJ6kJ+cVx5pwH3V9XSJLMGaHMp8HfACUkmAJOGOPZPga2STK2q22lvD+g1macOOzx0uEF32m7KZHo8qVuSJEmSuporBlZSVd1RVScN0uz9wF5JltLeMrDtEMd+FPh74HtJFgEPAb3bED4HfDbJ9ZjYkSRJkiStolTVWMegfiSZVFUPJwlwKvDzqjp+JOdotVrV09MzkkNKkiRJkp4hkiyqqtZg7Vwx8Mz1riSLab/JYDLttxRIkiRJkjSiXIr+DNWsDhjRFQKSJEmSJPXligFJkiRJkrqYiQFJkiRJkrrYGr2VIEkB86vqkOZ+beBuYGFV7TsG8cwCjhituZNsCLy1qr7Q3E8Fdquqb67MeEvvfICpH7lo5AKU1lC3+9pOSZIkdbE1fcXAI8D0JOs29/sAd45hPKNtQ9qvMew1FXjr2IQiSZIkSRoP1vTEAMDFQO/PfQcBZ/ZWJNklydVJrk9yVZKXNuXTklyTZHGSJUm2SfKcJBcluSHJjUkObNoemeTapmxe8/pAkrw4yQ+a9tcl2bqZdlKSc5LcmmR+R/vbk2zcXLeSXN5c/3kTx+ImzvWb8g818y5JclQz9tHA1k3bY5r7PZr7w/t7rlH71CVJkiRJ48J4SAycBbwlyURgBrCwo+5WYI+q2gE4EvhMU34YcGJVzQRawB3AXwJ3VdX2VTUd+F7T9pSq2rkpWxfo3SYwHzi1qrYHdqO9hQFgB+ADwLbAVsDug8R/BPCeJpY9gEeT/AWwDbALMBPYKcmewEeAX1TVzKr6UHO/oLk/foDnepoks5P0JOl5YtkDg4QmSZIkSRrv1vjEQFUtob2k/iDaqwc6TQa+neRG2q/+m9aUXw18LMmHgS2r6lFgKbBPkn9NskdV9X5r3ivJwiRLgb2Bac2v+lOq6rwmhseqalnT/pqquqOqngQWN7GtyI+B45LMATasqseBv2j+rgeuA15GO1EwmP6e62mqal5VtaqqNWG9yUMYUpIkSZI0nq3xiYHGBcDn6dhG0Pgk8MPm1/7XARMBmsP6Xg88ClycZO+q+hmwI+0EwaeaLQQTgS8AB1TVdsCXe8dYgeUd10/w1AGPj/PU5/2/Y1TV0cD/R3s1wo+TvAwI8NlmJcDMqnpxVf37YB9Cf881WB9JkiRJUndbo99K0OE04P6qWtq8GaDXZJ46jPDQ3sIkWwG3VdVJSV4IzEhyK3BvVX0jyf20v6z3foH/XZJJwAHAOVX1UJI7kryxqs5P8mxgwiAx3g7sBPwn8KaOWLauqqXA0iQ7014d8H3gk0nmV9XDSaYAfwQeAtbvGPNp9/09F3DZQAFtN2UyPZ7GLkmSJEldbVysGGiW7p/UT9XngM8muZ6nJ0H+GrgxyWJgOnAGsB1wTVP2CeBTVXU/7VUCN9L+sn5txxh/A8xJsgS4CvizQcI8CjgxSQ/tlQS9PtAcbLiE9pf//6yqS4BvAlc3WxjOAdavqt/TXlVwY3P44BLgieYAxMMHeC5JkiRJkgaUqhrrGDRGWq1W9fT0jHUYkiRJkqRRkGRRVbUGazcuVgxIkiRJkqSVY2JAkiRJkqQuZmJAkiRJkqQuNl7eSrBaJClgflUd0tyvDdwNLKyqfUdg/FnAESM01qFAq6reO1CbGx5axp/9cPGqTiUNy6/3mjnWIUiSJEnq4IqB4XkEmJ5k3eZ+H556HeKQNMkESZIkSZKeEUwMDN/FwGub64OAM3srkuyS5Ook1ye5KslLm/JDk1yQ5DLg0iRnJHljR7/5Sd7QOckgY30nyfeS/DzJ5zr6vCPJz5JcA+w+ap+AJEmSJGncMDEwfGcBb0kyEZgBLOyouxXYo6p2AI4EPtNRtyNwQFX9OfDvwKEASSYDuwEX9ZlnRWPNBA4EtgMOTLJFks2Ao2gnBF4JbLvqjypJkiRJGu9c1j5MVbUkyVTaqwUu7lM9Gfhakm2AAtbpqPuvqrq3GeNHSb6QZBPgTcC5VfV4kqGOdWlVPQCQ5GZgS2Bj4PKq+m1T/i3gJX3jTzIbmA2w1qabDf8DkCRJkiSNK64YWDkXAJ+nYxtB45PAD6tqOvA6YGJH3SN92p4BHAK8AzitnzlWNNbyjusnGEaCp6rmVVWrqlprTd5wqN0kSZIkSeOUiYGVcxpwVFUt7VM+macOIzx0kDFOBz4AUFU391M/nLGgvaXhz5NslGQd4M1D6CNJkiRJ6nJuJVgJVXUHcFI/VZ+jvfz/4/zpmQF9x/hNkluA8wdoMuSxmvHuTjIXuBq4Hxj0PYTbr78ePb46TpIkSZK6WqpqrGPoSknWA5YCO/aeF7C6tVqt6unpGYupJUmSJEmjLMmiqmoN1s6tBGMgopP1PwAAIABJREFUyauBW4CTxyopIEmSJEkSuJVgTFTVD2i/SUCSJEmSpDHligFJkiRJkrqYiQFJkiRJkrqYWwlWoyQFzK+qQ5r7tYG7gYVVte8K+rWAt1XVnJGM56GHlnLpZVuP5JCrxav2/sVYhyBJkiRJ44aJgdXrEWB6knWr6lFgH+DOwTpVVQ/g6wMkSZIkSSPOrQSr38XAa5vrg4AzeyuS7JLk6iTXJ7kqyUub8llJLmyu5yY5LcnlSW5LMqej/yFJrkmyOMm/JZmwGp9LkiRJkrQGMjGw+p0FvCXJRGAGsLCj7lZgj6raATgS+MwAY7wMeA2wC/CJJOskeTlwILB7Vc0EngAO7tsxyewkPUl67r//yRF7KEmSJEnSmsmtBKtZVS1JMpX2aoGL+1RPBr6WZBuggHUGGOaiqloOLE9yD7Ap8CpgJ+DaJADrAvf0M/88YB7AS1/67FrV55EkSZIkrdlMDIyNC4DPA7OAjTrKPwn8sKr2a5IHlw/Qf3nH9RO0/zsG+FpVfXSEY5UkSZIkjWNuJRgbpwFHVdXSPuWTeeowwkOHOealwAFJng+Q5HlJtlylKCVJkiRJ454rBsZAVd0BnNRP1edobyX4OHDRMMe8uel3SZK1gD8C7wF+NVCf9dffjlft7csOJEmSJKmbpcpt5t2q1WpVT4+JAUmSJEkaj5IsqqrWYO3cSiBJkiRJUhczMSBJkiRJUhczMSBJkiRJUhczMSBJkiRJUhfzrQRDlOThqpq0imNsDpxUVQesoM1VVbXbqswzVHfddRdz585dHVOpS/j/kyRJkrTmMTGwGlXVXcCASYGmzWpJCkiSJEmSBG4lWCVJpia5LMmSJJcmeWFTfnqSAzraPdzR/sbmelqSa5Isbvpv06ftpGbM65IsTfKGjjFuSfLlJDcluSTJuk3du5Jcm+SGJOcmWW/1fiKSJEmSpDWNiYFVczLwtaqaAcwHThpG38OAE6tqJtAC7uhT/xiwX1XtCOwFHJskTd02wKlVNQ24H3hTU/6dqtq5qrYHbgHe2XfSJLOT9CTpWbZs2TDClSRJkiSNRyYGVs2uwDeb668DrxxG36uBjyX5MLBlVT3apz7AZ5IsAX4ATAE2bep+WVWLm+tFwNTmenqSBUmWAgcD0/pOWlXzqqr1/9i793C7qvre/++P4RIwEEQQAZF4AZFrgAUHFDiAWrUiF0tF5KdQbYOtlaJFxN5EWy390arFiJzgUVARPIJYhB5QQSBggawAuXGrcqmAELlKwMSQfM8fa+662OxkZ4d9SfZ6v55nPXuuMccY8zt39uJhfee4VFVrww0dUCBJkiRJvc7EwMh4luZ3m+RFwHr9K1TVt4FDgd8A/57k4H5VjgE2B/ZsRhU8DExszi3pqreM360VcQ7w51W1C/DprvqSJEmSJA3IxQdfmJ8C76EzWuAYYGZTfi+wJ/B/6Hz5X7d/wySvBu6uqjOatQl2Ba7qqjIZWFhVS5McBGy7CvFsBPwyybpNPA+srPJWW23lKvKSJEmS1ONMDKy6DZN0rwPweeAjwNeTfBz4FfBHzbmzgX9LMge4HHh6gP7eDbwvyVLgIeBz/c6fB/ygmRbQBu5YhRj/FrixieVGOokCSZIkSZJWKFU11jFojLRarWq322MdhiRJkiRpBCSZXVWtweq5xoAkSZIkST3MxIAkSZIkST3MxIAkSZIkST3MxIAkSZIkST3MXQmGIMmiqprUHP8+8EXgLVV13xD72QR4b1WduZpxHAe0qurPV6d9n98+sIj7T5k5eEVpFb3itP3HOgRJkiRJQ+SIgdWQ5E3AGcDbh5oUaGwC/NnwRiVJkiRJ0tCZGBiiJAcAZwOHVNXPm7LNk1yUZFbzemNTfmqSryW5OsndSU5oujkNeE2SW5OcnuTAJJd2XWN6MyqAJHsl+WmSOUluSrJRv3jekeQ/kmyT5J4k6zblG3e/lyRJkiRpIE4lGJr1ge8DB1bVHV3l/wp8oaquS/JK4Arg9c25HYCDgI2AO5N8BTgF2LmqpgIkOXCgiyVZD/gOcFRVzUqyMfCbrvNHAB8Dfr+qHk9yNfCOJsb3AN+rqqX9+pwGTAPYeuMtVvf3IEmSJEkaJ0wMDM1S4KfAB4G/6Cp/M7Bjkr73GyeZ1BxfVlVLgCVJFgJD+Tb+OuCXVTULoKp+DdBc52CgBfxeXznwVeBkOomBPwL+pH+HVTUDmAGw65Y71BBikSRJkiSNQ04lGJrlwLuBvZP8VVf5i4B9qmpq89q6qhY155Z01VvGwMmYZ3nuv8XEVYjl53RGIWzfV1BV1wNTmhEIE6pq/ir0I0mSJEnqYY4YGKKqeibJO4CZSR6uqv8N/BD4CHA6QJKpVXXrSrp5is6X+j730RlxsD6wAfAm4DrgTmDLJHs1Uwk24ndTCe4DPg58L8kfVtWCpvwbwLeBvx/sXtbbepKryEuSJElSj3PEwGqoqseAtwF/k+RQ4ASglWRuktuADw3S/lHg+iTzk5xeVb8A/g8wv/l5S1Pvt8BRwJeSzAF+RNdogmadg2OA7yZ5TVN8HvAS4Pxhu2FJkiRJ0riVKqeZjydJjgQOq6r3DVa31WpVu90ehagkSZIkSaMtyeyqag1Wz6kE40iSLwFvB35/rGORJEmSJK0dTAyMI1X1kbGOQZIkSZK0dnGNAUmSJEmSepiJgRGSZFHX8e8nuSvJtmMZkyRJkiRJ/TmVYIQleRNwBvDWqrpvrOPp9vDdP+NfjjpkrMMY1/7yO5eOdQiSJEmStFKOGBhBSQ4AzgYOqaqfN2XvTHJjkluS/DjJFk35qUm+luTqJHcnOaEpf3GSy5LMabY3PKop/7sks5qyGUnSlJ+Q5LZm68QLxubOJUmSJElrCxMDI2d94PvA4VV1R1f5dcA+VbU7cAFwcte5HYC3AnsDn0qyLvA24MGq2q2qdgYub+pOr6q9mrINgL5H/6cAu1fVrsCHRujeJEmSJEnjhImBkbMU+CnwwX7lrwCuSDIP+DiwU9e5y6pqSVU9AiwEtgDmAW9J8k9J9q+qJ5u6BzUjD+YBB3f1Mxc4L8n/BzzbP6gk05K0k7SfXvLbYbpVSZIkSdLaysTAyFkOvBvYO8lfdZV/ic7T/l2A44GJXeeWdB0vA9apqruAPegkCP6hmUIwETgTOLLp5+yuft4BfLlpMyvJc9aRqKoZVdWqqtaL119vuO5VkiRJkrSWMjEwgqrqGTpf1I9J0jdyYDLwQHN87GB9JNkKeKaqvgWcTucLf18S4JEkk4Ajm7ovArapqp8An2iuNWmYbkeSJEmSNA65K8EIq6rHkrwNuDbJr4BTge8meRy4CnjVIF3sApyeZDmd6Ql/WlVPJDkbmA88BMxq6k4AvpVkMhDgjKp6YkUdb/Hq17pqviRJkiT1uFTVWMegMdJqtardbo91GJIkSZKkEZBkdlW1BqvnVAJJkiRJknqYiQFJkiRJknqYiQFJkiRJknqYiQFJkiRJknqYuxKsIZIsqqpR3Vpw4X1P8eUPXTWal9RKfPisg8c6BEmSJEk9yBEDkiRJkiT1MBMDa5h0nJ5kfpJ5SY5qyr+c5NDm+OIkX2uOP5Dks83x95PMTrIgybSxuwtJkiRJ0trCqQRrnncBU4HdgM2AWUmuBWYC+wOXAFsDWzb19wcuaI4/UFWPJdmgaXdRVT06qtFLkiRJktYqjhhY8+wHnF9Vy6rqYeAaYC+axECSHYHbgIeTbAnsC/y0aXtCkjnADcA2wHb9O08yLUk7SXvR4idG4XYkSZIkSWsyRwysJarqgSSbAG8DrgU2Bd4NLKqqp5IcCLwZ2LeqnklyNTBxgH5mADMAXrn562qUwpckSZIkraEcMbDmmQkclWRCks2BA4CbmnM3ACfSSQzMBE5qfgJMBh5vkgI7APuMbtiSJEmSpLWRIwbWPBfTmR4wByjg5Kp6qDk3E/i9qvpZkvvojBroSwxcDnwoye3AnXSSCCv1sm03cos8SZIkSepxqXI0ea9qtVrVbrfHOgxJkiRJ0ghIMruqWoPVcyqBJEmSJEk9zMSAJEmSJEk9zMSAJEmSJEk9zMSAJEmSJEk9zF0JhlmSRVU1aQj1DwROqqpDkhwK7FhVp41YgF0Wz1/A7Tu8fjQuJa31Xn/H7WMdgiRJkjQiTAysQarqEuCSsY5DkiRJktQ7nEowQpIcmOTqJBcmuSPJeUnSnHtbU3Yz8K6uNsclmd4cvzPJjUluSfLjJFs05acm+VrT991JTuhq//0ks5MsSDJtlG9ZkiRJkrQWMjEwsnYHTgR2BF4NvDHJROBs4J3AnsDLV9D2OmCfqtoduAA4uevcDsBbgb2BTyVZtyn/QFXtCbSAE5K8tH+nSaYlaSdpP7bs2Rd8g5IkSZKktZtTCUbWTVV1P0CSW4EpwCLgnqr6z6b8W8BAT/dfAXwnyZbAesA9Xecuq6olwJIkC4EtgPvpJAOOaOpsA2wHPNrdaVXNAGYA7DxxgxqOm5QkSZIkrb0cMTCylnQdL2NoiZgvAdOrahfgeGDiyvptFjF8M7BvVe0G3NKvjSRJkiRJz2NiYPTdAUxJ8prm/dErqDcZeKA5PnYV+p0MPF5VzyTZAdjnhYUpSZIkSeoFTiUYZVW1uFkY8LIkzwAzgY0GqHoq8N0kjwNXAa8apOvLgQ8luR24E7hhsFgm7rwTr2+3hxK+JEmSJGmcSZXTzHtVq9WqtokBSZIkSRqXksyuqtZg9ZxKIEmSJElSDzMxIEmSJElSDzMxIEmSJElSDzMxIEmSJElSD3NXglGQZFFVTUoyBbi0qnZOciBwUlUdkuRQYMeqOm01+t4KOKOqjhxq2wWPLmCXc3cZajNJ0hpi3rHzxjoESZI0DpgYWANU1SXAJavZ9kFgyEkBSZIkSZLAqQRrhCTHJZneHJ+T5IwkP01yd5Ijm/IkOT3J/CTzkhzVlE9JMr853inJTUluTTI3yXZjd1eSJEmSpLWBIwbWTFsC+wE70BlJcCHwLmAqsBuwGTArybX92n0I+NeqOi/JesCE/h0nmQZMA1j3peuO2A1IkiRJktYOjhhYM32/qpZX1W3AFk3ZfsD5VbWsqh4GrgH26tfuP4C/SvIJYNuq+k3/jqtqRlW1qqo1YaPn5Q0kSZIkST3GxMCaaUnXcVa1UVV9GzgU+A3w70kOHu7AJEmSJEnji1MJ1h4zgeOTnAtsChwAfByY2FchyauBu6vqjCSvBHYFrlpRhzu9dCfax7ZHNmpJkiRJ0hrNxMDa42JgX2AOUMDJVfVQswVin3cD70uyFHgI+NxoBylJkiRJWrukqsY6Bo2RVqtV7bYjBiRJkiRpPEoyu6pag9VzjQFJkiRJknqYiQFJkiRJknqYiQFJkiRJknqYiQFJkiRJknqYuxKMgSSLqmrSAOXnAJdW1YUraXs1cFJVvfBVAx+8BU6d/IK7GTGnPjnWEUiSJEnSuOeIAUmSJEmSepiJgTGUjulJ7kzyY+BlXef+LsmsJPOTzEiSrqZ/mOSmJHcl2b+pPzHJ15PMS3JLkoNG+34kSZIkSWsfEwNj6wjgdcCOwPuBN3Sdm15Ve1XVzsAGwCFd59apqr2BE4FPNWUfBqqqdgGOBs5NMrH/BZNMS9JO0v7VMzX8dyRJkiRJWquYGBhbBwDnV9WyqnoQuKrr3EFJbkwyDzgY2Knr3Pean7OBKc3xfsC3AKrqDuA+YPv+F6yqGVXVqqrW5hum/2lJkiRJUo9x8cE1UPOk/0ygVVW/SHIq0P30f0nzcxn+G0qSJEmSXgC/VI6ta4Hjk5xLZ32Bg4Bv87skwCNJJgFHAivcqaAxEzgGuCrJ9sArgTtX2mKr3eHUF765gSRJkiRp7WViYGxdTGeawG3AfwH/AVBVTyQ5G5gPPATMWoW+zgS+0kw9eBY4rqqWDNJGkiRJktTjUuUCdL2q1WpVu+2IAUmSJEkaj5LMrqrWYPVcfFCSJEmSpB5mYkCSJEmSpB5mYkCSJEmSpB5mYmCEJVnU7/1xSaaP0LW2SnJhc9xKcsZIXEeSJEmSNH64K8E4UlUP0tnakKpqAytdWXDeA08y5ZTLRiO0lbr3tHeMdQiSJEmS1LMcMTCGkrwzyY1Jbkny4yRbNOXzkmySjkeTvL8p/0aStySZkmRmkpub1xua81OSzG+OD0xy6djdnSRJkiRpbWBiYORtkOTWvhfwma5z1wH7VNXuwAXAyU359cAbgZ2Au4H9m/J9gZ8CC4G3VNUewFGAUwYkSZIkSavFqQQj7zdVNbXvTZLjgL59JF8BfCfJlsB6wD1N+UzgAOA+4CvAtCRbA49X1dNJJgPTk0wFlgHbr2owSaYB0wAmbLz5C7kvSZIkSdI44IiBsfUlYHpV7QIcD0xsyq+lM0pgf+Bq4Fd01g6Y2Zz/KPAwsBudJMN6q3rBqppRVa2qak3YcPJw3IMkSZIkaS1mYmBsTQYeaI6P7Susql8AmwHbVdXddKYcnEQnYdDX7pdVtRx4HzBh1CKWJEmSJI0rTiUYW6cC303yOHAV8Kquczfyuy/8M4F/pJMgADgTuKhZlPBy4OnVufguW0+m7Y4AkiRJktTTUlVjHYPGSKvVqnZ7pTsaSpIkSZLWUklmV1VrsHpOJZAkSZIkqYeZGJAkSZIkqYeZGJAkSZIkqYeZGJAkSZIkqYe5K8EwSbIF8AVgH+Bx4LfA/19VF4/gNT8DXFtVP16d9vMeeJIpp1w2zFFJWlPc664jkiRJWgUmBoZBkgDfB86tqvc2ZdsCh77AftepqmdXdL6q/u6F9C9JkiRJklMJhsfBwG+r6qy+gqq6r6q+lGRCktOTzEoyN8nx0EkmNOXzk8xLclRTfmCSmUkuAW5ryv42yZ1JrktyfpKTmvJzkhzZHP9dc435SWY0yQpJkiRJklbKEQPDYyfg5hWc+yDwZFXtlWR94PokPwT2AKYCuwGbAbOSXNu02QPYuaruSbIX8AdNvXWb68we4DrTq+ozAEm+CRwC/KB/pSTTgGkAEzbefHXuVZIkSZI0jpgYGAFJvgzsR2edgfuAXfue7AOTge2a8+dX1TLg4STXAHsBvwZuqqp7mvpvBP6tqhYDi5M878t+46AkJwMbApsCCxggMVBVM4AZAOtvuV294JuVJEmSJK3VTAwMjwV0nuoDUFUfTrIZ0Ab+C/hIVV3R3SDJ21fS39NDuXiSicCZQKuqfpHkVGDiUPqQJEmSJPUm1xgYHlcBE5P8aVfZhs3PK4A/TbIuQJLtk7wYmAkc1axBsDlwAHDTAH1fD7wzycQkk+hMEeivLwnwSFPnyAHqSJIkSZL0PI4YGAZVVUkOB77QDOf/FZ2n/p8AvgtMAW5uFgT8FXA4cDGwLzAHKODkqnooyQ79+p7VLEQ4F3gYmAc82a/OE0nOBuYDDwGzViXuXbaeTNvtzCRJkiSpp6XKaeZruiSTqmpRkg2Ba4FpVbWixQ5XWavVqna7/cIDlCRJkiStcZLMrqrWYPUcMbB2mJFkRzpTBs4djqSAJEmSJElgYmCtUFXvHesYJEmSJEnjk4sPSpIkSZLUw0wMSJIkSZLUw5xKMIKSLKOzi0Cfw+nsUHBSVQ207eCK+mkB76+qEwY4dy/QqqpHhhrfnKee4eU/uXWozSRJkjTCHjpo6liHIKmHmBgYWb+pquf8Vz3JlKF0kGSdqmoDbh8gSZIkSRp2TiUYQ0k2TfL9JHOT3JBk16b81CTfTHI98M0kBya5tDn30iQ/TLIgyVeBdPX3/SSzm3PTxuauJEmSJElrExMDI2uDJLc2r4sHOP9p4Jaq2hX4K+AbXed2BN5cVUf3a/Mp4Lqq2gm4GHhl17kPVNWeQAs4IclL+18wybQk7STt5U8+8QJuTZIkSZI0HjiVYGQ9bypBP/sBfwBQVVc1owE2bs5dUlW/GaDNAcC7mjaXJXm869wJSY5ojrcBtgMe7W5cVTOAGQDrvm7HGuoNSZIkSZLGFxMDa66nh1I5yYHAm4F9q+qZJFcDE0cgLkmSJEnSOGJiYGzNBI4B/r75Yv9IVf06ycraXAu8F/iHJG8HXtKUTwYeb5ICOwD7DHbx3TbakLYr3kqSJElSTzMxMLZOBb6WZC7wDHDsKrT5NHB+kgXAT4H/asovBz6U5HbgTuCG4Q9XkiRJkjTepMpp5r2q1WpVu+0uiJIkSZI0HiWZXVWtweq5K4EkSZIkST3MxIAkSZIkST3MxIAkSZIkST3MxIAkSZIkST1sxHYlSLIMmAesCzwLfAP4QlUtT9IC3l9VJ6yg7RTgDVX17RWc3wo4o6qOXMn1TwRmVNUzQ4h5f+AsYCmwb1X9puvcy4EvAnsBTwAPAydW1V0ruYdLq2rnVb3+SuI6DmhV1Z8PcO6nVfWG1en3qafmceVVr3mh4QHwpoN/Piz9SJIkSZJG10iOGPhNVU2tqp2AtwBvBz4FUFXtFSUFGlOA9w50Isk6VfXgypICjROBDYcY8zHAPzZxdycFAlwMXF1Vr6mqPYFPAlsMsf9ht7pJAUmSJEmSYJSmElTVQmAa8OfpODDJpQBJ/meSW5vXLUk2Ak4D9m/KPprkuCSXJLkKuDLJlCTzm/YTkvxzkvlJ5ib5SJITgK2AnyT5Sf94krypuda8JF9Lsn6SPwbeDfx9kvP6NTkIWFpVZ3Xd05yqmtncz+nN9eclOWqA6x2XZHrX+0uTHNgcL2raL0jy4yR7J7k6yd1JDu3qZpum/D+TfKqrr0XNz0lJrkxycxPHYUP4J5IkSZIk9agRm0rQX1XdnWQC8LJ+p04CPlxV1yeZBCwGTgFOqqpD4L+H0u8B7FpVjzXD9PtMozPCYGpVPZtk06bOx4CDquqR7oslmQicA7ypqu5K8g3gT6vqi0n2ozP8/8J+Me4MzF7Brb0LmArsBmwGzEpy7ar9VgB4MXBVVX08ycXAP9AZYbEjcC5wSVNv7yaOZ5prXFZV7a5+FgNHVNWvk2wG3JDkkqqqfvc/jc7vjJe9bNT++SVJkiRJa6g1YfHB64HPN0/5N6mqZ1dQ70dV9dgA5W8G/ldfuxXU6fY64J6utQHOBQ5Yjbj77AecX1XLquph4Bo66xCsqt8ClzfH84Brqmppczylq96PqurRZorD95rrdgvwuSRzgR8DWzPAVIeqmlFVrapqbbLJmvDPL0mSJEkaS6P2zTDJq4FlwMLu8qo6DfhjYAPg+iQ7rKCLp0c2wpVaAOz5Ato/y3N/1xO7jpd2PdVfDiwBqKrlPHdEx3Oe/A/w/hhgc2DPqppKZ3HEiUiSJEmStBKjMpY8yeZ0VvufXlXVWcvvv8+9pqrmAfOS7AXsAPwC2GgVu/8RcHySn3RPJQCeavp4pF/9O4EpSV5bVT8D3kfnKf/KXEXnafy0qprRxL0rMBmY2Vz/XGBTOqMPPs5zv5TfC/xZkhfReZK/9yreW7e3JNkU+A1wOPCBfucnAwurammSg4BtB+two4124U0HtwerJkmSJEkax0YyMbBBklv53XaF3wQ+P0C9E5svssvpPJn/v83xsiRz6KwH8PhKrvNVYHtgbpKlwNnAdGAGcHmSB6vqoL7KVbU4yR8B302yDjCLTtJihZpkxhHAF5N8gs58/nvp7HxwHbAvMIfOU/yTq+qhfusgXA/cA9wG3A7cvLLrrcBNwEXAK4Bv9VtfAOA84AdJ5gFt4I7VuIYkSZIkqcek39p06iGtVqvabUcMSJIkSdJ4lGR2VbUGq+fqc5IkSZIk9TATA5IkSZIk9TATA5IkSZIk9TATA5IkSZIk9bBR2a5wPEiyDJjH73ZZ+AbwhapavpI2U4BLq2rn0YhxqB588EFOPfXUUbnWaF1HkiRJkjQ0JgZW3W+qaipAkpcB3wY2Bj41plE1kkyoqmVjHYckSZIkae3iVILVUFULgWnAn6djQpLTk8xKMjfJ8f3bJJmSZGaSm5vXG5ryLyc5tDm+OMnXmuMPJPlsc/z9JLOTLEgyravPRUn+JckcYN8keya5pql7RZItR+HXIUmSJElaizliYDVV1d1JJgAvAw4DnqyqvZKsD1yf5IdAdTVZCLylqhYn2Q44H2gBM4H9gUuArYG+L/P7Axc0xx+oqseSbADMSnJRVT0KvBi4sar+Msm6wDXAYVX1qyRHAZ8FPtAdd5NYmAYwefLkYf2dSJIkSZLWPiYGhsfvAbsmObJ5PxnYDrirq866wPQkU4FlwPZN+UzgxCQ7ArcBL2me9O8LnNDUOSHJEc3xNk3fjzb9XNSUvw7YGfhREoAJwC/7B1pVM4AZAFtttVX1Py9JkiRJ6i0mBlZTklfT+WK+EAjwkaq6ol+dKV1vPwo8DOxGZwrHYoCqeiDJJsDbgGuBTYF3A4uq6qkkBwJvBvatqmeSXA1MbPpc3LWuQIAFVbXv8N6pJEmSJGk8MzGwGpJsDpwFTK+qSnIF8KdJrqqqpUm2Bx7o12wycH9VLU9yLJ0n+n1uAE4EDgZeClzYvPraPd4kBXYA9llBWHcCmyfZt6r+o5lasH1VLVjRfWy11VbuFiBJkiRJPc7EwKrbIMmt/G67wm8Cn2/OfRWYAtyczjj+XwGH92t/JnBRkvcDlwNPd52bCfxeVf0syX10Rg3MbM5dDnwoye10vvzfMFBwVfXbZirDGUkm0/m3/SKwwsSAJEmSJEmpcpp5r2q1WtVut8c6DEmSJEnSCEgyu6pag9Vzu0JJkiRJknqYiQFJkiRJknqYiQFJkiRJknpYzy4+mOTldBbn2wt4gs5WgidW1V1jFM+JwIyqeqZ5/+/Ae6vqiSH2MwV4Q1V9e7C6v31gEfefMnOwahpDrzht/7EOQZIkSdI415MjBpqdAy4Grq6q11TVnsAngS3GMKwTgQ373lTV7w81KdCYArx3uIKSJEmSJI1vPZkYAA4CllbVWX0FVTUHuC7J6UnmJ5mX5CiAJAcmuTrJhUnuSHJek1wgyb2aSg1bAAAZ4UlEQVRJPp3k5qbNDk35i5N8LclNSW5JclhTPiHJPzfXmJvkI0lOALYCfpLkJ139btYcv7+pOyfJN5uyc5rtCWneL2oOTwP2T3Jrko+O7K9RkiRJkrS269WpBDsDswcofxcwFdgN2AyYleTa5tzuwE7Ag8D1wBuB65pzj1TVHkn+DDgJ+GPgr4GrquoDSTYBbkryY+D9dJ7qT62qZ5NsWlWPJfkYcFBVPdIdUJKdgL+hMz3gkSSbDnJvpwAnVdUhq/zbkCRJkiT1rF4dMbAi+wHnV9WyqnoYuIbOGgQAN1XV/VW1HLiVzpf7Pt9rfs7uKv894JQktwJXAxOBVwJvBv5XVT0LUFWPDRLTwcB3+xIGq1B/pZJMS9JO0n7smdWZqSBJkiRJGk96dcTAAuDIQWs915Ku42U893e3ZIDyAH9QVXd2d9LMQBgOz9IkdpK8CFhvVRpV1QxgBsCuW+5QwxWMJEmSJGnt1KsjBq4C1k8yra8gya50dic4qlkHYHPgAOCm1bzGFcBHutYi2L0p/xFwfJJ1mvK+qQFPARutINY/TPLSfvXvBfZsjg8F1h2kH0mSJEmSnqcnRwxUVSU5Avhikk8Ai+l80T4RmATMAQo4uaoe6ltQcIj+ns52iHObJ/r3AIcAXwW2b8qXAmcD0+k8xb88yYNVdVBXrAuSfBa4Jsky4BbguKbdvyWZA1wOPN00mQssa8rPqaovrCjA9bae5HZ4kiRJktTjUuVo8l7VarWq3W6PdRiSJEmSpBGQZHZVtQar16tTCSRJkiRJEiYGJEmSJEnqaSYGJEmSJEnqYSYGJEmSJEnqYT25K8ELleTldHYc2IvOFocPAydW1V0D1J0CXFpVO49AHKcCi6rqn1en/cN3/4x/OeqQ4Q1Ko+Ivv3PpWIcgSZIkaZxwxMAQJQlwMXB1Vb2mqvYEPglsMUz9m6yRJEmSJI0aEwNDdxCwtKrO6iuoqjnAdUlOTzI/ybwkR/VvmGRikq83529JclBTflySS5JcBVyZZFKSK5Pc3NQ9rKuPv05yV5LrgNd1lU9NckOSuUkuTvKSkfwlSJIkSZLGB59OD93OwOwByt8FTAV2AzYDZiW5tl+dDwNVVbsk2QH4YZLtm3N7ALtW1WPNqIEjqurXSTYDbkhySVPnPc111gFu7orlG8BHquqaJJ8BPgWc2D/IJNOAaQAv2XCD1fsNSJIkSZLGDUcMDJ/9gPOrallVPQxcQ2cNgv51vgVQVXcA9wF9iYEfVdVjzXGAzyWZC/wY2JrOVIX9gYur6pmq+jVwCUCSycAmVXVN0/5c4ICBgqyqGVXVqqrWi9df7wXftCRJkiRp7WZiYOgWAHuOQL9Pdx0fA2wO7FlVU+ksbjhxBK4pSZIkSepxJgaG7ipg/WZIPgBJdqWzO8FRSSYk2ZzOE/ub+rWdSedLP80UglcCdw5wjcnAwqpa2qxDsG1Tfi1weJINkmwEvBOgqp4EHk+yf1PvfXRGLEiSJEmStFKuMTBEVVVJjgC+mOQTwGLgXjrz+ScBc4ACTq6qh5rtCvucCXwlyTzgWeC4qlrS2ejgOc4DftDUawN3NNe+Ocl3mmssBGZ1tTkWOCvJhsDdwB8Ndi9bvPq1bnsnSZIkST0uVTXWMWiMtFqtarfbYx2GJEmSJGkEJJldVa3B6jmVQJIkSZKkHmZiQJIkSZKkHmZiQJIkSZKkHmZiQJIkSZKkHuauBKsoycuBLwJ70dma8GHgxKq6awX1F1XVpCRbAWdU1ZFN+fnATsDXq+oLLzCm5/Q9VAvve4ovf+iqFxKCJEmSJPWUD5918FiHMOxMDKyCdPYTvBg4t6re05TtBmwBDJgY6FNVDwJ9SYGXA3tV1WuHcO11qurZwfqWJEmSJGl1OJVg1RwELK2qs/oKqmoOcEuSK5PcnGReksP6N0wyJcn85u0Pga2T3Jpk/yRTk9yQZG6Si5O8pGlzdZIvJmkDf5HknCRnJPlpkruTHNm/7+Z4ZhPLzUneMMK/E0mSJEnSOGBiYNXsDMweoHwxcERV7UEnefAvzeiCFTkU+HlVTa2qmcA3gE9U1a7APOBTXXXXq6pWVf1L835LYD/gEOC0AfpeCLylieUo4IyBAkgyLUk7SXvR4idWEqokSZIkqRc4leCFCfC5JAcAy4Gt6UwveGjQhslkYJOquqYpOhf4bleV7/Rr8v2qWg7clmSLAbpcF5ieZCqwDNh+oOtW1QxgBsArN39dDRanJEmSJGl8MzGwahYw8Fz+Y4DNgT2rammSe4GJw3TNp/u9X9J1PNCohI/SWRBxNzojQRYPUxySJEmSpHHMxMCquYrOyIBpzRN3kuwKbAssbJICBzXvV0lVPZnk8ST7N9MK3gdcM1i7lZgM3F9Vy5McC0wYrMHLtt1oXK6oKUmSJElada4xsAqqqoAjgDcn+XmSBcA/Av8OtJLMA94P3DHEro8FTk8yF5gKfOYFhHkmcGySOcAOPH/EgSRJkiRJz5POd171olarVe12e6zDkCRJkiSNgCSzq6o1WD1HDEiSJEmS1MNMDEiSJEmS1MNMDEiSJEmS1MNMDEiSJEmS1MPcrnCIkhwOXAy8vqqetwtBkinApVW18yiHNmSL5y/g9h1eP9ZhaACvv+P2sQ5BkiRJUo9wxMDQHQ1c1/x8jiQmWiRJkiRJaxUTA0OQZBKwH/BB4D1N2YFJZia5BLitX/1XJ7klyV5JpjT1bm5eb+hqf3WSC5PckeS8JGnOnZbktiRzk/xzU/bOJDc2/f44yRZN+f9McmvzuiXJRqP3m5EkSZIkra18wj00hwGXV9VdSR5NsmdTvgewc1Xd00wlIMnrgAuA46pqTpINgbdU1eIk2wHnA337Se4O7AQ8CFwPvDHJ7cARwA5VVUk2aepeB+zTlP0xcDLwl8BJwIer6vomgbF4oBtIMg2YBrDlOv7zS5IkSVKvc8TA0BxN58s+zc++6QQ3VdU9XfU2B/4NOKaq5jRl6wJnJ5kHfBfYsav+TVV1f1UtB24FpgBP0vly/7+TvAt4pqn7CuCKpp+P00koQCeh8PkkJwCbVNWzA91AVc2oqlZVtTadYGJAkiRJknqdiYFVlGRT4GDgq0nupfOl/N1AgKf7VX8S+C860w76fBR4GNiNzkiB9brOLek6Xgas03yx3xu4EDgEuLw5/yVgelXtAhwPTASoqtOAPwY2AK5PssMLuF1JkiRJUo/wkfGqOxL4ZlUd31eQ5Bpg/wHq/pbONIArkiyqqm8Dk4H7q2p5kmOBCSu7WDMdYMOq+vck1wN3N6cmAw80x8d21X9NVc0D5iXZC9gBeN6uCd0m7rwTr2+3V1ZFkiRJkjTOOWJg1R1NZ5vCbhcxwO4EAFX1NJ0n/R9NcihwJnBskjl0vrT3H2XQ30bApUnm0llX4GNN+anAd5PMBh7pqn9ikvlN/aXA/13VG5MkSZIk9a5U1VjHoDHSarWq7YgBSZIkSRqXksyuqtZg9RwxIEmSJElSDzMxIEmSJElSDzMxIEmSJElSDzMxIEmSJElSD3O7whGQ5HA6Oxi8vqoG3DIwyU+r6g2jG9lzLXh0Abucu8tYhiA9z7xj5411CJIkSVJPccTAyDiazhaDz9vKMMk6AGOdFJAkSZIkCUwMDLskk4D9gA8C72nKDkwyM8klwG1N2aLm52eS3Nq8Hkjy9ab8Y0nmN68Tm7IpSW5PcnaSBUl+mGSD5tyfJJmVZE6Si5JsOPp3L0mSJEla25gYGH6HAZdX1V3Ao0n2bMr3AP6iqrbvrlxVf1dVU4EDgceA6U2bPwL+B7AP8CdJdm+abAd8uap2Ap4A/qAp/15V7VVVuwG300lMPE+SaUnaSdrLnlo2TLcsSZIkSVpbmRgYfkcDFzTHF/C76QQ3VdU9AzVIEuBbwOerajadEQcXV9XTVbUI+B6wf1P9nqq6tTmeDUxpjnduRiXMA44BdhroWlU1o6paVdWasNGE1b5JSZIkSdL44OKDwyjJpsDBwC5JCpgAFHAZ8PRKmp4K3F9VX1+FyyzpOl4GbNAcnwMcXlVzkhxHZwSCJEmSJEkrZWJgeB0JfLOqju8rSHINv3va/zxJ3gm8GTioq3gmcE6S04AARwDvG+TaGwG/TLIunREDDwwW7E4v3Yn2se3BqkmSJEmSxjGnEgyvo+lsU9jtIgbYnaDLx4CtgZuaBQg/U1U30xkBcBNwI/DVqrplkGv/bVP3emDALRIlSZIkSeovVTXWMWiMtFqtarcdMSBJkiRJ41GS2VXVGqyeIwYkSZIkSephJgYkSZIkSephJgYkSZIkSeph7kowCpIcTmdRwtdX1R1JpgCXVtXOq9HXoqqaNCyBPXgLnDp5aG1OfXJYLi1JkiRJWjM4YmB0HA1cx8p3J5AkSZIkadSZGBhhSSYB+wEfBN4zwPkpSWYmubl5vaEp3zLJtc0WhvOT7N+v3WZJ/iPJO5JMSnJl035eksNG5eYkSZIkSWs9pxKMvMOAy6vqriSPJtkTeLTr/ELgLVW1OMl2wPlAC3gvcEVVfTbJBGDDvgZJtgAuAf6mqn6UZB3giKr6dZLNgBuSXFLuRSlJkiRJGoSJgZF3NPCvzfEFzfvpXefXBaYnmQosA7ZvymcBX0uyLvD9qrq1q/6VwIer6pqmLMDnkhwALAe2BrYAHuofTJJpwDSAV07OsNygJEmSJGnt5VSCEZRkU+Bg4KtJ7gU+Drybzhf5Ph8FHgZ2ozNSYD2AqroWOAB4ADgnyfub+s8Cs4G3dvVxDLA5sGdVTW36mzhQTFU1o6paVdXafEMTA5IkSZLU60wMjKwjgW9W1bZVNaWqtgHuAbbpqjMZ+GVVLQfeB0wASLIt8HBVnQ18FdijqV/AB4Adknyiq4+FVbU0yUHAtiN9Y5IkSZKk8cGpBCPraOCf+pVdBHyy6/2ZwEXNiIDLgaeb8gOBjydZCiwC+kYMUFXLkhwNXJLkKeA84AdJ5gFt4I5Vim6r3eHU9lDvSZIkSZI0jsT16XpXq9WqdtvEgCRJkiSNR0lmV1VrsHpOJZAkSZIkqYeZGJAkSZIkqYeZGJAkSZIkqYeZGJAkSZIkqYe5K8FqSnI4cDHw+qq6I8kU4NKq2nklbQ4ETqqqQ0YlyEHMe+BJppxy2ViHIa3Uvae9Y6xDkCRJksY1RwysvqOB65qfkiRJkiStlUwMrIYkk4D9gA8C7xng/JQkM5Pc3Lze0HV64ySXJbkzyVlJXtS0+UqSdpIFST7d1de9Sf4xya3N+T2SXJHk50k+1BdPkiuba81LctjI/gYkSZIkSeOFUwlWz2HA5VV1V5JHk+wJPNp1fiHwlqpanGQ74Hygb+/IvYEdgfuAy4F3ARcCf11VjyWZAFyZZNeqmtu0+a+qmprkC8A5wBuBicB84CxgMXBEVf06yWbADUkuqarqH3iSacA0gAkbbz5svxBJkiRJ0trJEQOr52jggub4Ap4/nWBd4Owk84Dv0kkE9Lmpqu6uqmV0Egb7NeXvTnIzcAuwU782lzQ/5wE3VtVTVfUrYEmSTYAAn0syF/gxsDWwxUCBV9WMqmpVVWvChpOHfOOSJEmSpPHFEQNDlGRT4GBglyQFTAAK+HJXtY8CDwO70Um+LO461/8pfiV5FXASsFdVPZ7kHDojAvosaX4u7zrue78OcAywObBnVS1Ncm+/9pIkSZIkDcgRA0N3JPDNqtq2qqZU1TbAPcA2XXUmA7+squXA++gkD/rsneRVzdoCR9FZwHBj4GngySRbAG8fYkyTgYVNUuAgYNvVujNJkiRJUs9xxMDQHQ38U7+yi4BPdr0/E7goyfvprCPwdNe5WcB04LXAT4CLq2p5kluAO4BfANcPMabzgB80UxfaTT+D2mXrybTdCk6SJEmSeloGWJ9OPaLValW73R7rMCRJkiRJIyDJ7KpqDVbPqQSSJEmSJPUwRwz0sCRPAXeOdRzSGmYz4JGxDkJag/iZkJ7Lz4T0fH4u1lzbVtWg+9S7xkBvu3NVhpVIvSRJ28+F9Dt+JqTn8jMhPZ+fi7WfUwkkSZIkSephJgYkSZIkSephJgZ624yxDkBaA/m5kJ7Lz4T0XH4mpOfzc7GWc/FBSZIkSZJ6mCMGJEmSJEnqYSYGJEmSJEnqYSYGelSStyW5M8nPkpwy1vFIqyPJ15IsTDK/q2zTJD9K8p/Nz5c05UlyRvM3PzfJHl1tjm3q/2eSY7vK90wyr2lzRpKs7jWk0ZBkmyQ/SXJbkgVJ/qIp93OhnpRkYpKbksxpPhOfbspfleTG5u/yO0nWa8rXb97/rDk/pauvTzbldyZ5a1f5gP9PtTrXkEZLkglJbklyafPez0SPMzHQg5JMAL4MvB3YETg6yY5jG5W0Ws4B3tav7BTgyqraDriyeQ+dv/ftmtc04CvQ+TIDfAr4H8DewKf6vtA0df6kq93bVuca0ih6FvjLqtoR2Af4cPPfdz8X6lVLgIOrajdgKvC2JPsA/wR8oapeCzwOfLCp/0Hg8ab8C009ms/Re4Cd6PzNn9l8sVrZ/1MN6RrSKPsL4Pau934mepyJgd60N/Czqrq7qn4LXAAcNsYxSUNWVdcCj/UrPgw4tzk+Fzi8q/wb1XEDsEmSLYG3Aj+qqseq6nHgR3T+x3FLYOOquqE6q7R+o19fQ7mGNCqq6pdVdXNz/BSd/+nbGj8X6lHN392i5u26zauAg4ELm/L+f699f8cXAm9qRsUcBlxQVUuq6h7gZ3T+f2rA/6dq2gz1GtKoSPIK4B3AV5v3q/P36mdinDEx0Ju2Bn7R9f7+pkwaD7aoql82xw8BWzTHK/q7X1n5/QOUr841pFHXDMXcHbgRPxfqYc1TzFuBhXSSXD8HnqiqZ5sq3X+T//332px/EngpQ/+svHQ1riGNli8CJwPLm/er8/fqZ2KcMTEgadxqnmiO6J6so3ENaaiSTAIuAk6sql93n/NzoV5TVcuqairwCjpPM/9fe/cbqmddx3H8/Qn/bFhp9geSRaZlJ6s5c4uJhn+ogSI+iAMGh9RaD4JwVKwHZYg9W4RWYH/QAlmJlCE5glzZREQ0l27uDKS11Z6EtTRsFbFcfntw/e66WMd5ztnuc0vX+wU/7uv6/T+H6+Lc9/f8rt89NeEpSROT5CrgQFU9Mem56JXFwMAw/R54S+98RcuT/h/8cbRMub0eaPkvdd0fLX/FHPmLGUNaMklOpAsK3FVV97Zs7wsNXlU9DzwIXEj3SMsJrah/Tf7nem3lpwLPsfB75blFjCEthYuAq5Psp1vmfznwdbwnBs/AwDBtB97RdgY9iW7jkC0TnpN0vGwBRjuoXwfc18u/Np21wF/asuetwLokr2ubq60Dtrayg0nWtufcrj2ir4WMIS2Jdq1+F3i6qm7tFXlfaJCSvDHJae14OfAhur03HgSmW7Ujr9fRdTwNbGsrYLYAH2m7p7+NbjPNx3mJ91StzULHkMauqj5fVSuq6ky663VbVc3gPaGqMg0wAVcCe+ies7tx0vMxmRaTgLuBZ4AX6J5VW0/3TNovgN8ADwCnt7qh2yV3HzALrO7183G6TXP2Ah/r5a8Gdrc2twFp+Qsew2RaigRcTLeEfxews6UrvS9MQ03ASmBHuyd2Aze1/LPoPsTsBe4BTm75y9r53lZ+Vq+vG9t1/Gvgil7+nO+pFjOGybSUCbgU+Ek79p4YeBr9MZckSZIkSQPkowSSJEmSJA2YgQFJkiRJkgbMwIAkSZIkSQNmYECSJEmSpAEzMCBJkiRJ0oAZGJAkSWORpJLc0jvfmOTmJRz/5CQPJNmZ5Jojyu5M8rskTyXZk2RzkhXHMNb1Sc7one9P8oZjmb8kSUvFwIAkSRqXQ8CHJ/gB+XyAqlpVVT+Yo/xzVXUe8E6677rfluSkRY51PXDGy1WSJOmVyMCAJEkal8PA7cBnjixo/7Gf7p3/rb1emuShJPcl+W2STUlmkjyeZDbJ2XP0dXqSHyfZleSxJCuTvAn4PrCmrRj4n3Yj1fkq8AfgitbnuiSPJnkyyT1JXt3yb0qyPcnuJLenMw2sBu5qYy1vXd/Q2s8mmWrtL2l1dibZkeQ1i/rNSpJ0HBkYkCRJ4/QNYCbJqQtocx7wSeBdwEeBc6rq/cB3gBvmqP8lYEdVrQS+AGyuqgPAJ4CH24qBffMY90lgqq1w+CLwwap6H/Ar4LOtzm1Vtaaq3gMsB66qqh+1OjNtrH+0us+29t8CNra8jcCnqmoV8AFgVFeSpIkxMCBJksamqg4Cm4ENC2i2vaqeqapDwD7gZy1/FjhzjvoXA99r420DXp/ktYuYbtrrWuBc4JEkO4HrgLe2ssuS/DLJLHA58O6j9Hdve32iN+9HgFuTbABOq6rDi5inJEnHlYEBSZI0bl8D1gOn9PIO096HJHkV0H+2/1Dv+MXe+YvACeObJucDT9MFCH7e/vu/qqrOrar1SZYB3wSmq+q9wB3AsqP0N5r3v0bzrqpNdCsZltMFHqbG9LNIkjRvBgYkSdJYVdWfgR/SBQdG9gMXtOOrgROPYYiHgRno9iigW8J/cL6N2z4BG4A3A/cDjwEXJXl7Kz8lyTn8NwjwbNtzYLrXzV+Bl90vIMnZVTVbVV8GtgMGBiRJE2dgQJIkLYVbgP63E9wBXJLkKeBC4O/H0PfNwAVJdgGb6Jb+z8dX2vh7gDXAZVX1z6r6E923DNzd+nwUmKqq59u8dwNb6T7Yj9wJfPuIzQfn8um2ceEu4AXgp/OcqyRJY5OqmvQcJEmSJEnShLhiQJIkSZKkATMwIEmSJEnSgBkYkCRJkiRpwAwMSJIkSZI0YAYGJEmSJEkaMAMDkiRJkiQNmIEBSZIkSZIG7N9hl4Pb71Np/QAAAABJRU5ErkJggg==\n",
      "text/plain": [
       "<Figure size 1152x864 with 1 Axes>"
      ]
     },
     "metadata": {
      "needs_background": "light"
     },
     "output_type": "display_data"
    }
   ],
   "source": [
    "#Your code here\n",
    "df.groupby(['State'])['Deaths'].sum().plot(kind='barh', figsize=(16,12))\n",
    "plt.title('Deaths by State')\n",
    "plt.xlabel('Num of Deaths')\n",
    "plt.show()"
   ]
  },
  {
   "cell_type": "markdown",
   "metadata": {},
   "source": [
    "### Inspecting our Data\n",
    "\n",
    "Let's go one step further and get a print-out of the data type of each column. \n",
    "\n",
    "In the cell below, get the `.info()` of our DataFrame, and note the data type that each column is currently stored as.  "
   ]
  },
  {
   "cell_type": "code",
   "execution_count": 9,
   "metadata": {},
   "outputs": [
    {
     "name": "stdout",
     "output_type": "stream",
     "text": [
      "<class 'pandas.core.frame.DataFrame'>\n",
      "RangeIndex: 4115 entries, 0 to 4114\n",
      "Data columns (total 12 columns):\n",
      "Notes                       0 non-null float64\n",
      "State                       4115 non-null object\n",
      "State Code                  4115 non-null int64\n",
      "Ten-Year Age Groups         4115 non-null object\n",
      "Ten-Year Age Groups Code    4115 non-null object\n",
      "Gender                      4115 non-null object\n",
      "Gender Code                 4115 non-null object\n",
      "Race                        4115 non-null object\n",
      "Race Code                   4115 non-null object\n",
      "Deaths                      4115 non-null int64\n",
      "Population                  4115 non-null object\n",
      "Crude Rate                  4115 non-null object\n",
      "dtypes: float64(1), int64(2), object(9)\n",
      "memory usage: 385.9+ KB\n"
     ]
    }
   ],
   "source": [
    "df.info()"
   ]
  },
  {
   "cell_type": "markdown",
   "metadata": {},
   "source": [
    "Let's look at some samples from the Population column to see if the current encoding seems appropriate for the data it contains. \n",
    "\n",
    "In the cell below, display the population values for the first 5 rows in the DataFrame.  "
   ]
  },
  {
   "cell_type": "code",
   "execution_count": 10,
   "metadata": {},
   "outputs": [
    {
     "data": {
      "text/plain": [
       "0      3579\n",
       "1      7443\n",
       "2    169339\n",
       "3    347921\n",
       "4      7366\n",
       "Name: Population, dtype: object"
      ]
     },
     "execution_count": 10,
     "metadata": {},
     "output_type": "execute_result"
    }
   ],
   "source": [
    "df.Population.iloc[:5]"
   ]
  },
  {
   "cell_type": "markdown",
   "metadata": {},
   "source": [
    "Just to be extra sure, let's check the value counts to see how many times each unqiue value shows up in the dataset. We'll only look at the top 5. \n",
    "\n",
    "In the cell below, print out the top 5 `value_counts()` of the population column of the DataFrame. "
   ]
  },
  {
   "cell_type": "code",
   "execution_count": 12,
   "metadata": {},
   "outputs": [
    {
     "data": {
      "text/plain": [
       "Not Applicable    75\n",
       "4412               2\n",
       "96274              2\n",
       "4574               2\n",
       "3654               2\n",
       "Name: Population, dtype: int64"
      ]
     },
     "execution_count": 12,
     "metadata": {},
     "output_type": "execute_result"
    }
   ],
   "source": [
    "df.Population.value_counts()[:5]"
   ]
  },
  {
   "cell_type": "markdown",
   "metadata": {},
   "source": [
    "Clearly, this data should be stored as a numeric type, not a categorical type.  \n",
    "\n",
    "### 5a) Reformat the Population Column as an Integer\n",
    "As stands, not all values will be able to be reformated as integers. Most of the cells in the the `Population` column contain integer values, but the entire column is currently encoded in string format because some cells contain the string `\"Not Applicable\"`.\n",
    "\n",
    "We need to remove these rows before we can cast the Population column to an Integer data type. \n",
    "\n",
    "In the cell below:\n",
    "\n",
    "* Slice the rows of `df` where the Population column is equal to `'Not Applicable'`.\n",
    "* Use `to_drop.index`  to drop the offending rows from `df`. Be sure to set the `axis=0`, and `inplace=True`\n",
    "* Cast the Population column to an integer data type using the `.astype()` function, with the single parameter `int64` passed in. \n",
    "* Print the Population column's `dtype` attribute to confirm it is now stored in `int64` format. \n",
    "\n",
    "**_NOTE:_** `.astype()` returns a copy of the column, so make sure you set the Population column equal to what this method returns--don't just call it!"
   ]
  },
  {
   "cell_type": "code",
   "execution_count": 13,
   "metadata": {},
   "outputs": [
    {
     "name": "stdout",
     "output_type": "stream",
     "text": [
      "int64\n"
     ]
    }
   ],
   "source": [
    "#Your code here\n",
    "to_drop = df[df['Population'] == 'Not Applicable']\n",
    "df.drop(to_drop.index, axis=0, inplace=True)\n",
    "df.Population = df.Population.astype('int64')\n",
    "print(df.Population.dtype)"
   ]
  },
  {
   "cell_type": "markdown",
   "metadata": {},
   "source": [
    "### 5b) Complete the Bar Chart\n",
    "\n",
    "Now that we've reformatted our data, let's create a bar chart of the of the Mean Population by State."
   ]
  },
  {
   "cell_type": "code",
   "execution_count": 16,
   "metadata": {},
   "outputs": [
    {
     "data": {
      "image/png": "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\n",
      "text/plain": [
       "<Figure size 1152x864 with 1 Axes>"
      ]
     },
     "metadata": {
      "needs_background": "light"
     },
     "output_type": "display_data"
    }
   ],
   "source": [
    "#Your code here\n",
    "df.groupby('State')['Population'].mean().plot(kind='barh', figsize=(16,12))\n",
    "plt.title('Population by State')\n",
    "plt.xlabel('Num of People')\n",
    "plt.show()"
   ]
  },
  {
   "cell_type": "markdown",
   "metadata": {},
   "source": [
    "Below we will investigate how we can combine the **pivot** method along with the **groupby** method to combine some cool **stacked bar charts**!\n",
    "\n",
    "### Using Aggregate Functions\n",
    "\n",
    "In the cell below:\n",
    "\n",
    "* Group `df` by `'State'` and  `'Gender'`, and then slice both `'Death'` and `'Population'` from it. Chain the `.agg()` method to return the mean, min, max, and standard deviation these sliced columns. \n",
    "\n",
    "**_NOTE:_** This only requires one line of code.  \n",
    "\n",
    "By now, you've probably caught on that the code required to do this follows this pattern:    `([things to group by])[columns to slice].agg([aggregates to return])`\n",
    "\n",
    "Then, display the head of this of this new DataFrame."
   ]
  },
  {
   "cell_type": "code",
   "execution_count": 19,
   "metadata": {},
   "outputs": [
    {
     "data": {
      "text/html": [
       "<div>\n",
       "<style scoped>\n",
       "    .dataframe tbody tr th:only-of-type {\n",
       "        vertical-align: middle;\n",
       "    }\n",
       "\n",
       "    .dataframe tbody tr th {\n",
       "        vertical-align: top;\n",
       "    }\n",
       "\n",
       "    .dataframe thead tr th {\n",
       "        text-align: left;\n",
       "    }\n",
       "\n",
       "    .dataframe thead tr:last-of-type th {\n",
       "        text-align: right;\n",
       "    }\n",
       "</style>\n",
       "<table border=\"1\" class=\"dataframe\">\n",
       "  <thead>\n",
       "    <tr>\n",
       "      <th></th>\n",
       "      <th></th>\n",
       "      <th colspan=\"4\" halign=\"left\">Deaths</th>\n",
       "      <th colspan=\"4\" halign=\"left\">Population</th>\n",
       "    </tr>\n",
       "    <tr>\n",
       "      <th></th>\n",
       "      <th></th>\n",
       "      <th>mean</th>\n",
       "      <th>min</th>\n",
       "      <th>max</th>\n",
       "      <th>std</th>\n",
       "      <th>mean</th>\n",
       "      <th>min</th>\n",
       "      <th>max</th>\n",
       "      <th>std</th>\n",
       "    </tr>\n",
       "    <tr>\n",
       "      <th>State</th>\n",
       "      <th>Gender</th>\n",
       "      <th></th>\n",
       "      <th></th>\n",
       "      <th></th>\n",
       "      <th></th>\n",
       "      <th></th>\n",
       "      <th></th>\n",
       "      <th></th>\n",
       "      <th></th>\n",
       "    </tr>\n",
       "  </thead>\n",
       "  <tbody>\n",
       "    <tr>\n",
       "      <th rowspan=\"2\" valign=\"top\">Alabama</th>\n",
       "      <th>Female</th>\n",
       "      <td>10753.325000</td>\n",
       "      <td>10</td>\n",
       "      <td>116297</td>\n",
       "      <td>24612.250487</td>\n",
       "      <td>1.078713e+06</td>\n",
       "      <td>2087</td>\n",
       "      <td>4334752</td>\n",
       "      <td>1.400309e+06</td>\n",
       "    </tr>\n",
       "    <tr>\n",
       "      <th>Male</th>\n",
       "      <td>10765.850000</td>\n",
       "      <td>10</td>\n",
       "      <td>88930</td>\n",
       "      <td>20813.538537</td>\n",
       "      <td>1.014946e+06</td>\n",
       "      <td>1129</td>\n",
       "      <td>4284775</td>\n",
       "      <td>1.397830e+06</td>\n",
       "    </tr>\n",
       "    <tr>\n",
       "      <th rowspan=\"2\" valign=\"top\">Alaska</th>\n",
       "      <th>Female</th>\n",
       "      <td>679.975000</td>\n",
       "      <td>13</td>\n",
       "      <td>4727</td>\n",
       "      <td>1154.870455</td>\n",
       "      <td>1.440403e+05</td>\n",
       "      <td>1224</td>\n",
       "      <td>682855</td>\n",
       "      <td>2.015793e+05</td>\n",
       "    </tr>\n",
       "    <tr>\n",
       "      <th>Male</th>\n",
       "      <td>860.357143</td>\n",
       "      <td>12</td>\n",
       "      <td>5185</td>\n",
       "      <td>1411.777392</td>\n",
       "      <td>1.518884e+05</td>\n",
       "      <td>578</td>\n",
       "      <td>770502</td>\n",
       "      <td>2.238843e+05</td>\n",
       "    </tr>\n",
       "    <tr>\n",
       "      <th>Arizona</th>\n",
       "      <th>Female</th>\n",
       "      <td>8998.386364</td>\n",
       "      <td>21</td>\n",
       "      <td>133923</td>\n",
       "      <td>26245.941003</td>\n",
       "      <td>1.246502e+06</td>\n",
       "      <td>12211</td>\n",
       "      <td>6265346</td>\n",
       "      <td>2.096632e+06</td>\n",
       "    </tr>\n",
       "  </tbody>\n",
       "</table>\n",
       "</div>"
      ],
      "text/plain": [
       "                      Deaths                              Population         \\\n",
       "                        mean min     max           std          mean    min   \n",
       "State   Gender                                                                \n",
       "Alabama Female  10753.325000  10  116297  24612.250487  1.078713e+06   2087   \n",
       "        Male    10765.850000  10   88930  20813.538537  1.014946e+06   1129   \n",
       "Alaska  Female    679.975000  13    4727   1154.870455  1.440403e+05   1224   \n",
       "        Male      860.357143  12    5185   1411.777392  1.518884e+05    578   \n",
       "Arizona Female   8998.386364  21  133923  26245.941003  1.246502e+06  12211   \n",
       "\n",
       "                                       \n",
       "                    max           std  \n",
       "State   Gender                         \n",
       "Alabama Female  4334752  1.400309e+06  \n",
       "        Male    4284775  1.397830e+06  \n",
       "Alaska  Female   682855  2.015793e+05  \n",
       "        Male     770502  2.238843e+05  \n",
       "Arizona Female  6265346  2.096632e+06  "
      ]
     },
     "execution_count": 19,
     "metadata": {},
     "output_type": "execute_result"
    }
   ],
   "source": [
    "# A sample groupby similar to above. \n",
    "group_df = df.groupby(['State', 'Gender'])['Deaths', 'Population'].agg(['mean', 'min', 'max', 'std'])\n",
    "group_df.head()"
   ]
  },
  {
   "cell_type": "markdown",
   "metadata": {},
   "source": [
    "Note how Pandas denotes a multi-hierarchical index in the DataFrame above.  \n",
    "\n",
    "Let's inspect how a multi-hierarchical index is actually stored.  \n",
    "\n",
    "In the cell below, display the `index` attribute of this DataFrame. "
   ]
  },
  {
   "cell_type": "code",
   "execution_count": 20,
   "metadata": {},
   "outputs": [
    {
     "data": {
      "text/plain": [
       "MultiIndex(levels=[['Alabama', 'Alaska', 'Arizona', 'Arkansas', 'California', 'Colorado', 'Connecticut', 'Delaware', 'District of Columbia', 'Florida', 'Georgia', 'Hawaii', 'Idaho', 'Illinois', 'Indiana', 'Iowa', 'Kansas', 'Kentucky', 'Louisiana', 'Maine', 'Maryland', 'Massachusetts', 'Michigan', 'Minnesota', 'Mississippi', 'Missouri', 'Montana', 'Nebraska', 'Nevada', 'New Hampshire', 'New Jersey', 'New Mexico', 'New York', 'North Carolina', 'North Dakota', 'Ohio', 'Oklahoma', 'Oregon', 'Pennsylvania', 'Rhode Island', 'South Carolina', 'South Dakota', 'Tennessee', 'Texas', 'Utah', 'Vermont', 'Virginia', 'Washington', 'West Virginia', 'Wisconsin', 'Wyoming'], ['Female', 'Male']],\n",
       "           labels=[[0, 0, 1, 1, 2, 2, 3, 3, 4, 4, 5, 5, 6, 6, 7, 7, 8, 8, 9, 9, 10, 10, 11, 11, 12, 12, 13, 13, 14, 14, 15, 15, 16, 16, 17, 17, 18, 18, 19, 19, 20, 20, 21, 21, 22, 22, 23, 23, 24, 24, 25, 25, 26, 26, 27, 27, 28, 28, 29, 29, 30, 30, 31, 31, 32, 32, 33, 33, 34, 34, 35, 35, 36, 36, 37, 37, 38, 38, 39, 39, 40, 40, 41, 41, 42, 42, 43, 43, 44, 44, 45, 45, 46, 46, 47, 47, 48, 48, 49, 49, 50, 50], [0, 1, 0, 1, 0, 1, 0, 1, 0, 1, 0, 1, 0, 1, 0, 1, 0, 1, 0, 1, 0, 1, 0, 1, 0, 1, 0, 1, 0, 1, 0, 1, 0, 1, 0, 1, 0, 1, 0, 1, 0, 1, 0, 1, 0, 1, 0, 1, 0, 1, 0, 1, 0, 1, 0, 1, 0, 1, 0, 1, 0, 1, 0, 1, 0, 1, 0, 1, 0, 1, 0, 1, 0, 1, 0, 1, 0, 1, 0, 1, 0, 1, 0, 1, 0, 1, 0, 1, 0, 1, 0, 1, 0, 1, 0, 1, 0, 1, 0, 1, 0, 1]],\n",
       "           names=['State', 'Gender'])"
      ]
     },
     "execution_count": 20,
     "metadata": {},
     "output_type": "execute_result"
    }
   ],
   "source": [
    "group_df.index"
   ]
  },
  {
   "cell_type": "markdown",
   "metadata": {},
   "source": [
    "A two-dimensional array denotes the multiple levels, with each possible combination being a row in our `grouped` DataFrame.  \n",
    "\n",
    "Let's reset the index, and then see how it changes. \n",
    "\n",
    "In the cell below, call the DataFrame's `reset_index()` function.  Then, display the head of the DataFrame.  "
   ]
  },
  {
   "cell_type": "code",
   "execution_count": 21,
   "metadata": {},
   "outputs": [
    {
     "data": {
      "text/html": [
       "<div>\n",
       "<style scoped>\n",
       "    .dataframe tbody tr th:only-of-type {\n",
       "        vertical-align: middle;\n",
       "    }\n",
       "\n",
       "    .dataframe tbody tr th {\n",
       "        vertical-align: top;\n",
       "    }\n",
       "\n",
       "    .dataframe thead tr th {\n",
       "        text-align: left;\n",
       "    }\n",
       "</style>\n",
       "<table border=\"1\" class=\"dataframe\">\n",
       "  <thead>\n",
       "    <tr>\n",
       "      <th></th>\n",
       "      <th>State</th>\n",
       "      <th>Gender</th>\n",
       "      <th colspan=\"4\" halign=\"left\">Deaths</th>\n",
       "      <th colspan=\"4\" halign=\"left\">Population</th>\n",
       "    </tr>\n",
       "    <tr>\n",
       "      <th></th>\n",
       "      <th></th>\n",
       "      <th></th>\n",
       "      <th>mean</th>\n",
       "      <th>min</th>\n",
       "      <th>max</th>\n",
       "      <th>std</th>\n",
       "      <th>mean</th>\n",
       "      <th>min</th>\n",
       "      <th>max</th>\n",
       "      <th>std</th>\n",
       "    </tr>\n",
       "  </thead>\n",
       "  <tbody>\n",
       "    <tr>\n",
       "      <th>0</th>\n",
       "      <td>Alabama</td>\n",
       "      <td>Female</td>\n",
       "      <td>10753.325000</td>\n",
       "      <td>10</td>\n",
       "      <td>116297</td>\n",
       "      <td>24612.250487</td>\n",
       "      <td>1.078713e+06</td>\n",
       "      <td>2087</td>\n",
       "      <td>4334752</td>\n",
       "      <td>1.400309e+06</td>\n",
       "    </tr>\n",
       "    <tr>\n",
       "      <th>1</th>\n",
       "      <td>Alabama</td>\n",
       "      <td>Male</td>\n",
       "      <td>10765.850000</td>\n",
       "      <td>10</td>\n",
       "      <td>88930</td>\n",
       "      <td>20813.538537</td>\n",
       "      <td>1.014946e+06</td>\n",
       "      <td>1129</td>\n",
       "      <td>4284775</td>\n",
       "      <td>1.397830e+06</td>\n",
       "    </tr>\n",
       "    <tr>\n",
       "      <th>2</th>\n",
       "      <td>Alaska</td>\n",
       "      <td>Female</td>\n",
       "      <td>679.975000</td>\n",
       "      <td>13</td>\n",
       "      <td>4727</td>\n",
       "      <td>1154.870455</td>\n",
       "      <td>1.440403e+05</td>\n",
       "      <td>1224</td>\n",
       "      <td>682855</td>\n",
       "      <td>2.015793e+05</td>\n",
       "    </tr>\n",
       "    <tr>\n",
       "      <th>3</th>\n",
       "      <td>Alaska</td>\n",
       "      <td>Male</td>\n",
       "      <td>860.357143</td>\n",
       "      <td>12</td>\n",
       "      <td>5185</td>\n",
       "      <td>1411.777392</td>\n",
       "      <td>1.518884e+05</td>\n",
       "      <td>578</td>\n",
       "      <td>770502</td>\n",
       "      <td>2.238843e+05</td>\n",
       "    </tr>\n",
       "    <tr>\n",
       "      <th>4</th>\n",
       "      <td>Arizona</td>\n",
       "      <td>Female</td>\n",
       "      <td>8998.386364</td>\n",
       "      <td>21</td>\n",
       "      <td>133923</td>\n",
       "      <td>26245.941003</td>\n",
       "      <td>1.246502e+06</td>\n",
       "      <td>12211</td>\n",
       "      <td>6265346</td>\n",
       "      <td>2.096632e+06</td>\n",
       "    </tr>\n",
       "  </tbody>\n",
       "</table>\n",
       "</div>"
      ],
      "text/plain": [
       "     State  Gender        Deaths                              Population  \\\n",
       "                            mean min     max           std          mean   \n",
       "0  Alabama  Female  10753.325000  10  116297  24612.250487  1.078713e+06   \n",
       "1  Alabama    Male  10765.850000  10   88930  20813.538537  1.014946e+06   \n",
       "2   Alaska  Female    679.975000  13    4727   1154.870455  1.440403e+05   \n",
       "3   Alaska    Male    860.357143  12    5185   1411.777392  1.518884e+05   \n",
       "4  Arizona  Female   8998.386364  21  133923  26245.941003  1.246502e+06   \n",
       "\n",
       "                                 \n",
       "     min      max           std  \n",
       "0   2087  4334752  1.400309e+06  \n",
       "1   1129  4284775  1.397830e+06  \n",
       "2   1224   682855  2.015793e+05  \n",
       "3    578   770502  2.238843e+05  \n",
       "4  12211  6265346  2.096632e+06  "
      ]
     },
     "execution_count": 21,
     "metadata": {},
     "output_type": "execute_result"
    }
   ],
   "source": [
    "# First, reset the index. Notice the subtle difference; State and Gender are now columns rather then the index.\n",
    "group_df = group_df.reset_index()\n",
    "group_df.head()"
   ]
  },
  {
   "cell_type": "markdown",
   "metadata": {},
   "source": [
    "Note how the way the index is displayed has changed.  The index columns that made up the multi-hierarchical index before are now stored as columns of data, with each row given a more traditional numerical index. \n",
    "\n",
    "Let's confirm this by reexamining the `index` attribute of `grouped` in the cell below."
   ]
  },
  {
   "cell_type": "code",
   "execution_count": 22,
   "metadata": {},
   "outputs": [
    {
     "data": {
      "text/plain": [
       "RangeIndex(start=0, stop=102, step=1)"
      ]
     },
     "execution_count": 22,
     "metadata": {},
     "output_type": "execute_result"
    }
   ],
   "source": [
    "group_df.index"
   ]
  },
  {
   "cell_type": "markdown",
   "metadata": {},
   "source": [
    "However, look again at the displayed DataFrame--specifically, the columns.  Resetting the index has caused the DataFrame to use a mutlti-indexed structure for the columns. \n",
    "\n",
    "In the cell below, examine the `columns` attribute of `grouped` to confirm this. "
   ]
  },
  {
   "cell_type": "code",
   "execution_count": 23,
   "metadata": {},
   "outputs": [
    {
     "data": {
      "text/plain": [
       "MultiIndex(levels=[['Deaths', 'Population', 'Gender', 'State'], ['mean', 'min', 'max', 'std', '']],\n",
       "           labels=[[3, 2, 0, 0, 0, 0, 1, 1, 1, 1], [4, 4, 0, 1, 2, 3, 0, 1, 2, 3]])"
      ]
     },
     "execution_count": 23,
     "metadata": {},
     "output_type": "execute_result"
    }
   ],
   "source": [
    "#Notice that this causes columns to be MultiIndexed!\n",
    "group_df.columns"
   ]
  },
  {
   "cell_type": "markdown",
   "metadata": {},
   "source": [
    "#### Column Levels\n",
    "\n",
    "Since we're working with miulti-hierarchical indices, we can examine the indices available at each level.\n",
    "\n",
    "In the cell below, use the `get_level_values` method contained within the DataFrame's `columns` object to get the values for the outermost layer of the index. "
   ]
  },
  {
   "cell_type": "code",
   "execution_count": 24,
   "metadata": {},
   "outputs": [
    {
     "data": {
      "text/plain": [
       "Index(['State', 'Gender', 'Deaths', 'Deaths', 'Deaths', 'Deaths', 'Population',\n",
       "       'Population', 'Population', 'Population'],\n",
       "      dtype='object')"
      ]
     },
     "execution_count": 24,
     "metadata": {},
     "output_type": "execute_result"
    }
   ],
   "source": [
    "group_df.columns.get_level_values(0)"
   ]
  },
  {
   "cell_type": "markdown",
   "metadata": {},
   "source": [
    "Now, get the level values for the inner layer of the index. "
   ]
  },
  {
   "cell_type": "code",
   "execution_count": 25,
   "metadata": {},
   "outputs": [
    {
     "data": {
      "text/plain": [
       "Index(['', '', 'mean', 'min', 'max', 'std', 'mean', 'min', 'max', 'std'], dtype='object')"
      ]
     },
     "execution_count": 25,
     "metadata": {},
     "output_type": "execute_result"
    }
   ],
   "source": [
    "group_df.columns.get_level_values(1)"
   ]
  },
  {
   "cell_type": "markdown",
   "metadata": {},
   "source": [
    "### Flattening the DataFrame\n",
    "\n",
    "We can also **_flatten_** the DataFrame from a multi-hierarchical index to more traditional one-dimensional index.  We do this by creating each unique combination possible of every level of the multi-hierarchical index.  Since this is a complex task, you do not need to write it--but take some time to examine the code in the cell below and see if you can understand how it works! "
   ]
  },
  {
   "cell_type": "code",
   "execution_count": 26,
   "metadata": {},
   "outputs": [
    {
     "data": {
      "text/plain": [
       "Index(['State', 'Gender', 'Deaths_mean', 'Deaths_min', 'Deaths_max',\n",
       "       'Deaths_std', 'Population_mean', 'Population_min', 'Population_max',\n",
       "       'Population_std'],\n",
       "      dtype='object')"
      ]
     },
     "execution_count": 26,
     "metadata": {},
     "output_type": "execute_result"
    }
   ],
   "source": [
    "#We could also flatten these:\n",
    "cols0 = group_df.columns.get_level_values(0)\n",
    "cols1 = group_df.columns.get_level_values(1)\n",
    "group_df.columns = [col0 + '_' + col1 if col1 != '' else col0 for col0, col1 in list(zip(cols0, cols1))]\n",
    "#The list comprehension above is more complicated then what we need but creates a nicer formatting and\n",
    "#demonstrates using a conditional within a list comprehension.\n",
    "#This simpler version works but has some tail underscores where col1 is blank:\n",
    "#grouped.columns = [col0 + '_' + col1 for col0, col1 in list(zip(cols0, cols1))]\n",
    "group_df.columns"
   ]
  },
  {
   "cell_type": "markdown",
   "metadata": {},
   "source": [
    "Now that we've flattened the DataFrame, let's inspect a couple rows to see what it looks like. \n",
    "\n",
    "In the cell below, inspect the head of the `grouped` DataFrame. "
   ]
  },
  {
   "cell_type": "code",
   "execution_count": 27,
   "metadata": {},
   "outputs": [
    {
     "data": {
      "text/html": [
       "<div>\n",
       "<style scoped>\n",
       "    .dataframe tbody tr th:only-of-type {\n",
       "        vertical-align: middle;\n",
       "    }\n",
       "\n",
       "    .dataframe tbody tr th {\n",
       "        vertical-align: top;\n",
       "    }\n",
       "\n",
       "    .dataframe thead th {\n",
       "        text-align: right;\n",
       "    }\n",
       "</style>\n",
       "<table border=\"1\" class=\"dataframe\">\n",
       "  <thead>\n",
       "    <tr style=\"text-align: right;\">\n",
       "      <th></th>\n",
       "      <th>State</th>\n",
       "      <th>Gender</th>\n",
       "      <th>Deaths_mean</th>\n",
       "      <th>Deaths_min</th>\n",
       "      <th>Deaths_max</th>\n",
       "      <th>Deaths_std</th>\n",
       "      <th>Population_mean</th>\n",
       "      <th>Population_min</th>\n",
       "      <th>Population_max</th>\n",
       "      <th>Population_std</th>\n",
       "    </tr>\n",
       "  </thead>\n",
       "  <tbody>\n",
       "    <tr>\n",
       "      <th>0</th>\n",
       "      <td>Alabama</td>\n",
       "      <td>Female</td>\n",
       "      <td>10753.325000</td>\n",
       "      <td>10</td>\n",
       "      <td>116297</td>\n",
       "      <td>24612.250487</td>\n",
       "      <td>1.078713e+06</td>\n",
       "      <td>2087</td>\n",
       "      <td>4334752</td>\n",
       "      <td>1.400309e+06</td>\n",
       "    </tr>\n",
       "    <tr>\n",
       "      <th>1</th>\n",
       "      <td>Alabama</td>\n",
       "      <td>Male</td>\n",
       "      <td>10765.850000</td>\n",
       "      <td>10</td>\n",
       "      <td>88930</td>\n",
       "      <td>20813.538537</td>\n",
       "      <td>1.014946e+06</td>\n",
       "      <td>1129</td>\n",
       "      <td>4284775</td>\n",
       "      <td>1.397830e+06</td>\n",
       "    </tr>\n",
       "    <tr>\n",
       "      <th>2</th>\n",
       "      <td>Alaska</td>\n",
       "      <td>Female</td>\n",
       "      <td>679.975000</td>\n",
       "      <td>13</td>\n",
       "      <td>4727</td>\n",
       "      <td>1154.870455</td>\n",
       "      <td>1.440403e+05</td>\n",
       "      <td>1224</td>\n",
       "      <td>682855</td>\n",
       "      <td>2.015793e+05</td>\n",
       "    </tr>\n",
       "    <tr>\n",
       "      <th>3</th>\n",
       "      <td>Alaska</td>\n",
       "      <td>Male</td>\n",
       "      <td>860.357143</td>\n",
       "      <td>12</td>\n",
       "      <td>5185</td>\n",
       "      <td>1411.777392</td>\n",
       "      <td>1.518884e+05</td>\n",
       "      <td>578</td>\n",
       "      <td>770502</td>\n",
       "      <td>2.238843e+05</td>\n",
       "    </tr>\n",
       "    <tr>\n",
       "      <th>4</th>\n",
       "      <td>Arizona</td>\n",
       "      <td>Female</td>\n",
       "      <td>8998.386364</td>\n",
       "      <td>21</td>\n",
       "      <td>133923</td>\n",
       "      <td>26245.941003</td>\n",
       "      <td>1.246502e+06</td>\n",
       "      <td>12211</td>\n",
       "      <td>6265346</td>\n",
       "      <td>2.096632e+06</td>\n",
       "    </tr>\n",
       "  </tbody>\n",
       "</table>\n",
       "</div>"
      ],
      "text/plain": [
       "     State  Gender   Deaths_mean  Deaths_min  Deaths_max    Deaths_std  \\\n",
       "0  Alabama  Female  10753.325000          10      116297  24612.250487   \n",
       "1  Alabama    Male  10765.850000          10       88930  20813.538537   \n",
       "2   Alaska  Female    679.975000          13        4727   1154.870455   \n",
       "3   Alaska    Male    860.357143          12        5185   1411.777392   \n",
       "4  Arizona  Female   8998.386364          21      133923  26245.941003   \n",
       "\n",
       "   Population_mean  Population_min  Population_max  Population_std  \n",
       "0     1.078713e+06            2087         4334752    1.400309e+06  \n",
       "1     1.014946e+06            1129         4284775    1.397830e+06  \n",
       "2     1.440403e+05            1224          682855    2.015793e+05  \n",
       "3     1.518884e+05             578          770502    2.238843e+05  \n",
       "4     1.246502e+06           12211         6265346    2.096632e+06  "
      ]
     },
     "execution_count": 27,
     "metadata": {},
     "output_type": "execute_result"
    }
   ],
   "source": [
    "group_df.head()"
   ]
  },
  {
   "cell_type": "markdown",
   "metadata": {},
   "source": [
    "## Using Pivots\n",
    "\n",
    "Now, we'll gain some practice using the DataFrame class's built-in `.pivot()` method.  \n",
    "\n",
    "In the cell below, call the DataFrame's pivot method with the following parameters:\n",
    "\n",
    "* index = `'State'`\n",
    "* columns = `'Gender'`\n",
    "* values = `'Deaths_mean'`\n",
    "\n",
    "Then, display the head of our new `pivot` DataFrame to see what it looks like. "
   ]
  },
  {
   "cell_type": "code",
   "execution_count": 29,
   "metadata": {},
   "outputs": [
    {
     "data": {
      "text/html": [
       "<div>\n",
       "<style scoped>\n",
       "    .dataframe tbody tr th:only-of-type {\n",
       "        vertical-align: middle;\n",
       "    }\n",
       "\n",
       "    .dataframe tbody tr th {\n",
       "        vertical-align: top;\n",
       "    }\n",
       "\n",
       "    .dataframe thead th {\n",
       "        text-align: right;\n",
       "    }\n",
       "</style>\n",
       "<table border=\"1\" class=\"dataframe\">\n",
       "  <thead>\n",
       "    <tr style=\"text-align: right;\">\n",
       "      <th>Gender</th>\n",
       "      <th>Female</th>\n",
       "      <th>Male</th>\n",
       "    </tr>\n",
       "    <tr>\n",
       "      <th>State</th>\n",
       "      <th></th>\n",
       "      <th></th>\n",
       "    </tr>\n",
       "  </thead>\n",
       "  <tbody>\n",
       "    <tr>\n",
       "      <th>Alabama</th>\n",
       "      <td>10753.325000</td>\n",
       "      <td>10765.850000</td>\n",
       "    </tr>\n",
       "    <tr>\n",
       "      <th>Alaska</th>\n",
       "      <td>679.975000</td>\n",
       "      <td>860.357143</td>\n",
       "    </tr>\n",
       "    <tr>\n",
       "      <th>Arizona</th>\n",
       "      <td>8998.386364</td>\n",
       "      <td>10036.204545</td>\n",
       "    </tr>\n",
       "    <tr>\n",
       "      <th>Arkansas</th>\n",
       "      <td>6621.615385</td>\n",
       "      <td>6301.690476</td>\n",
       "    </tr>\n",
       "    <tr>\n",
       "      <th>California</th>\n",
       "      <td>48312.840909</td>\n",
       "      <td>49555.522727</td>\n",
       "    </tr>\n",
       "  </tbody>\n",
       "</table>\n",
       "</div>"
      ],
      "text/plain": [
       "Gender            Female          Male\n",
       "State                                 \n",
       "Alabama     10753.325000  10765.850000\n",
       "Alaska        679.975000    860.357143\n",
       "Arizona      8998.386364  10036.204545\n",
       "Arkansas     6621.615385   6301.690476\n",
       "California  48312.840909  49555.522727"
      ]
     },
     "execution_count": 29,
     "metadata": {},
     "output_type": "execute_result"
    }
   ],
   "source": [
    "# Now it's time to pivot!\n",
    "pivot = group_df.pivot(index='State', columns='Gender', values='Deaths_mean')\n",
    "pivot.head()"
   ]
  },
  {
   "cell_type": "markdown",
   "metadata": {},
   "source": [
    "Great! We've just created a pivot table.  \n",
    "\n",
    "Let's reset the index and see how it changes our pivot table. \n",
    "\n",
    "In the cell below, reset the index of the `pivot` object as we did previously.  Then, display the head of the object to see if we can detect any changes."
   ]
  },
  {
   "cell_type": "code",
   "execution_count": 30,
   "metadata": {},
   "outputs": [
    {
     "data": {
      "text/html": [
       "<div>\n",
       "<style scoped>\n",
       "    .dataframe tbody tr th:only-of-type {\n",
       "        vertical-align: middle;\n",
       "    }\n",
       "\n",
       "    .dataframe tbody tr th {\n",
       "        vertical-align: top;\n",
       "    }\n",
       "\n",
       "    .dataframe thead th {\n",
       "        text-align: right;\n",
       "    }\n",
       "</style>\n",
       "<table border=\"1\" class=\"dataframe\">\n",
       "  <thead>\n",
       "    <tr style=\"text-align: right;\">\n",
       "      <th>Gender</th>\n",
       "      <th>State</th>\n",
       "      <th>Female</th>\n",
       "      <th>Male</th>\n",
       "    </tr>\n",
       "  </thead>\n",
       "  <tbody>\n",
       "    <tr>\n",
       "      <th>0</th>\n",
       "      <td>Alabama</td>\n",
       "      <td>10753.325000</td>\n",
       "      <td>10765.850000</td>\n",
       "    </tr>\n",
       "    <tr>\n",
       "      <th>1</th>\n",
       "      <td>Alaska</td>\n",
       "      <td>679.975000</td>\n",
       "      <td>860.357143</td>\n",
       "    </tr>\n",
       "    <tr>\n",
       "      <th>2</th>\n",
       "      <td>Arizona</td>\n",
       "      <td>8998.386364</td>\n",
       "      <td>10036.204545</td>\n",
       "    </tr>\n",
       "    <tr>\n",
       "      <th>3</th>\n",
       "      <td>Arkansas</td>\n",
       "      <td>6621.615385</td>\n",
       "      <td>6301.690476</td>\n",
       "    </tr>\n",
       "    <tr>\n",
       "      <th>4</th>\n",
       "      <td>California</td>\n",
       "      <td>48312.840909</td>\n",
       "      <td>49555.522727</td>\n",
       "    </tr>\n",
       "  </tbody>\n",
       "</table>\n",
       "</div>"
      ],
      "text/plain": [
       "Gender       State        Female          Male\n",
       "0          Alabama  10753.325000  10765.850000\n",
       "1           Alaska    679.975000    860.357143\n",
       "2          Arizona   8998.386364  10036.204545\n",
       "3         Arkansas   6621.615385   6301.690476\n",
       "4       California  48312.840909  49555.522727"
      ]
     },
     "execution_count": 30,
     "metadata": {},
     "output_type": "execute_result"
    }
   ],
   "source": [
    "# Again, notice the subtle difference of reseting the index:\n",
    "pivot = pivot.reset_index()\n",
    "pivot.head()"
   ]
  },
  {
   "cell_type": "markdown",
   "metadata": {},
   "source": [
    "### Visualizing Data With Pivot Tables\n",
    "\n",
    "Now, we'll make use of our newly created pivot table to quickly create some visualizations of our data.  \n",
    "\n",
    "In the cell below, call `pivot.plot()` with the following parameters:\n",
    "\n",
    "* kind = `'barh'`\n",
    "* figsize = `(15,8)`"
   ]
  },
  {
   "cell_type": "code",
   "execution_count": 34,
   "metadata": {},
   "outputs": [
    {
     "data": {
      "text/plain": [
       "<matplotlib.axes._subplots.AxesSubplot at 0x1230174a8>"
      ]
     },
     "execution_count": 34,
     "metadata": {},
     "output_type": "execute_result"
    },
    {
     "data": {
      "image/png": "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\n",
      "text/plain": [
       "<Figure size 1152x1152 with 1 Axes>"
      ]
     },
     "metadata": {
      "needs_background": "light"
     },
     "output_type": "display_data"
    }
   ],
   "source": [
    "# Now let's make a sweet bar chart!!\n",
    "pivot.plot(kind='barh', figsize=(16, 12))"
   ]
  },
  {
   "cell_type": "markdown",
   "metadata": {},
   "source": [
    "Notice the Y-axis is currently just a list of numbers.  That's because when we reset the index, it defaulted to assigning integers as the index for the DataFrame.  Let's set the index back to `'State'`, and then recreate the visualization. \n",
    "\n",
    "In the cell below:\n",
    "\n",
    "* Use the `pivot` object's `set_index()` method and set the index to `'State'`.  Then, chain this with a `.plot()` call to recreate the visualization using the code we used in the cell above.  \n",
    "\n",
    "All the code in this cell should be done in a single line.  Just call the methods--do not rebind `pivot` to be equal to this line of code. "
   ]
  },
  {
   "cell_type": "code",
   "execution_count": 35,
   "metadata": {},
   "outputs": [
    {
     "data": {
      "text/plain": [
       "<matplotlib.axes._subplots.AxesSubplot at 0x123725240>"
      ]
     },
     "execution_count": 35,
     "metadata": {},
     "output_type": "execute_result"
    },
    {
     "data": {
      "image/png": "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\n",
      "text/plain": [
       "<Figure size 1152x864 with 1 Axes>"
      ]
     },
     "metadata": {
      "needs_background": "light"
     },
     "output_type": "display_data"
    }
   ],
   "source": [
    "#Where's the states?! Notice the y-axis is just a list of numbers.\n",
    "#This is populated by the DataFrame's index.\n",
    "#When we used the .reset_index() method, we created a new numbered index to name each row. \n",
    "#Let's fix that by making state the index again.\n",
    "pivot.set_index('State').plot(kind='barh', figsize=(16, 12))"
   ]
  },
  {
   "cell_type": "markdown",
   "metadata": {},
   "source": [
    "Now, that we've created a visualization with the states as the y-axis, let's print out the head of the `pivot` object again. "
   ]
  },
  {
   "cell_type": "code",
   "execution_count": 36,
   "metadata": {},
   "outputs": [
    {
     "data": {
      "text/html": [
       "<div>\n",
       "<style scoped>\n",
       "    .dataframe tbody tr th:only-of-type {\n",
       "        vertical-align: middle;\n",
       "    }\n",
       "\n",
       "    .dataframe tbody tr th {\n",
       "        vertical-align: top;\n",
       "    }\n",
       "\n",
       "    .dataframe thead th {\n",
       "        text-align: right;\n",
       "    }\n",
       "</style>\n",
       "<table border=\"1\" class=\"dataframe\">\n",
       "  <thead>\n",
       "    <tr style=\"text-align: right;\">\n",
       "      <th>Gender</th>\n",
       "      <th>State</th>\n",
       "      <th>Female</th>\n",
       "      <th>Male</th>\n",
       "    </tr>\n",
       "  </thead>\n",
       "  <tbody>\n",
       "    <tr>\n",
       "      <th>0</th>\n",
       "      <td>Alabama</td>\n",
       "      <td>10753.325</td>\n",
       "      <td>10765.850000</td>\n",
       "    </tr>\n",
       "    <tr>\n",
       "      <th>1</th>\n",
       "      <td>Alaska</td>\n",
       "      <td>679.975</td>\n",
       "      <td>860.357143</td>\n",
       "    </tr>\n",
       "  </tbody>\n",
       "</table>\n",
       "</div>"
      ],
      "text/plain": [
       "Gender    State     Female          Male\n",
       "0       Alabama  10753.325  10765.850000\n",
       "1        Alaska    679.975    860.357143"
      ]
     },
     "execution_count": 36,
     "metadata": {},
     "output_type": "execute_result"
    }
   ],
   "source": [
    "# Also notice that if we call the DataFrame pivot again, state is not it's index.\n",
    "#The above method returned a DataFrame with State as index and we plotted it,\n",
    "#but it did not update the DataFrame itself.\n",
    "pivot.head()"
   ]
  },
  {
   "cell_type": "markdown",
   "metadata": {},
   "source": [
    "Note that the index has not changed.  That's because the code we wrote when we set the index to the 'State' column returns a copy of the DataFrame object with the index set to 'State'--by default, it does not mutate original `pivot` object.  \n",
    "\n",
    "If we want to do that, we'll need to capture the new object returned by updating the contents of the `pivot` variable.  \n",
    "\n",
    "In the cell below, set the index of `pivot` to `'State'`.  Then, recreate the bar plot using this new object.  "
   ]
  },
  {
   "cell_type": "code",
   "execution_count": 37,
   "metadata": {},
   "outputs": [
    {
     "data": {
      "text/plain": [
       "<matplotlib.axes._subplots.AxesSubplot at 0x11f9ea780>"
      ]
     },
     "execution_count": 37,
     "metadata": {},
     "output_type": "execute_result"
    },
    {
     "data": {
      "image/png": "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\n",
      "text/plain": [
       "<Figure size 1152x864 with 1 Axes>"
      ]
     },
     "metadata": {
      "needs_background": "light"
     },
     "output_type": "display_data"
    }
   ],
   "source": [
    "#If we wanted to more permanently change the index we would set it first and then plot:\n",
    "pivot = pivot.set_index('State')\n",
    "pivot.plot(kind='barh', figsize=(16, 12))"
   ]
  },
  {
   "cell_type": "markdown",
   "metadata": {},
   "source": [
    "Again, let's check the head of the DataFrame to confirm that the index structure has changed.  "
   ]
  },
  {
   "cell_type": "code",
   "execution_count": null,
   "metadata": {},
   "outputs": [],
   "source": [
    "pivot.head()"
   ]
  },
  {
   "cell_type": "markdown",
   "metadata": {},
   "source": [
    "Finally, let's stack these bar charts to see how that looks. \n",
    "\n",
    "In the cell below, recreate the visualization we did in the cell above, but this time, also pass in `stacked=True` as a parameter. "
   ]
  },
  {
   "cell_type": "code",
   "execution_count": 39,
   "metadata": {},
   "outputs": [
    {
     "data": {
      "text/plain": [
       "<matplotlib.axes._subplots.AxesSubplot at 0x123919080>"
      ]
     },
     "execution_count": 39,
     "metadata": {},
     "output_type": "execute_result"
    },
    {
     "data": {
      "image/png": "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\n",
      "text/plain": [
       "<Figure size 1152x864 with 1 Axes>"
      ]
     },
     "metadata": {
      "needs_background": "light"
     },
     "output_type": "display_data"
    }
   ],
   "source": [
    "# Lastly, let's stack each of these bars for each state.\n",
    "#Notice we don't have to worry about index here, because we've already set it above.\n",
    "pivot.plot(kind='barh', figsize=(16, 12), stacked=True)"
   ]
  },
  {
   "cell_type": "markdown",
   "metadata": {},
   "source": [
    "## Stacking and Unstacking DataFrames\n",
    "\n",
    "Now, let's get some practice stacking and unstacking DataFrames. \n",
    "\n",
    "### Stacking\n",
    "\n",
    "In the cell below, let's display the head of `grouped` to remind ourselves of the format we left it in. "
   ]
  },
  {
   "cell_type": "code",
   "execution_count": null,
   "metadata": {},
   "outputs": [],
   "source": [
    "group_df.head()"
   ]
  },
  {
   "cell_type": "markdown",
   "metadata": {},
   "source": [
    "As we can see above, `grouped` is currently in a flattened format, with no hierarchical structure to it's indices.  \n",
    "\n",
    "In the cell below, call the `grouped` DataFrame's `.stack()` method. "
   ]
  },
  {
   "cell_type": "code",
   "execution_count": null,
   "metadata": {},
   "outputs": [],
   "source": [
    "group_df.stack()"
   ]
  },
  {
   "cell_type": "markdown",
   "metadata": {},
   "source": [
    "As we can see, the `stack()` method has stacked our DataFrame from a flattened format into one with a multi-hierarchical index! This is an easy, quick way to aggregate our data.\n",
    "\n",
    "### Unstacking \n",
    "\n",
    "Now, we'll explore unstacking with the `pivot` DataFrame, which is already stacked into a pivot table. \n",
    "\n",
    "In the cell below, set unstack `pivot` using the object's `.unstack()` method. Then, display the object to see how it has changed. "
   ]
  },
  {
   "cell_type": "code",
   "execution_count": null,
   "metadata": {},
   "outputs": [],
   "source": [
    "pivot = pivot.unstack()\n",
    "pivot"
   ]
  },
  {
   "cell_type": "markdown",
   "metadata": {},
   "source": [
    "Note that it has unstacked the multi-hierarchical structure of the `pivot` DataFrame by one level. Let's call it one more time and display the results!\n",
    "\n",
    "In the cell below, set pivot equal to `pivot.unstack()` again, and then display the `pivot` object to see how things have changed."
   ]
  },
  {
   "cell_type": "code",
   "execution_count": null,
   "metadata": {},
   "outputs": [],
   "source": [
    "pivot = pivot.unstack()\n",
    "pivot"
   ]
  },
  {
   "cell_type": "markdown",
   "metadata": {},
   "source": [
    "After calling unstack a second time, we can see that `pivot` has a flattened structure, since it has been completely unstacked!\n",
    "\n",
    "## Summary\n",
    "\n",
    "In this lab, we learned how to:\n",
    "\n",
    "* Use `groupby` to stack and slice data conditionally\n",
    "* Use aggregate functions in combination with groupby statements\n",
    "* Create pivot tables with pandas\n",
    "* Leverage pivot tables and groupby statements to create quick visualizations\n",
    "* `stack` and `unstack` DataFrames "
   ]
  }
 ],
 "metadata": {
  "kernelspec": {
   "display_name": "Python 3",
   "language": "python",
   "name": "python3"
  },
  "language_info": {
   "codemirror_mode": {
    "name": "ipython",
    "version": 3
   },
   "file_extension": ".py",
   "mimetype": "text/x-python",
   "name": "python",
   "nbconvert_exporter": "python",
   "pygments_lexer": "ipython3",
<<<<<<< HEAD
   "version": "3.7.0"
=======
   "version": "3.6.4"
>>>>>>> 51d81f4041290a98102ce71d784d013b8823d784
  }
 },
 "nbformat": 4,
 "nbformat_minor": 2
}
